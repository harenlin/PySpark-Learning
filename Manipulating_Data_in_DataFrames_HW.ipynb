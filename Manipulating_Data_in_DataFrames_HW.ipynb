{
  "nbformat": 4,
  "nbformat_minor": 0,
  "metadata": {
    "kernelspec": {
      "display_name": "Python 3",
      "language": "python",
      "name": "python3"
    },
    "language_info": {
      "codemirror_mode": {
        "name": "ipython",
        "version": 3
      },
      "file_extension": ".py",
      "mimetype": "text/x-python",
      "name": "python",
      "nbconvert_exporter": "python",
      "pygments_lexer": "ipython3",
      "version": "3.7.4"
    },
    "colab": {
      "name": "Manipulating_Data_in_DataFrames_HW.ipynb",
      "provenance": [],
      "include_colab_link": true
    }
  },
  "cells": [
    {
      "cell_type": "markdown",
      "metadata": {
        "id": "view-in-github",
        "colab_type": "text"
      },
      "source": [
        "<a href=\"https://colab.research.google.com/github/harenlin/PySpark-Learning/blob/main/Manipulating_Data_in_DataFrames_HW.ipynb\" target=\"_parent\"><img src=\"https://colab.research.google.com/assets/colab-badge.svg\" alt=\"Open In Colab\"/></a>"
      ]
    },
    {
      "cell_type": "markdown",
      "metadata": {
        "id": "BbAeXBeVulHW"
      },
      "source": [
        "# Manipulating Data in DataFrames HW\n",
        "\n",
        "\n",
        "#### Let's get started applying what we learned in the lecure!\n",
        "\n",
        "I've provided several questions below to help test and expand you knowledge from the code along lecture. So let's see what you've got!\n",
        "\n",
        "First create your spark instance as we need to do at the start of every project."
      ]
    },
    {
      "cell_type": "code",
      "metadata": {
        "colab": {
          "base_uri": "https://localhost:8080/",
          "height": 488
        },
        "id": "t134ae6RulHX",
        "outputId": "91392664-bbea-48a8-ec11-d41053fe5c65"
      },
      "source": [
        "!pip install pyspark\n",
        "import pyspark\n",
        "from pyspark.sql import SparkSession\n",
        "spark = SparkSession.builder.appName('MDD').getOrCreate()\n",
        "cores = spark._jsc.sc().getExecutorMemoryStatus().keySet().size()\n",
        "print(\"You are working with\", cores, \"core(s)\")\n",
        "spark"
      ],
      "execution_count": 1,
      "outputs": [
        {
          "output_type": "stream",
          "text": [
            "Collecting pyspark\n",
            "\u001b[?25l  Downloading https://files.pythonhosted.org/packages/89/db/e18cfd78e408de957821ec5ca56de1250645b05f8523d169803d8df35a64/pyspark-3.1.2.tar.gz (212.4MB)\n",
            "\u001b[K     |████████████████████████████████| 212.4MB 68kB/s \n",
            "\u001b[?25hCollecting py4j==0.10.9\n",
            "\u001b[?25l  Downloading https://files.pythonhosted.org/packages/9e/b6/6a4fb90cd235dc8e265a6a2067f2a2c99f0d91787f06aca4bcf7c23f3f80/py4j-0.10.9-py2.py3-none-any.whl (198kB)\n",
            "\u001b[K     |████████████████████████████████| 204kB 18.2MB/s \n",
            "\u001b[?25hBuilding wheels for collected packages: pyspark\n",
            "  Building wheel for pyspark (setup.py) ... \u001b[?25l\u001b[?25hdone\n",
            "  Created wheel for pyspark: filename=pyspark-3.1.2-py2.py3-none-any.whl size=212880768 sha256=6db09441fff5fff3a104c2ae3dd521308c8913b3b4f7c0a974d7c49171033e8a\n",
            "  Stored in directory: /root/.cache/pip/wheels/40/1b/2c/30f43be2627857ab80062bef1527c0128f7b4070b6b2d02139\n",
            "Successfully built pyspark\n",
            "Installing collected packages: py4j, pyspark\n",
            "Successfully installed py4j-0.10.9 pyspark-3.1.2\n",
            "You are working with 1 core(s)\n"
          ],
          "name": "stdout"
        },
        {
          "output_type": "execute_result",
          "data": {
            "text/html": [
              "\n",
              "            <div>\n",
              "                <p><b>SparkSession - in-memory</b></p>\n",
              "                \n",
              "        <div>\n",
              "            <p><b>SparkContext</b></p>\n",
              "\n",
              "            <p><a href=\"http://8fbe10eb4b49:4040\">Spark UI</a></p>\n",
              "\n",
              "            <dl>\n",
              "              <dt>Version</dt>\n",
              "                <dd><code>v3.1.2</code></dd>\n",
              "              <dt>Master</dt>\n",
              "                <dd><code>local[*]</code></dd>\n",
              "              <dt>AppName</dt>\n",
              "                <dd><code>MDD</code></dd>\n",
              "            </dl>\n",
              "        </div>\n",
              "        \n",
              "            </div>\n",
              "        "
            ],
            "text/plain": [
              "<pyspark.sql.session.SparkSession at 0x7fafc8749f50>"
            ]
          },
          "metadata": {
            "tags": []
          },
          "execution_count": 1
        }
      ]
    },
    {
      "cell_type": "markdown",
      "metadata": {
        "id": "cU7tzk_wulHX"
      },
      "source": [
        "## Read in our Republican vs. Democrats Tweet DataFrame\n",
        "\n",
        "Attached to the lecture"
      ]
    },
    {
      "cell_type": "code",
      "metadata": {
        "colab": {
          "base_uri": "https://localhost:8080/"
        },
        "id": "uYhPCBq9ulHX",
        "outputId": "74be75a5-d617-40f0-bdd3-4165e2f10542"
      },
      "source": [
        "from google.colab import drive\n",
        "drive.mount('/content/drive')\n",
        "\n",
        "path = '/content/drive/My Drive/PySpark/Datasets/'\n",
        "tweets = spark.read.csv(path + 'Rep_vs_Dem_tweets.csv', inferSchema=True, header=True)"
      ],
      "execution_count": 2,
      "outputs": [
        {
          "output_type": "stream",
          "text": [
            "Mounted at /content/drive\n"
          ],
          "name": "stdout"
        }
      ]
    },
    {
      "cell_type": "markdown",
      "metadata": {
        "id": "C7qB3TGIulHY"
      },
      "source": [
        "## About this dataframe\n",
        "\n",
        "Extracted tweets from all of the representatives (latest 200 as of May 17th 2018)\n",
        "\n",
        "**Source:** https://www.kaggle.com/kapastor/democratvsrepublicantweets#ExtractedTweets.csv\n",
        "\n",
        "Use either .show() or .toPandas() check out the first view rows of the dataframe to get an idea of what we are working with."
      ]
    },
    {
      "cell_type": "code",
      "metadata": {
        "colab": {
          "base_uri": "https://localhost:8080/"
        },
        "id": "L5HTjWq1ulHY",
        "outputId": "face366b-56bb-4862-eba0-99a7988a8870"
      },
      "source": [
        "tweets.show(5)"
      ],
      "execution_count": 5,
      "outputs": [
        {
          "output_type": "stream",
          "text": [
            "+--------------------+-------------+--------------------+\n",
            "|               Party|       Handle|               Tweet|\n",
            "+--------------------+-------------+--------------------+\n",
            "|            Democrat|RepDarrenSoto|Today, Senate Dem...|\n",
            "|            Democrat|RepDarrenSoto|RT @WinterHavenSu...|\n",
            "|            Democrat|RepDarrenSoto|RT @NBCLatino: .@...|\n",
            "|Congress has allo...|         null|                null|\n",
            "|            Democrat|RepDarrenSoto|RT @NALCABPolicy:...|\n",
            "+--------------------+-------------+--------------------+\n",
            "only showing top 5 rows\n",
            "\n"
          ],
          "name": "stdout"
        }
      ]
    },
    {
      "cell_type": "markdown",
      "metadata": {
        "id": "prKa0n-SulHY"
      },
      "source": [
        "**Prevent Truncation of view**\n",
        "\n",
        "If the view you produced above truncated some of the longer tweets, see if you can prevent that so you can read the whole tweet."
      ]
    },
    {
      "cell_type": "code",
      "metadata": {
        "colab": {
          "base_uri": "https://localhost:8080/"
        },
        "id": "Z6-X5HMyulHY",
        "outputId": "d4f11dbd-fc33-4297-948f-9744870a227a"
      },
      "source": [
        "tweets.show(5,False)"
      ],
      "execution_count": 6,
      "outputs": [
        {
          "output_type": "stream",
          "text": [
            "+----------------------------------+-------------+--------------------------------------------------------------------------------------------------------------------------------------------+\n",
            "|Party                             |Handle       |Tweet                                                                                                                                       |\n",
            "+----------------------------------+-------------+--------------------------------------------------------------------------------------------------------------------------------------------+\n",
            "|Democrat                          |RepDarrenSoto|Today, Senate Dems vote to #SaveTheInternet. Proud to support similar #NetNeutrality legislation here in the House… https://t.co/n3tggDLU1L |\n",
            "|Democrat                          |RepDarrenSoto|RT @WinterHavenSun: Winter Haven resident / Alta Vista teacher is one of several recognized by @RepDarrenSoto for National Teacher Apprecia…|\n",
            "|Democrat                          |RepDarrenSoto|RT @NBCLatino: .@RepDarrenSoto noted that Hurricane Maria has left approximately $90 billion in damages.                                    |\n",
            "|Congress has allocated about $18…\"|null         |null                                                                                                                                        |\n",
            "|Democrat                          |RepDarrenSoto|RT @NALCABPolicy: Meeting with @RepDarrenSoto . Thanks for taking the time to meet with @LatinoLeader ED Marucci Guzman. #NALCABPolicy2018.…|\n",
            "+----------------------------------+-------------+--------------------------------------------------------------------------------------------------------------------------------------------+\n",
            "only showing top 5 rows\n",
            "\n"
          ],
          "name": "stdout"
        }
      ]
    },
    {
      "cell_type": "markdown",
      "metadata": {
        "id": "io53eq_-ulHZ"
      },
      "source": [
        "**Print Schema**\n",
        "\n",
        "First, check the schema to make sure the datatypes are accurate. "
      ]
    },
    {
      "cell_type": "code",
      "metadata": {
        "colab": {
          "base_uri": "https://localhost:8080/"
        },
        "id": "kaQFAiw6ulHZ",
        "outputId": "fca71e24-c100-41ac-8992-38e1df9ff516"
      },
      "source": [
        "tweets.printSchema()"
      ],
      "execution_count": 8,
      "outputs": [
        {
          "output_type": "stream",
          "text": [
            "root\n",
            " |-- Party: string (nullable = true)\n",
            " |-- Handle: string (nullable = true)\n",
            " |-- Tweet: string (nullable = true)\n",
            "\n"
          ],
          "name": "stdout"
        }
      ]
    },
    {
      "cell_type": "markdown",
      "metadata": {
        "id": "q4uGoMCgulHZ"
      },
      "source": [
        "## 1. Can you identify any tweet that mentions the handle @LatinoLeader using regexp_extract?\n",
        "\n",
        "It doesn't matter how you identify the row, any identifier will do. You can test your script on row 5 from this dataset. That row contains @LatinoLeader. "
      ]
    },
    {
      "cell_type": "code",
      "metadata": {
        "colab": {
          "base_uri": "https://localhost:8080/"
        },
        "id": "DW_2mKmeulHZ",
        "outputId": "e37549f8-68f0-4c3b-8882-bf7045cd70a5"
      },
      "source": [
        "from pyspark.sql.functions import *\n",
        "latino = tweets.withColumn('Latino_Mentions', regexp_extract(tweets.Tweet, '(.)(@LatinoLeader)(.)', 0))\n",
        "# https://blog.csdn.net/hqr20627/article/details/78038649\n",
        "latino.show(5,False)"
      ],
      "execution_count": 11,
      "outputs": [
        {
          "output_type": "stream",
          "text": [
            "+----------------------------------+-------------+--------------------------------------------------------------------------------------------------------------------------------------------+---------------+\n",
            "|Party                             |Handle       |Tweet                                                                                                                                       |Latino_Mentions|\n",
            "+----------------------------------+-------------+--------------------------------------------------------------------------------------------------------------------------------------------+---------------+\n",
            "|Democrat                          |RepDarrenSoto|Today, Senate Dems vote to #SaveTheInternet. Proud to support similar #NetNeutrality legislation here in the House… https://t.co/n3tggDLU1L |               |\n",
            "|Democrat                          |RepDarrenSoto|RT @WinterHavenSun: Winter Haven resident / Alta Vista teacher is one of several recognized by @RepDarrenSoto for National Teacher Apprecia…|               |\n",
            "|Democrat                          |RepDarrenSoto|RT @NBCLatino: .@RepDarrenSoto noted that Hurricane Maria has left approximately $90 billion in damages.                                    |               |\n",
            "|Congress has allocated about $18…\"|null         |null                                                                                                                                        |null           |\n",
            "|Democrat                          |RepDarrenSoto|RT @NALCABPolicy: Meeting with @RepDarrenSoto . Thanks for taking the time to meet with @LatinoLeader ED Marucci Guzman. #NALCABPolicy2018.…| @LatinoLeader |\n",
            "+----------------------------------+-------------+--------------------------------------------------------------------------------------------------------------------------------------------+---------------+\n",
            "only showing top 5 rows\n",
            "\n"
          ],
          "name": "stdout"
        }
      ]
    },
    {
      "cell_type": "code",
      "metadata": {
        "colab": {
          "base_uri": "https://localhost:8080/"
        },
        "id": "9DNntZB_9rrw",
        "outputId": "f3c23eeb-f126-400f-8f5b-ddfd77330ef6"
      },
      "source": [
        "from pyspark.sql.functions import *\n",
        "latino = tweets.withColumn('Latino_Mentions', regexp_extract(tweets.Tweet, '(.)(@LatinoLeader)(.)', 1))\n",
        "latino.show(5,False)"
      ],
      "execution_count": 12,
      "outputs": [
        {
          "output_type": "stream",
          "text": [
            "+----------------------------------+-------------+--------------------------------------------------------------------------------------------------------------------------------------------+---------------+\n",
            "|Party                             |Handle       |Tweet                                                                                                                                       |Latino_Mentions|\n",
            "+----------------------------------+-------------+--------------------------------------------------------------------------------------------------------------------------------------------+---------------+\n",
            "|Democrat                          |RepDarrenSoto|Today, Senate Dems vote to #SaveTheInternet. Proud to support similar #NetNeutrality legislation here in the House… https://t.co/n3tggDLU1L |               |\n",
            "|Democrat                          |RepDarrenSoto|RT @WinterHavenSun: Winter Haven resident / Alta Vista teacher is one of several recognized by @RepDarrenSoto for National Teacher Apprecia…|               |\n",
            "|Democrat                          |RepDarrenSoto|RT @NBCLatino: .@RepDarrenSoto noted that Hurricane Maria has left approximately $90 billion in damages.                                    |               |\n",
            "|Congress has allocated about $18…\"|null         |null                                                                                                                                        |null           |\n",
            "|Democrat                          |RepDarrenSoto|RT @NALCABPolicy: Meeting with @RepDarrenSoto . Thanks for taking the time to meet with @LatinoLeader ED Marucci Guzman. #NALCABPolicy2018.…|               |\n",
            "+----------------------------------+-------------+--------------------------------------------------------------------------------------------------------------------------------------------+---------------+\n",
            "only showing top 5 rows\n",
            "\n"
          ],
          "name": "stdout"
        }
      ]
    },
    {
      "cell_type": "code",
      "metadata": {
        "colab": {
          "base_uri": "https://localhost:8080/"
        },
        "id": "Jt1Ug_0_9wgc",
        "outputId": "eb3707b2-0441-4c5a-ed1b-9b0c6139d8c3"
      },
      "source": [
        "from pyspark.sql.functions import *\n",
        "latino = tweets.withColumn('Latino_Mentions', regexp_extract(tweets.Tweet, '(.)(@LatinoLeader)(.)', 2))\n",
        "latino.show(5,False)"
      ],
      "execution_count": 13,
      "outputs": [
        {
          "output_type": "stream",
          "text": [
            "+----------------------------------+-------------+--------------------------------------------------------------------------------------------------------------------------------------------+---------------+\n",
            "|Party                             |Handle       |Tweet                                                                                                                                       |Latino_Mentions|\n",
            "+----------------------------------+-------------+--------------------------------------------------------------------------------------------------------------------------------------------+---------------+\n",
            "|Democrat                          |RepDarrenSoto|Today, Senate Dems vote to #SaveTheInternet. Proud to support similar #NetNeutrality legislation here in the House… https://t.co/n3tggDLU1L |               |\n",
            "|Democrat                          |RepDarrenSoto|RT @WinterHavenSun: Winter Haven resident / Alta Vista teacher is one of several recognized by @RepDarrenSoto for National Teacher Apprecia…|               |\n",
            "|Democrat                          |RepDarrenSoto|RT @NBCLatino: .@RepDarrenSoto noted that Hurricane Maria has left approximately $90 billion in damages.                                    |               |\n",
            "|Congress has allocated about $18…\"|null         |null                                                                                                                                        |null           |\n",
            "|Democrat                          |RepDarrenSoto|RT @NALCABPolicy: Meeting with @RepDarrenSoto . Thanks for taking the time to meet with @LatinoLeader ED Marucci Guzman. #NALCABPolicy2018.…|@LatinoLeader  |\n",
            "+----------------------------------+-------------+--------------------------------------------------------------------------------------------------------------------------------------------+---------------+\n",
            "only showing top 5 rows\n",
            "\n"
          ],
          "name": "stdout"
        }
      ]
    },
    {
      "cell_type": "markdown",
      "metadata": {
        "id": "I8ULlISOulHZ"
      },
      "source": [
        "## 2. Replace any value other than 'Democrate' or 'Republican' with 'Other' in the Party column.\n",
        "\n",
        "We can see from the output below, that there are several other values other than 'Democrate' or 'Republican' in the Part column. We are assuming that this is dirty data that needs to be cleaned up."
      ]
    },
    {
      "cell_type": "code",
      "metadata": {
        "colab": {
          "base_uri": "https://localhost:8080/"
        },
        "id": "Yx2WVAD6ulHZ",
        "outputId": "e22a26d5-e028-49e4-c547-00a629e7fd90"
      },
      "source": [
        "from pyspark.sql.functions import *\n",
        "counts = tweets.groupBy(\"Party\").count()\n",
        "counts.orderBy(desc(\"count\")).show(20,False)"
      ],
      "execution_count": 15,
      "outputs": [
        {
          "output_type": "stream",
          "text": [
            "+-----------------------------------------+-----+\n",
            "|Party                                    |count|\n",
            "+-----------------------------------------+-----+\n",
            "|Republican                               |44392|\n",
            "|Democrat                                 |42068|\n",
            "|That’s…\"                                 |28   |\n",
            "|https://t.co/oc6JNAF5K5                  |22   |\n",
            "|Now                                      |17   |\n",
            "|Today                                    |13   |\n",
            "|http…\"                                   |12   |\n",
            "|h…\"                                      |12   |\n",
            "|https://t…\"                              |12   |\n",
            "|❌ Terminated #DACA                       |11   |\n",
            "|❌ Abandoned Hispanic outreach for #ACA   |11   |\n",
            "|#mepolitics\"                             |11   |\n",
            "|❌ Passed #TaxScam                        |11   |\n",
            "|❌ E…\"                                    |11   |\n",
            "|https://t.co…\"                           |9    |\n",
            "|https://t.co/8htzynw0mp\"                 |9    |\n",
            "|💻 Website: https://t.co/dqyGOuzN…\"      |9    |\n",
            "|This. Has. To. Stop.…\"                   |8    |\n",
            "|The truth? Americans deserve lower cost…\"|7    |\n",
            "|https…\"                                  |7    |\n",
            "+-----------------------------------------+-----+\n",
            "only showing top 20 rows\n",
            "\n"
          ],
          "name": "stdout"
        }
      ]
    },
    {
      "cell_type": "code",
      "metadata": {
        "colab": {
          "base_uri": "https://localhost:8080/"
        },
        "id": "cdE52g2p9rFX",
        "outputId": "d29e19bf-945e-4856-fb43-9bf85ac311f6"
      },
      "source": [
        "from pyspark.sql.functions import when\n",
        "cleaned = tweets.withColumn('Party', when(tweets.Party == 'Democrat', 'Democrat').when(tweets.Party == 'Republican', 'Republican').otherwise('Other'))\n",
        "cleaned_counts = cleaned.groupBy('Party').count()\n",
        "cleaned_counts.orderBy(desc('count')).show()"
      ],
      "execution_count": 17,
      "outputs": [
        {
          "output_type": "stream",
          "text": [
            "+----------+-----+\n",
            "|     Party|count|\n",
            "+----------+-----+\n",
            "|Republican|44392|\n",
            "|  Democrat|42068|\n",
            "|     Other| 6029|\n",
            "+----------+-----+\n",
            "\n"
          ],
          "name": "stdout"
        }
      ]
    },
    {
      "cell_type": "markdown",
      "metadata": {
        "id": "UQide3GLulHa"
      },
      "source": [
        "## 3. Delete all embedded links (ie. \"https:....)\n",
        "\n",
        "For example see the first row in the tweets dataframe. \n",
        "\n",
        "*Note: this may require an google search :)*"
      ]
    },
    {
      "cell_type": "code",
      "metadata": {
        "colab": {
          "base_uri": "https://localhost:8080/"
        },
        "id": "WhCGCRWj_Afk",
        "outputId": "dffcf1a3-45c0-453a-9055-cc6886ab496d"
      },
      "source": [
        "# just glimpse the data\n",
        "tweets.select(\"tweet\").show(5,False)"
      ],
      "execution_count": 19,
      "outputs": [
        {
          "output_type": "stream",
          "text": [
            "+--------------------------------------------------------------------------------------------------------------------------------------------+\n",
            "|tweet                                                                                                                                       |\n",
            "+--------------------------------------------------------------------------------------------------------------------------------------------+\n",
            "|Today, Senate Dems vote to #SaveTheInternet. Proud to support similar #NetNeutrality legislation here in the House… https://t.co/n3tggDLU1L |\n",
            "|RT @WinterHavenSun: Winter Haven resident / Alta Vista teacher is one of several recognized by @RepDarrenSoto for National Teacher Apprecia…|\n",
            "|RT @NBCLatino: .@RepDarrenSoto noted that Hurricane Maria has left approximately $90 billion in damages.                                    |\n",
            "|null                                                                                                                                        |\n",
            "|RT @NALCABPolicy: Meeting with @RepDarrenSoto . Thanks for taking the time to meet with @LatinoLeader ED Marucci Guzman. #NALCABPolicy2018.…|\n",
            "+--------------------------------------------------------------------------------------------------------------------------------------------+\n",
            "only showing top 5 rows\n",
            "\n"
          ],
          "name": "stdout"
        }
      ]
    },
    {
      "cell_type": "code",
      "metadata": {
        "colab": {
          "base_uri": "https://localhost:8080/"
        },
        "id": "TjLhUAxR_P3q",
        "outputId": "54a750a1-bd85-41b6-9033-a0f0bf3b2e0d"
      },
      "source": [
        "tweets.withColumn('cleaned_tweet', \n",
        "                  regexp_replace('Tweet', '(http|ftp|https)://([\\w_-]+(?:(?:\\.[\\w_-]+)+))([\\w.,@?^=%&:/~+#-]*[\\w@?^=%&/~+#-])?', '')).select(['tweet', 'cleaned_tweet']).show(5,False)"
      ],
      "execution_count": 21,
      "outputs": [
        {
          "output_type": "stream",
          "text": [
            "+--------------------------------------------------------------------------------------------------------------------------------------------+--------------------------------------------------------------------------------------------------------------------------------------------+\n",
            "|tweet                                                                                                                                       |cleaned_tweet                                                                                                                               |\n",
            "+--------------------------------------------------------------------------------------------------------------------------------------------+--------------------------------------------------------------------------------------------------------------------------------------------+\n",
            "|Today, Senate Dems vote to #SaveTheInternet. Proud to support similar #NetNeutrality legislation here in the House… https://t.co/n3tggDLU1L |Today, Senate Dems vote to #SaveTheInternet. Proud to support similar #NetNeutrality legislation here in the House…                         |\n",
            "|RT @WinterHavenSun: Winter Haven resident / Alta Vista teacher is one of several recognized by @RepDarrenSoto for National Teacher Apprecia…|RT @WinterHavenSun: Winter Haven resident / Alta Vista teacher is one of several recognized by @RepDarrenSoto for National Teacher Apprecia…|\n",
            "|RT @NBCLatino: .@RepDarrenSoto noted that Hurricane Maria has left approximately $90 billion in damages.                                    |RT @NBCLatino: .@RepDarrenSoto noted that Hurricane Maria has left approximately $90 billion in damages.                                    |\n",
            "|null                                                                                                                                        |null                                                                                                                                        |\n",
            "|RT @NALCABPolicy: Meeting with @RepDarrenSoto . Thanks for taking the time to meet with @LatinoLeader ED Marucci Guzman. #NALCABPolicy2018.…|RT @NALCABPolicy: Meeting with @RepDarrenSoto . Thanks for taking the time to meet with @LatinoLeader ED Marucci Guzman. #NALCABPolicy2018.…|\n",
            "+--------------------------------------------------------------------------------------------------------------------------------------------+--------------------------------------------------------------------------------------------------------------------------------------------+\n",
            "only showing top 5 rows\n",
            "\n"
          ],
          "name": "stdout"
        }
      ]
    },
    {
      "cell_type": "markdown",
      "metadata": {
        "id": "h6jUMvR5ulHa"
      },
      "source": [
        "## 4. Remove any leading or trailing white space in the tweet column"
      ]
    },
    {
      "cell_type": "code",
      "metadata": {
        "colab": {
          "base_uri": "https://localhost:8080/"
        },
        "id": "F5jepDUaulHa",
        "outputId": "f6dfd7cf-896a-4cdd-dfe6-97de79f043af"
      },
      "source": [
        "from pyspark.sql.functions import *\n",
        "tweets.select('Tweet', trim(tweets.Tweet)).show(5,False)"
      ],
      "execution_count": 24,
      "outputs": [
        {
          "output_type": "stream",
          "text": [
            "+--------------------------------------------------------------------------------------------------------------------------------------------+--------------------------------------------------------------------------------------------------------------------------------------------+\n",
            "|Tweet                                                                                                                                       |trim(Tweet)                                                                                                                                 |\n",
            "+--------------------------------------------------------------------------------------------------------------------------------------------+--------------------------------------------------------------------------------------------------------------------------------------------+\n",
            "|Today, Senate Dems vote to #SaveTheInternet. Proud to support similar #NetNeutrality legislation here in the House… https://t.co/n3tggDLU1L |Today, Senate Dems vote to #SaveTheInternet. Proud to support similar #NetNeutrality legislation here in the House… https://t.co/n3tggDLU1L |\n",
            "|RT @WinterHavenSun: Winter Haven resident / Alta Vista teacher is one of several recognized by @RepDarrenSoto for National Teacher Apprecia…|RT @WinterHavenSun: Winter Haven resident / Alta Vista teacher is one of several recognized by @RepDarrenSoto for National Teacher Apprecia…|\n",
            "|RT @NBCLatino: .@RepDarrenSoto noted that Hurricane Maria has left approximately $90 billion in damages.                                    |RT @NBCLatino: .@RepDarrenSoto noted that Hurricane Maria has left approximately $90 billion in damages.                                    |\n",
            "|null                                                                                                                                        |null                                                                                                                                        |\n",
            "|RT @NALCABPolicy: Meeting with @RepDarrenSoto . Thanks for taking the time to meet with @LatinoLeader ED Marucci Guzman. #NALCABPolicy2018.…|RT @NALCABPolicy: Meeting with @RepDarrenSoto . Thanks for taking the time to meet with @LatinoLeader ED Marucci Guzman. #NALCABPolicy2018.…|\n",
            "+--------------------------------------------------------------------------------------------------------------------------------------------+--------------------------------------------------------------------------------------------------------------------------------------------+\n",
            "only showing top 5 rows\n",
            "\n"
          ],
          "name": "stdout"
        }
      ]
    },
    {
      "cell_type": "markdown",
      "metadata": {
        "id": "lvfzp0EmulHa"
      },
      "source": [
        "## 5. Rename the 'Party' column to 'Dem_Rep'\n",
        "\n",
        "No real reason here :) just wanted you to get practice doing this. "
      ]
    },
    {
      "cell_type": "code",
      "metadata": {
        "colab": {
          "base_uri": "https://localhost:8080/"
        },
        "id": "IBK88q9xulHb",
        "outputId": "c4e5481c-80aa-47a8-e4ec-2390a4e46a56"
      },
      "source": [
        "renamed1 = tweets.withColumnRenamed('Party', 'Dem_Rep')\n",
        "renamed1.show(5)\n",
        "\n",
        "renamed2 = tweets.withColumn('Dem_Rep', tweets.Party)\n",
        "renamed2.show(5)\n",
        "\n",
        "# see the diff ?!"
      ],
      "execution_count": 28,
      "outputs": [
        {
          "output_type": "stream",
          "text": [
            "+--------------------+-------------+--------------------+\n",
            "|             Dem_Rep|       Handle|               Tweet|\n",
            "+--------------------+-------------+--------------------+\n",
            "|            Democrat|RepDarrenSoto|Today, Senate Dem...|\n",
            "|            Democrat|RepDarrenSoto|RT @WinterHavenSu...|\n",
            "|            Democrat|RepDarrenSoto|RT @NBCLatino: .@...|\n",
            "|Congress has allo...|         null|                null|\n",
            "|            Democrat|RepDarrenSoto|RT @NALCABPolicy:...|\n",
            "+--------------------+-------------+--------------------+\n",
            "only showing top 5 rows\n",
            "\n",
            "+--------------------+-------------+--------------------+--------------------+\n",
            "|               Party|       Handle|               Tweet|             Dem_Rep|\n",
            "+--------------------+-------------+--------------------+--------------------+\n",
            "|            Democrat|RepDarrenSoto|Today, Senate Dem...|            Democrat|\n",
            "|            Democrat|RepDarrenSoto|RT @WinterHavenSu...|            Democrat|\n",
            "|            Democrat|RepDarrenSoto|RT @NBCLatino: .@...|            Democrat|\n",
            "|Congress has allo...|         null|                null|Congress has allo...|\n",
            "|            Democrat|RepDarrenSoto|RT @NALCABPolicy:...|            Democrat|\n",
            "+--------------------+-------------+--------------------+--------------------+\n",
            "only showing top 5 rows\n",
            "\n"
          ],
          "name": "stdout"
        }
      ]
    },
    {
      "cell_type": "markdown",
      "metadata": {
        "id": "e7PuP_K1ulHb"
      },
      "source": [
        "## 6. Concatenate the Party and Handle columns\n",
        "\n",
        "Silly yes... but good practice.\n",
        "\n",
        "pyspark.sql.functions.concat_ws(sep, *cols)[source] <br>\n",
        "Concatenates multiple input string columns together into a single string column, using the given separator."
      ]
    },
    {
      "cell_type": "code",
      "metadata": {
        "colab": {
          "base_uri": "https://localhost:8080/"
        },
        "id": "BOdum9QQulHb",
        "outputId": "30a5291d-ce1d-4ba0-bfe8-5deb1d2aaf10"
      },
      "source": [
        "from pyspark.sql.functions import *\n",
        "tweets.select(tweets.Party, tweets.Handle, concat_ws(' ', tweets.Party, tweets.Handle).alias('Concatenated')).show(5,False)"
      ],
      "execution_count": 29,
      "outputs": [
        {
          "output_type": "stream",
          "text": [
            "+----------------------------------+-------------+----------------------------------+\n",
            "|Party                             |Handle       |Concatenated                      |\n",
            "+----------------------------------+-------------+----------------------------------+\n",
            "|Democrat                          |RepDarrenSoto|Democrat RepDarrenSoto            |\n",
            "|Democrat                          |RepDarrenSoto|Democrat RepDarrenSoto            |\n",
            "|Democrat                          |RepDarrenSoto|Democrat RepDarrenSoto            |\n",
            "|Congress has allocated about $18…\"|null         |Congress has allocated about $18…\"|\n",
            "|Democrat                          |RepDarrenSoto|Democrat RepDarrenSoto            |\n",
            "+----------------------------------+-------------+----------------------------------+\n",
            "only showing top 5 rows\n",
            "\n"
          ],
          "name": "stdout"
        }
      ]
    },
    {
      "cell_type": "markdown",
      "metadata": {
        "id": "1osSo0jJulHb"
      },
      "source": [
        "## Challenge Question\n",
        "\n",
        "Let's image that we want to analyze the hashtags that are used in these tweets. Can you extract all the hashtags you see?"
      ]
    },
    {
      "cell_type": "code",
      "metadata": {
        "colab": {
          "base_uri": "https://localhost:8080/",
          "height": 640
        },
        "id": "VYp1CgiWulHc",
        "outputId": "06cb644d-0821-4835-ab16-933c9e969a9c"
      },
      "source": [
        "# THIS IS FROM HW SOLUTION\n",
        "\n",
        "from pyspark.sql.functions import *\n",
        "# Parenthesis are used to mark a subexpression within a larger expression\n",
        "# The . matches any character other than a new line\n",
        "# | means is like or\n",
        "# \\w+ means followed by any word\n",
        "pattern = '(.|'')(#)(\\w+)'\n",
        "# * is used to match the preceding character zero or more times.\n",
        "# ? will match the preceding character zero or one times, but no more.\n",
        "# $ is used to match the ending position in a string. \n",
        "split_pattern = r'.*?({pattern})'.format(pattern=pattern)\n",
        "end_pattern = r'(.*{pattern}).*?$'.format(pattern=pattern)\n",
        "\n",
        "# $1 here means to capture the first part of the regex result\n",
        "# The , will separate each find with a comma in the a array we create\n",
        "df2 = tweets.withColumn('a', regexp_replace('Tweet', split_pattern, '$1,')).where(col('Tweet').like('%#%'))\n",
        "df2.select('a').show(3,False)\n",
        "# Remove all the other results that came up\n",
        "df3 = df2.withColumn('a', regexp_replace('a', end_pattern, '$1'))\n",
        "df3.select('a').show(3,False)\n",
        "# Finally create an array from the result by splitting on the comma\n",
        "df4 = df3.withColumn('a', split('a', r','))\n",
        "df4.select('a').show(3,False)\n",
        "df4.limit(3).toPandas()"
      ],
      "execution_count": 30,
      "outputs": [
        {
          "output_type": "stream",
          "text": [
            "+-----------------------------------------------------------------------------------------+\n",
            "|a                                                                                        |\n",
            "+-----------------------------------------------------------------------------------------+\n",
            "| #SaveTheInternet, #NetNeutrality, legislation here in the House… https://t.co/n3tggDLU1L|\n",
            "| #NALCABPolicy2018,.…                                                                    |\n",
            "| #NetNeutrality, rules. Find out…                                                        |\n",
            "+-----------------------------------------------------------------------------------------+\n",
            "only showing top 3 rows\n",
            "\n",
            "+---------------------------------+\n",
            "|a                                |\n",
            "+---------------------------------+\n",
            "| #SaveTheInternet, #NetNeutrality|\n",
            "| #NALCABPolicy2018               |\n",
            "| #NetNeutrality                  |\n",
            "+---------------------------------+\n",
            "only showing top 3 rows\n",
            "\n",
            "+------------------------------------+\n",
            "|a                                   |\n",
            "+------------------------------------+\n",
            "|[ #SaveTheInternet,  #NetNeutrality]|\n",
            "|[ #NALCABPolicy2018]                |\n",
            "|[ #NetNeutrality]                   |\n",
            "+------------------------------------+\n",
            "only showing top 3 rows\n",
            "\n"
          ],
          "name": "stdout"
        },
        {
          "output_type": "execute_result",
          "data": {
            "text/html": [
              "<div>\n",
              "<style scoped>\n",
              "    .dataframe tbody tr th:only-of-type {\n",
              "        vertical-align: middle;\n",
              "    }\n",
              "\n",
              "    .dataframe tbody tr th {\n",
              "        vertical-align: top;\n",
              "    }\n",
              "\n",
              "    .dataframe thead th {\n",
              "        text-align: right;\n",
              "    }\n",
              "</style>\n",
              "<table border=\"1\" class=\"dataframe\">\n",
              "  <thead>\n",
              "    <tr style=\"text-align: right;\">\n",
              "      <th></th>\n",
              "      <th>Party</th>\n",
              "      <th>Handle</th>\n",
              "      <th>Tweet</th>\n",
              "      <th>a</th>\n",
              "    </tr>\n",
              "  </thead>\n",
              "  <tbody>\n",
              "    <tr>\n",
              "      <th>0</th>\n",
              "      <td>Democrat</td>\n",
              "      <td>RepDarrenSoto</td>\n",
              "      <td>Today, Senate Dems vote to #SaveTheInternet. P...</td>\n",
              "      <td>[ #SaveTheInternet,  #NetNeutrality]</td>\n",
              "    </tr>\n",
              "    <tr>\n",
              "      <th>1</th>\n",
              "      <td>Democrat</td>\n",
              "      <td>RepDarrenSoto</td>\n",
              "      <td>RT @NALCABPolicy: Meeting with @RepDarrenSoto ...</td>\n",
              "      <td>[ #NALCABPolicy2018]</td>\n",
              "    </tr>\n",
              "    <tr>\n",
              "      <th>2</th>\n",
              "      <td>Democrat</td>\n",
              "      <td>RepDarrenSoto</td>\n",
              "      <td>RT @Tharryry: I am delighted that @RepDarrenSo...</td>\n",
              "      <td>[ #NetNeutrality]</td>\n",
              "    </tr>\n",
              "  </tbody>\n",
              "</table>\n",
              "</div>"
            ],
            "text/plain": [
              "      Party  ...                                     a\n",
              "0  Democrat  ...  [ #SaveTheInternet,  #NetNeutrality]\n",
              "1  Democrat  ...                  [ #NALCABPolicy2018]\n",
              "2  Democrat  ...                     [ #NetNeutrality]\n",
              "\n",
              "[3 rows x 4 columns]"
            ]
          },
          "metadata": {
            "tags": []
          },
          "execution_count": 30
        }
      ]
    },
    {
      "cell_type": "markdown",
      "metadata": {
        "id": "D7pNTxYPulHc"
      },
      "source": [
        "# Let's create our own dataset to work with real dates\n",
        "\n",
        "This is a dataset of patient visits from a medical office. It contains the patients first and last names, date of birth, and the dates of their first 3 visits. "
      ]
    },
    {
      "cell_type": "code",
      "metadata": {
        "colab": {
          "base_uri": "https://localhost:8080/"
        },
        "id": "J0j713LhulHc",
        "outputId": "336bd183-2d31-4a1e-a7bb-3c515588e246"
      },
      "source": [
        "from pyspark.sql.types import *\n",
        "\n",
        "md_office = [('Mohammed','Alfasy','1987-4-8','2016-1-7','2017-2-3','2018-3-2') \\\n",
        "            ,('Marcy','Wellmaker','1986-4-8','2015-1-7','2017-1-3','2018-1-2') \\\n",
        "            ,('Ginny','Ginger','1986-7-10','2014-8-7','2015-2-3','2016-3-2') \\\n",
        "            ,('Vijay','Doberson','1988-5-2','2016-1-7','2018-2-3','2018-3-2') \\\n",
        "            ,('Orhan','Gelicek','1987-5-11','2016-5-7','2017-1-3','2018-9-2') \\\n",
        "            ,('Sarah','Jones','1956-7-6','2016-4-7','2017-8-3','2018-10-2') \\\n",
        "            ,('John','Johnson','2017-10-12','2018-1-2','2018-10-3','2018-3-2') ]\n",
        "\n",
        "df = spark.createDataFrame(md_office, ['first_name','last_name','dob','visit1','visit2','visit3']) # schema=final_struc\n",
        "\n",
        "# Check to make sure it worked\n",
        "df.show()\n",
        "print(df.printSchema())"
      ],
      "execution_count": 31,
      "outputs": [
        {
          "output_type": "stream",
          "text": [
            "+----------+---------+----------+--------+---------+---------+\n",
            "|first_name|last_name|       dob|  visit1|   visit2|   visit3|\n",
            "+----------+---------+----------+--------+---------+---------+\n",
            "|  Mohammed|   Alfasy|  1987-4-8|2016-1-7| 2017-2-3| 2018-3-2|\n",
            "|     Marcy|Wellmaker|  1986-4-8|2015-1-7| 2017-1-3| 2018-1-2|\n",
            "|     Ginny|   Ginger| 1986-7-10|2014-8-7| 2015-2-3| 2016-3-2|\n",
            "|     Vijay| Doberson|  1988-5-2|2016-1-7| 2018-2-3| 2018-3-2|\n",
            "|     Orhan|  Gelicek| 1987-5-11|2016-5-7| 2017-1-3| 2018-9-2|\n",
            "|     Sarah|    Jones|  1956-7-6|2016-4-7| 2017-8-3|2018-10-2|\n",
            "|      John|  Johnson|2017-10-12|2018-1-2|2018-10-3| 2018-3-2|\n",
            "+----------+---------+----------+--------+---------+---------+\n",
            "\n",
            "root\n",
            " |-- first_name: string (nullable = true)\n",
            " |-- last_name: string (nullable = true)\n",
            " |-- dob: string (nullable = true)\n",
            " |-- visit1: string (nullable = true)\n",
            " |-- visit2: string (nullable = true)\n",
            " |-- visit3: string (nullable = true)\n",
            "\n",
            "None\n"
          ],
          "name": "stdout"
        }
      ]
    },
    {
      "cell_type": "markdown",
      "metadata": {
        "id": "gwHduRPyulHd"
      },
      "source": [
        "Oh no! The dates are still stored as text... let's try converting them again and see if we have any issues this time."
      ]
    },
    {
      "cell_type": "code",
      "metadata": {
        "colab": {
          "base_uri": "https://localhost:8080/"
        },
        "id": "AHSSJWqsulHd",
        "outputId": "0252a3b4-734a-4a11-e5ee-6d2275516ba1"
      },
      "source": [
        "df = df.withColumn(\"dob\", df[\"dob\"].cast(DateType())) \\\n",
        "       .withColumn(\"visit1\", df[\"visit1\"].cast(DateType())) \\\n",
        "       .withColumn(\"visit2\", df[\"visit2\"].cast(DateType())) \\\n",
        "       .withColumn(\"visit3\", df[\"visit3\"].cast(DateType()))\n",
        "\n",
        "df.show()\n",
        "print(df.printSchema())"
      ],
      "execution_count": 32,
      "outputs": [
        {
          "output_type": "stream",
          "text": [
            "+----------+---------+----------+----------+----------+----------+\n",
            "|first_name|last_name|       dob|    visit1|    visit2|    visit3|\n",
            "+----------+---------+----------+----------+----------+----------+\n",
            "|  Mohammed|   Alfasy|1987-04-08|2016-01-07|2017-02-03|2018-03-02|\n",
            "|     Marcy|Wellmaker|1986-04-08|2015-01-07|2017-01-03|2018-01-02|\n",
            "|     Ginny|   Ginger|1986-07-10|2014-08-07|2015-02-03|2016-03-02|\n",
            "|     Vijay| Doberson|1988-05-02|2016-01-07|2018-02-03|2018-03-02|\n",
            "|     Orhan|  Gelicek|1987-05-11|2016-05-07|2017-01-03|2018-09-02|\n",
            "|     Sarah|    Jones|1956-07-06|2016-04-07|2017-08-03|2018-10-02|\n",
            "|      John|  Johnson|2017-10-12|2018-01-02|2018-10-03|2018-03-02|\n",
            "+----------+---------+----------+----------+----------+----------+\n",
            "\n",
            "root\n",
            " |-- first_name: string (nullable = true)\n",
            " |-- last_name: string (nullable = true)\n",
            " |-- dob: date (nullable = true)\n",
            " |-- visit1: date (nullable = true)\n",
            " |-- visit2: date (nullable = true)\n",
            " |-- visit3: date (nullable = true)\n",
            "\n",
            "None\n"
          ],
          "name": "stdout"
        }
      ]
    },
    {
      "cell_type": "markdown",
      "metadata": {
        "id": "sADmskz3ulHd"
      },
      "source": [
        "## 7. Can you calculate a variable showing the length of time between patient visits?\n",
        "\n",
        "Compare visit1 to visit2 and visit2 to visit3 for all patients and see what the average length of time is between visits. Create an alias for it as well. "
      ]
    },
    {
      "cell_type": "code",
      "metadata": {
        "colab": {
          "base_uri": "https://localhost:8080/"
        },
        "id": "B46XqOFGulHd",
        "outputId": "ca005ca5-1918-4e7c-b2c4-417e10b28f8f"
      },
      "source": [
        "from pyspark.sql.functions import *\n",
        "diff1 = df.select(datediff(df.visit2, df.visit1).alias(\"diff\"))\n",
        "diff2 = df.select(datediff(df.visit3, df.visit2).alias(\"diff\"))\n",
        "\n",
        "diff1.show(5)\n",
        "diff2.show(5)"
      ],
      "execution_count": 35,
      "outputs": [
        {
          "output_type": "stream",
          "text": [
            "+----+\n",
            "|diff|\n",
            "+----+\n",
            "| 393|\n",
            "| 727|\n",
            "| 180|\n",
            "| 758|\n",
            "| 241|\n",
            "+----+\n",
            "only showing top 5 rows\n",
            "\n",
            "+----+\n",
            "|diff|\n",
            "+----+\n",
            "| 392|\n",
            "| 364|\n",
            "| 393|\n",
            "|  27|\n",
            "| 607|\n",
            "+----+\n",
            "only showing top 5 rows\n",
            "\n"
          ],
          "name": "stdout"
        }
      ]
    },
    {
      "cell_type": "code",
      "metadata": {
        "colab": {
          "base_uri": "https://localhost:8080/"
        },
        "id": "toSTUGPuBDjH",
        "outputId": "8b52c13a-83f2-4f40-8a36-1ca326ab3e96"
      },
      "source": [
        "diff_combo = diff1.union(diff2)\n",
        "diff_combo.show(5,False)"
      ],
      "execution_count": 34,
      "outputs": [
        {
          "output_type": "stream",
          "text": [
            "+----+\n",
            "|diff|\n",
            "+----+\n",
            "|393 |\n",
            "|727 |\n",
            "|180 |\n",
            "|758 |\n",
            "|241 |\n",
            "+----+\n",
            "only showing top 5 rows\n",
            "\n"
          ],
          "name": "stdout"
        }
      ]
    },
    {
      "cell_type": "markdown",
      "metadata": {
        "id": "R7pSXusDulHd"
      },
      "source": [
        "## 8. Can you calculate the age of each patient?"
      ]
    },
    {
      "cell_type": "code",
      "metadata": {
        "colab": {
          "base_uri": "https://localhost:8080/"
        },
        "id": "U2Q8n3s0ulHe",
        "outputId": "49d0b341-eb79-4481-f5bc-6f1b4933987e"
      },
      "source": [
        "# dob = date of birth\n",
        "ages = df.select(format_number( datediff( df.visit1, df.dob)/365, 2).alias(\"age\"))\n",
        "ages.show()"
      ],
      "execution_count": 40,
      "outputs": [
        {
          "output_type": "stream",
          "text": [
            "+-----+\n",
            "|  age|\n",
            "+-----+\n",
            "|28.77|\n",
            "|28.77|\n",
            "|28.10|\n",
            "|27.70|\n",
            "|29.01|\n",
            "|59.79|\n",
            "| 0.22|\n",
            "+-----+\n",
            "\n"
          ],
          "name": "stdout"
        }
      ]
    },
    {
      "cell_type": "code",
      "metadata": {
        "colab": {
          "base_uri": "https://localhost:8080/"
        },
        "id": "wTuREDJbB6Z-",
        "outputId": "14c84947-f99b-43d7-d863-9487ccb78ad7"
      },
      "source": [
        "ages2 = df.withColumn(\"age\", format_number( datediff( df.visit1, df.dob)/365, 2))\n",
        "ages2.show(5,False)"
      ],
      "execution_count": 43,
      "outputs": [
        {
          "output_type": "stream",
          "text": [
            "+----------+---------+----------+----------+----------+----------+-----+\n",
            "|first_name|last_name|dob       |visit1    |visit2    |visit3    |age  |\n",
            "+----------+---------+----------+----------+----------+----------+-----+\n",
            "|Mohammed  |Alfasy   |1987-04-08|2016-01-07|2017-02-03|2018-03-02|28.77|\n",
            "|Marcy     |Wellmaker|1986-04-08|2015-01-07|2017-01-03|2018-01-02|28.77|\n",
            "|Ginny     |Ginger   |1986-07-10|2014-08-07|2015-02-03|2016-03-02|28.10|\n",
            "|Vijay     |Doberson |1988-05-02|2016-01-07|2018-02-03|2018-03-02|27.70|\n",
            "|Orhan     |Gelicek  |1987-05-11|2016-05-07|2017-01-03|2018-09-02|29.01|\n",
            "+----------+---------+----------+----------+----------+----------+-----+\n",
            "only showing top 5 rows\n",
            "\n"
          ],
          "name": "stdout"
        }
      ]
    },
    {
      "cell_type": "markdown",
      "metadata": {
        "id": "oKmqVzNOulHe"
      },
      "source": [
        "## 9. Can you extract the month from the first visit column and call it \"Month\"?"
      ]
    },
    {
      "cell_type": "code",
      "metadata": {
        "colab": {
          "base_uri": "https://localhost:8080/"
        },
        "id": "7ZzjSBG7ulHf",
        "outputId": "96b690c6-11fd-4f27-bfa5-ff10b7626a0a"
      },
      "source": [
        "month = df.withColumn(\"Month\", month(df.visit1))\n",
        "month.show(5,False)"
      ],
      "execution_count": 44,
      "outputs": [
        {
          "output_type": "stream",
          "text": [
            "+----------+---------+----------+----------+----------+----------+-----+\n",
            "|first_name|last_name|dob       |visit1    |visit2    |visit3    |Month|\n",
            "+----------+---------+----------+----------+----------+----------+-----+\n",
            "|Mohammed  |Alfasy   |1987-04-08|2016-01-07|2017-02-03|2018-03-02|1    |\n",
            "|Marcy     |Wellmaker|1986-04-08|2015-01-07|2017-01-03|2018-01-02|1    |\n",
            "|Ginny     |Ginger   |1986-07-10|2014-08-07|2015-02-03|2016-03-02|8    |\n",
            "|Vijay     |Doberson |1988-05-02|2016-01-07|2018-02-03|2018-03-02|1    |\n",
            "|Orhan     |Gelicek  |1987-05-11|2016-05-07|2017-01-03|2018-09-02|5    |\n",
            "+----------+---------+----------+----------+----------+----------+-----+\n",
            "only showing top 5 rows\n",
            "\n"
          ],
          "name": "stdout"
        }
      ]
    },
    {
      "cell_type": "markdown",
      "metadata": {
        "id": "WUQHiZl7ulHf"
      },
      "source": [
        "## 10. Challenges with working with date and timestamps\n",
        "\n",
        "Let's read in the supermarket sales dataframe attached to the lecture now and see some of the issues that can come up when working with date and timestamps values."
      ]
    },
    {
      "cell_type": "code",
      "metadata": {
        "id": "bqJjcfDrulHg"
      },
      "source": [
        "path = '/content/drive/My Drive/PySpark/Datasets/'\n",
        "sales = spark.read.csv(path + 'supermarket_sales.csv', inferSchema=True, header=True)"
      ],
      "execution_count": 63,
      "outputs": []
    },
    {
      "cell_type": "markdown",
      "metadata": {
        "id": "e2xtZwdVulHh"
      },
      "source": [
        "## About this dataset\n",
        "\n",
        "The growth of supermarkets in most populated cities are increasing and market competitions are also high. The dataset is one of the historical sales of supermarket company which has recorded in 3 different branches for 3 months data. \n",
        "\n",
        " - Attribute information\n",
        " - Invoice id: Computer generated sales slip invoice identification number\n",
        " - Branch: Branch of supercenter (3 branches are available identified by A, B and C).\n",
        " - City: Location of supercenters\n",
        " - Customer type: Type of customers, recorded by Members for customers using member card and Normal for without member card.\n",
        " - Gender: Gender type of customer\n",
        " - Product line: General item categorization groups - Electronic accessories, Fashion accessories, Food and beverages, Health and beauty, Home and lifestyle, Sports and travel\n",
        " - Unit price: Price of each product in USD\n",
        " - Quantity: Number of products purchased by customer\n",
        " - Tax: 5% tax fee for customer buying\n",
        " - Total: Total price including tax\n",
        " - Date: Date of purchase (Record available from January 2019 to March 2019)\n",
        " - Time: Purchase time (10am to 9pm)\n",
        " - Payment: Payment used by customer for purchase (3 methods are available – Cash, Credit card and Ewallet)\n",
        " - COGS: Cost of goods sold\n",
        " - Gross margin percentage: Gross margin percentage\n",
        " - Gross income: Gross income\n",
        " - Rating: Customer stratification rating on their overall shopping experience (On a scale of 1 to 10)\n",
        "\n",
        "**Source:** https://www.kaggle.com/aungpyaeap/supermarket-sales"
      ]
    },
    {
      "cell_type": "markdown",
      "metadata": {
        "id": "nVSuun4XulHi"
      },
      "source": [
        "### View dataframe and schema as usual"
      ]
    },
    {
      "cell_type": "code",
      "metadata": {
        "colab": {
          "base_uri": "https://localhost:8080/"
        },
        "id": "thJR0ogTulHj",
        "outputId": "67701735-561f-4442-e9f7-65e9aabe1fb2"
      },
      "source": [
        "sales.show(5,False)"
      ],
      "execution_count": 64,
      "outputs": [
        {
          "output_type": "stream",
          "text": [
            "+-----------+------+---------+-------------+------+----------------------+----------+--------+-------+--------+---------+-----+-----------+------+-----------------------+------------+------+\n",
            "|Invoice ID |Branch|City     |Customer type|Gender|Product line          |Unit price|Quantity|Tax 5% |Total   |Date     |Time |Payment    |cogs  |gross margin percentage|gross income|Rating|\n",
            "+-----------+------+---------+-------------+------+----------------------+----------+--------+-------+--------+---------+-----+-----------+------+-----------------------+------------+------+\n",
            "|750-67-8428|A     |Yangon   |Member       |Female|Health and beauty     |74.69     |7       |26.1415|548.9715|1/5/2019 |13:08|Ewallet    |522.83|4.761904762            |26.1415     |9.1   |\n",
            "|226-31-3081|C     |Naypyitaw|Normal       |Female|Electronic accessories|15.28     |5       |3.82   |80.22   |3/8/2019 |10:29|Cash       |76.4  |4.761904762            |3.82        |9.6   |\n",
            "|631-41-3108|A     |Yangon   |Normal       |Male  |Home and lifestyle    |46.33     |7       |16.2155|340.5255|3/3/2019 |13:23|Credit card|324.31|4.761904762            |16.2155     |7.4   |\n",
            "|123-19-1176|A     |Yangon   |Member       |Male  |Health and beauty     |58.22     |8       |23.288 |489.048 |1/27/2019|20:33|Ewallet    |465.76|4.761904762            |23.288      |8.4   |\n",
            "|373-73-7910|A     |Yangon   |Normal       |Male  |Sports and travel     |86.31     |7       |30.2085|634.3785|2/8/2019 |10:37|Ewallet    |604.17|4.761904762            |30.2085     |5.3   |\n",
            "+-----------+------+---------+-------------+------+----------------------+----------+--------+-------+--------+---------+-----+-----------+------+-----------------------+------------+------+\n",
            "only showing top 5 rows\n",
            "\n"
          ],
          "name": "stdout"
        }
      ]
    },
    {
      "cell_type": "code",
      "metadata": {
        "colab": {
          "base_uri": "https://localhost:8080/"
        },
        "id": "qZQDFq-6ulHk",
        "outputId": "1241800d-de1b-4e34-eb80-a5eedab82b81"
      },
      "source": [
        "sales.printSchema()"
      ],
      "execution_count": 65,
      "outputs": [
        {
          "output_type": "stream",
          "text": [
            "root\n",
            " |-- Invoice ID: string (nullable = true)\n",
            " |-- Branch: string (nullable = true)\n",
            " |-- City: string (nullable = true)\n",
            " |-- Customer type: string (nullable = true)\n",
            " |-- Gender: string (nullable = true)\n",
            " |-- Product line: string (nullable = true)\n",
            " |-- Unit price: double (nullable = true)\n",
            " |-- Quantity: integer (nullable = true)\n",
            " |-- Tax 5%: double (nullable = true)\n",
            " |-- Total: double (nullable = true)\n",
            " |-- Date: string (nullable = true)\n",
            " |-- Time: string (nullable = true)\n",
            " |-- Payment: string (nullable = true)\n",
            " |-- cogs: double (nullable = true)\n",
            " |-- gross margin percentage: double (nullable = true)\n",
            " |-- gross income: double (nullable = true)\n",
            " |-- Rating: double (nullable = true)\n",
            "\n"
          ],
          "name": "stdout"
        }
      ]
    },
    {
      "cell_type": "markdown",
      "metadata": {
        "id": "00UFxu0-ulHk"
      },
      "source": [
        "### Convert date field to date type\n",
        "\n",
        "Looks like we need to convert the date field into a date type. Let's go ahead and do that.."
      ]
    },
    {
      "cell_type": "code",
      "metadata": {
        "colab": {
          "base_uri": "https://localhost:8080/"
        },
        "id": "WQ12fqh6ulHk",
        "outputId": "89658a42-c743-4c53-918d-078d53e0918c"
      },
      "source": [
        "sales2 = sales.withColumn(\"Date\", sales.Date.cast(DateType()))\n",
        "print(sales2.printSchema())"
      ],
      "execution_count": 66,
      "outputs": [
        {
          "output_type": "stream",
          "text": [
            "root\n",
            " |-- Invoice ID: string (nullable = true)\n",
            " |-- Branch: string (nullable = true)\n",
            " |-- City: string (nullable = true)\n",
            " |-- Customer type: string (nullable = true)\n",
            " |-- Gender: string (nullable = true)\n",
            " |-- Product line: string (nullable = true)\n",
            " |-- Unit price: double (nullable = true)\n",
            " |-- Quantity: integer (nullable = true)\n",
            " |-- Tax 5%: double (nullable = true)\n",
            " |-- Total: double (nullable = true)\n",
            " |-- Date: date (nullable = true)\n",
            " |-- Time: string (nullable = true)\n",
            " |-- Payment: string (nullable = true)\n",
            " |-- cogs: double (nullable = true)\n",
            " |-- gross margin percentage: double (nullable = true)\n",
            " |-- gross income: double (nullable = true)\n",
            " |-- Rating: double (nullable = true)\n",
            "\n",
            "None\n"
          ],
          "name": "stdout"
        }
      ]
    },
    {
      "cell_type": "code",
      "metadata": {
        "colab": {
          "base_uri": "https://localhost:8080/"
        },
        "id": "xcKQwrL6FU8e",
        "outputId": "679bcb77-7a27-4893-cca7-e1f623cbfe45"
      },
      "source": [
        "sales2.select('Date').show(5)"
      ],
      "execution_count": 67,
      "outputs": [
        {
          "output_type": "stream",
          "text": [
            "+----+\n",
            "|Date|\n",
            "+----+\n",
            "|null|\n",
            "|null|\n",
            "|null|\n",
            "|null|\n",
            "|null|\n",
            "+----+\n",
            "only showing top 5 rows\n",
            "\n"
          ],
          "name": "stdout"
        }
      ]
    },
    {
      "cell_type": "code",
      "metadata": {
        "colab": {
          "base_uri": "https://localhost:8080/"
        },
        "id": "Y-VVMwfTRcwO",
        "outputId": "39ed77f2-601c-43f0-b622-a219c2a14d35"
      },
      "source": [
        "from pyspark.sql.types import *\n",
        "# from pyspark.sql.functions import *\n",
        "\n",
        "print(\"Note that this method gives all null values\")\n",
        "df = sales.withColumn(\"Formatted Date\", sales[\"Date\"].cast(DateType()))\n",
        "df = df.select(\"Date\", \"Formatted Date\")\n",
        "print(df.limit(6).toPandas())\n",
        "\n",
        "print(\" \")\n",
        "print(\"This result gives the wrong results (notice that all months are january)\")\n",
        "sales.select('Date', to_date(sales.Date, 'm/d/yyyy').alias('Dateformatted'), month(to_date(sales.Date, 'm/d/yyyy')).alias('Month')).show(5)\n",
        "\n",
        "print(\" \")\n",
        "print(\"But if we capitalize the mm part in the format, we get the correct results!\")\n",
        "print(\"Props to your fellow classmate David Henderson for figuring this one out!\")\n",
        "sales.select('Date', to_date(sales.Date, 'M/d/yyyy').alias('Dateformatted'), month(to_date(sales.Date, 'M/d/yyyy')).alias('Month')).show(5)"
      ],
      "execution_count": 84,
      "outputs": [
        {
          "output_type": "stream",
          "text": [
            "Note that this method gives all null values\n",
            "        Date Formatted Date\n",
            "0   1/5/2019           None\n",
            "1   3/8/2019           None\n",
            "2   3/3/2019           None\n",
            "3  1/27/2019           None\n",
            "4   2/8/2019           None\n",
            "5  3/25/2019           None\n",
            " \n",
            "This result gives the wrong results (notice that all months are january)\n",
            "+---------+-------------+-----+\n",
            "|     Date|Dateformatted|Month|\n",
            "+---------+-------------+-----+\n",
            "| 1/5/2019|   2019-01-05|    1|\n",
            "| 3/8/2019|   2019-01-08|    1|\n",
            "| 3/3/2019|   2019-01-03|    1|\n",
            "|1/27/2019|   2019-01-27|    1|\n",
            "| 2/8/2019|   2019-01-08|    1|\n",
            "+---------+-------------+-----+\n",
            "only showing top 5 rows\n",
            "\n",
            " \n",
            "But if we capitalize the mm part in the format, we get the correct results!\n",
            "Props to your fellow classmate David Henderson for figuring this one out!\n",
            "+---------+-------------+-----+\n",
            "|     Date|Dateformatted|Month|\n",
            "+---------+-------------+-----+\n",
            "| 1/5/2019|   2019-01-05|    1|\n",
            "| 3/8/2019|   2019-03-08|    3|\n",
            "| 3/3/2019|   2019-03-03|    3|\n",
            "|1/27/2019|   2019-01-27|    1|\n",
            "| 2/8/2019|   2019-02-08|    2|\n",
            "+---------+-------------+-----+\n",
            "only showing top 5 rows\n",
            "\n"
          ],
          "name": "stdout"
        }
      ]
    },
    {
      "cell_type": "markdown",
      "metadata": {
        "id": "YSFGfwlUulHl"
      },
      "source": [
        "### How can we extract the month value from the date field?\n",
        "\n",
        "If you had trouble converting the date field in the previous question think about a more creative solution to extract the month from that field."
      ]
    },
    {
      "cell_type": "code",
      "metadata": {
        "colab": {
          "base_uri": "https://localhost:8080/"
        },
        "id": "jSIVZO5-P7wb",
        "outputId": "ba15ee9f-834a-440c-eba1-8b653d36a123"
      },
      "source": [
        "from pyspark.sql.types import *\n",
        "# split the date field and get the month value \n",
        "df = sales.select('Date', split('Date', '/')[0].alias('Month'), 'Total')\n",
        "\n",
        "# Verify everything worked correctly\n",
        "print(\"Verify\")\n",
        "df.show(5)\n",
        "print(df.printSchema())"
      ],
      "execution_count": 73,
      "outputs": [
        {
          "output_type": "stream",
          "text": [
            "Note that previous method gives all null values (notice that all months are january)\n",
            " \n",
            "Verify\n",
            "+---------+-----+--------+\n",
            "|     Date|Month|   Total|\n",
            "+---------+-----+--------+\n",
            "| 1/5/2019|    1|548.9715|\n",
            "| 3/8/2019|    3|   80.22|\n",
            "| 3/3/2019|    3|340.5255|\n",
            "|1/27/2019|    1| 489.048|\n",
            "| 2/8/2019|    2|634.3785|\n",
            "+---------+-----+--------+\n",
            "only showing top 5 rows\n",
            "\n",
            "root\n",
            " |-- Date: string (nullable = true)\n",
            " |-- Month: string (nullable = true)\n",
            " |-- Total: double (nullable = true)\n",
            "\n",
            "None\n"
          ],
          "name": "stdout"
        }
      ]
    },
    {
      "cell_type": "markdown",
      "metadata": {
        "id": "V0O3WHxXulHl"
      },
      "source": [
        "## 11.0 Working with Arrays\n",
        "\n",
        "Here is a dataframe of reviews from the movie the Dark Night."
      ]
    },
    {
      "cell_type": "code",
      "metadata": {
        "colab": {
          "base_uri": "https://localhost:8080/"
        },
        "id": "O85qpUaIulHl",
        "outputId": "28d800c6-2fba-47b9-ae9e-24614abbcda3"
      },
      "source": [
        "from pyspark.sql.functions import *\n",
        "\n",
        "values = [(5,'Epic. This is the best movie I have EVER seen'), \\\n",
        "          (4,'Pretty good, but I would have liked to seen better special effects'), \\\n",
        "          (3,'So so. Casting could have been improved'), \\\n",
        "          (5,'The most EPIC movie of the year! Casting was awesome. Special effects were so intense.'), \\\n",
        "          (4,'Solid but I would have liked to see more of the love story'), \\\n",
        "          (5,'THE BOMB!!!!!!!')]\n",
        "reviews = spark.createDataFrame(values,['rating', 'review_txt'])\n",
        "\n",
        "reviews.show(6,False)"
      ],
      "execution_count": 74,
      "outputs": [
        {
          "output_type": "stream",
          "text": [
            "+------+--------------------------------------------------------------------------------------+\n",
            "|rating|review_txt                                                                            |\n",
            "+------+--------------------------------------------------------------------------------------+\n",
            "|5     |Epic. This is the best movie I have EVER seen                                         |\n",
            "|4     |Pretty good, but I would have liked to seen better special effects                    |\n",
            "|3     |So so. Casting could have been improved                                               |\n",
            "|5     |The most EPIC movie of the year! Casting was awesome. Special effects were so intense.|\n",
            "|4     |Solid but I would have liked to see more of the love story                            |\n",
            "|5     |THE BOMB!!!!!!!                                                                       |\n",
            "+------+--------------------------------------------------------------------------------------+\n",
            "\n"
          ],
          "name": "stdout"
        }
      ]
    },
    {
      "cell_type": "markdown",
      "metadata": {
        "id": "O5zuFF79ulHm"
      },
      "source": [
        "## 11.1 Let's see if we can create an array off of the review text column and then derive some meaningful results from it.\n",
        "\n",
        "**But first** we need to clean the rview_txt column to make sure we can get what we need from our analysis later on. So let's do the following:\n",
        "\n",
        "1. Remove all punctuation\n",
        "2. lower case everything\n",
        "3. Remove white space (trim)\n",
        "3. Then finally, split the string"
      ]
    },
    {
      "cell_type": "code",
      "metadata": {
        "colab": {
          "base_uri": "https://localhost:8080/"
        },
        "id": "yzFAySmzulHm",
        "outputId": "24aee15b-ec60-4089-f4ef-e0e08fc7bc1a"
      },
      "source": [
        "# We can do 1-3 in one call here\n",
        "df = reviews.withColumn(\"cleaned_reviews\", trim(lower(regexp_replace(col('review_txt'),'[^\\sa-zA-Z0-9]', ''))))\n",
        "df.show(5,False)"
      ],
      "execution_count": 76,
      "outputs": [
        {
          "output_type": "stream",
          "text": [
            "+------+--------------------------------------------------------------------------------------+-----------------------------------------------------------------------------------+\n",
            "|rating|review_txt                                                                            |cleaned_reviews                                                                    |\n",
            "+------+--------------------------------------------------------------------------------------+-----------------------------------------------------------------------------------+\n",
            "|5     |Epic. This is the best movie I have EVER seen                                         |epic this is the best movie i have ever seen                                       |\n",
            "|4     |Pretty good, but I would have liked to seen better special effects                    |pretty good but i would have liked to seen better special effects                  |\n",
            "|3     |So so. Casting could have been improved                                               |so so casting could have been improved                                             |\n",
            "|5     |The most EPIC movie of the year! Casting was awesome. Special effects were so intense.|the most epic movie of the year casting was awesome special effects were so intense|\n",
            "|4     |Solid but I would have liked to see more of the love story                            |solid but i would have liked to see more of the love story                         |\n",
            "+------+--------------------------------------------------------------------------------------+-----------------------------------------------------------------------------------+\n",
            "only showing top 5 rows\n",
            "\n"
          ],
          "name": "stdout"
        }
      ]
    },
    {
      "cell_type": "code",
      "metadata": {
        "colab": {
          "base_uri": "https://localhost:8080/"
        },
        "id": "DjL8H0yqulHn",
        "outputId": "6be9777d-6e1a-4ae6-f0ef-6d1a8712e9fb"
      },
      "source": [
        "# Then split on the spaces!\n",
        "df = df.withColumn(\"review_txt_array\", split(col(\"cleaned_reviews\"), \" \"))\n",
        "df.show(5,False)"
      ],
      "execution_count": 77,
      "outputs": [
        {
          "output_type": "stream",
          "text": [
            "+------+--------------------------------------------------------------------------------------+-----------------------------------------------------------------------------------+---------------------------------------------------------------------------------------------------+\n",
            "|rating|review_txt                                                                            |cleaned_reviews                                                                    |review_txt_array                                                                                   |\n",
            "+------+--------------------------------------------------------------------------------------+-----------------------------------------------------------------------------------+---------------------------------------------------------------------------------------------------+\n",
            "|5     |Epic. This is the best movie I have EVER seen                                         |epic this is the best movie i have ever seen                                       |[epic, this, is, the, best, movie, i, have, ever, seen]                                            |\n",
            "|4     |Pretty good, but I would have liked to seen better special effects                    |pretty good but i would have liked to seen better special effects                  |[pretty, good, but, i, would, have, liked, to, seen, better, special, effects]                     |\n",
            "|3     |So so. Casting could have been improved                                               |so so casting could have been improved                                             |[so, so, casting, could, have, been, improved]                                                     |\n",
            "|5     |The most EPIC movie of the year! Casting was awesome. Special effects were so intense.|the most epic movie of the year casting was awesome special effects were so intense|[the, most, epic, movie, of, the, year, casting, was, awesome, special, effects, were, so, intense]|\n",
            "|4     |Solid but I would have liked to see more of the love story                            |solid but i would have liked to see more of the love story                         |[solid, but, i, would, have, liked, to, see, more, of, the, love, story]                           |\n",
            "+------+--------------------------------------------------------------------------------------+-----------------------------------------------------------------------------------+---------------------------------------------------------------------------------------------------+\n",
            "only showing top 5 rows\n",
            "\n"
          ],
          "name": "stdout"
        }
      ]
    },
    {
      "cell_type": "markdown",
      "metadata": {
        "id": "sJOF18x2ulHn"
      },
      "source": [
        "## 11.2 Alright now let's see if we can find which reviews contain the word 'Epic'"
      ]
    },
    {
      "cell_type": "code",
      "metadata": {
        "colab": {
          "base_uri": "https://localhost:8080/",
          "height": 260
        },
        "id": "iFe0JhbrulHn",
        "outputId": "c4553503-8628-430c-bf01-5e4a96399c57"
      },
      "source": [
        "epic = df.withColumn(\"result\", array_contains(col(\"review_txt_array\"), \"epic\"))\n",
        "epic.toPandas()"
      ],
      "execution_count": 78,
      "outputs": [
        {
          "output_type": "execute_result",
          "data": {
            "text/html": [
              "<div>\n",
              "<style scoped>\n",
              "    .dataframe tbody tr th:only-of-type {\n",
              "        vertical-align: middle;\n",
              "    }\n",
              "\n",
              "    .dataframe tbody tr th {\n",
              "        vertical-align: top;\n",
              "    }\n",
              "\n",
              "    .dataframe thead th {\n",
              "        text-align: right;\n",
              "    }\n",
              "</style>\n",
              "<table border=\"1\" class=\"dataframe\">\n",
              "  <thead>\n",
              "    <tr style=\"text-align: right;\">\n",
              "      <th></th>\n",
              "      <th>rating</th>\n",
              "      <th>review_txt</th>\n",
              "      <th>cleaned_reviews</th>\n",
              "      <th>review_txt_array</th>\n",
              "      <th>result</th>\n",
              "    </tr>\n",
              "  </thead>\n",
              "  <tbody>\n",
              "    <tr>\n",
              "      <th>0</th>\n",
              "      <td>5</td>\n",
              "      <td>Epic. This is the best movie I have EVER seen</td>\n",
              "      <td>epic this is the best movie i have ever seen</td>\n",
              "      <td>[epic, this, is, the, best, movie, i, have, ev...</td>\n",
              "      <td>True</td>\n",
              "    </tr>\n",
              "    <tr>\n",
              "      <th>1</th>\n",
              "      <td>4</td>\n",
              "      <td>Pretty good, but I would have liked to seen be...</td>\n",
              "      <td>pretty good but i would have liked to seen bet...</td>\n",
              "      <td>[pretty, good, but, i, would, have, liked, to,...</td>\n",
              "      <td>False</td>\n",
              "    </tr>\n",
              "    <tr>\n",
              "      <th>2</th>\n",
              "      <td>3</td>\n",
              "      <td>So so. Casting could have been improved</td>\n",
              "      <td>so so casting could have been improved</td>\n",
              "      <td>[so, so, casting, could, have, been, improved]</td>\n",
              "      <td>False</td>\n",
              "    </tr>\n",
              "    <tr>\n",
              "      <th>3</th>\n",
              "      <td>5</td>\n",
              "      <td>The most EPIC movie of the year! Casting was a...</td>\n",
              "      <td>the most epic movie of the year casting was aw...</td>\n",
              "      <td>[the, most, epic, movie, of, the, year, castin...</td>\n",
              "      <td>True</td>\n",
              "    </tr>\n",
              "    <tr>\n",
              "      <th>4</th>\n",
              "      <td>4</td>\n",
              "      <td>Solid but I would have liked to see more of th...</td>\n",
              "      <td>solid but i would have liked to see more of th...</td>\n",
              "      <td>[solid, but, i, would, have, liked, to, see, m...</td>\n",
              "      <td>False</td>\n",
              "    </tr>\n",
              "    <tr>\n",
              "      <th>5</th>\n",
              "      <td>5</td>\n",
              "      <td>THE BOMB!!!!!!!</td>\n",
              "      <td>the bomb</td>\n",
              "      <td>[the, bomb]</td>\n",
              "      <td>False</td>\n",
              "    </tr>\n",
              "  </tbody>\n",
              "</table>\n",
              "</div>"
            ],
            "text/plain": [
              "   rating  ... result\n",
              "0       5  ...   True\n",
              "1       4  ...  False\n",
              "2       3  ...  False\n",
              "3       5  ...   True\n",
              "4       4  ...  False\n",
              "5       5  ...  False\n",
              "\n",
              "[6 rows x 5 columns]"
            ]
          },
          "metadata": {
            "tags": []
          },
          "execution_count": 78
        }
      ]
    },
    {
      "cell_type": "markdown",
      "metadata": {
        "id": "lmaccexyulHn"
      },
      "source": [
        "### That's it! Great Job!"
      ]
    }
  ]
}