{
  "nbformat": 4,
  "nbformat_minor": 0,
  "metadata": {
    "colab": {
      "name": "AggregateDF.ipynb",
      "provenance": [],
      "authorship_tag": "ABX9TyNA7e9eghSEAtNVnntNCIwY",
      "include_colab_link": true
    },
    "kernelspec": {
      "name": "python3",
      "display_name": "Python 3"
    },
    "language_info": {
      "name": "python"
    }
  },
  "cells": [
    {
      "cell_type": "markdown",
      "metadata": {
        "id": "view-in-github",
        "colab_type": "text"
      },
      "source": [
        "<a href=\"https://colab.research.google.com/github/harenlin/PySpark-Learning/blob/main/AggregateDF.ipynb\" target=\"_parent\"><img src=\"https://colab.research.google.com/assets/colab-badge.svg\" alt=\"Open In Colab\"/></a>"
      ]
    },
    {
      "cell_type": "code",
      "metadata": {
        "colab": {
          "base_uri": "https://localhost:8080/",
          "height": 488
        },
        "id": "1LobYKQ8TriU",
        "outputId": "e57099d8-9671-4cd9-c323-4a1a330e3278"
      },
      "source": [
        "!pip install pyspark\n",
        "import pyspark\n",
        "from pyspark.sql import SparkSession\n",
        "spark = SparkSession.builder.appName('AggregateDF').getOrCreate()\n",
        "cores = spark._jsc.sc().getExecutorMemoryStatus().keySet().size()\n",
        "print(\"You are working with\", cores, \"core(s)\")\n",
        "spark"
      ],
      "execution_count": 1,
      "outputs": [
        {
          "output_type": "stream",
          "text": [
            "Collecting pyspark\n",
            "\u001b[?25l  Downloading https://files.pythonhosted.org/packages/89/db/e18cfd78e408de957821ec5ca56de1250645b05f8523d169803d8df35a64/pyspark-3.1.2.tar.gz (212.4MB)\n",
            "\u001b[K     |████████████████████████████████| 212.4MB 69kB/s \n",
            "\u001b[?25hCollecting py4j==0.10.9\n",
            "\u001b[?25l  Downloading https://files.pythonhosted.org/packages/9e/b6/6a4fb90cd235dc8e265a6a2067f2a2c99f0d91787f06aca4bcf7c23f3f80/py4j-0.10.9-py2.py3-none-any.whl (198kB)\n",
            "\u001b[K     |████████████████████████████████| 204kB 16.4MB/s \n",
            "\u001b[?25hBuilding wheels for collected packages: pyspark\n",
            "  Building wheel for pyspark (setup.py) ... \u001b[?25l\u001b[?25hdone\n",
            "  Created wheel for pyspark: filename=pyspark-3.1.2-py2.py3-none-any.whl size=212880768 sha256=11d86dca6075c0a5b811b26aeac68aa5e61b18cc2e6f0b141a8df66d5fd783a0\n",
            "  Stored in directory: /root/.cache/pip/wheels/40/1b/2c/30f43be2627857ab80062bef1527c0128f7b4070b6b2d02139\n",
            "Successfully built pyspark\n",
            "Installing collected packages: py4j, pyspark\n",
            "Successfully installed py4j-0.10.9 pyspark-3.1.2\n",
            "You are working with 1 core(s)\n"
          ],
          "name": "stdout"
        },
        {
          "output_type": "execute_result",
          "data": {
            "text/html": [
              "\n",
              "            <div>\n",
              "                <p><b>SparkSession - in-memory</b></p>\n",
              "                \n",
              "        <div>\n",
              "            <p><b>SparkContext</b></p>\n",
              "\n",
              "            <p><a href=\"http://2ddffd23e04f:4040\">Spark UI</a></p>\n",
              "\n",
              "            <dl>\n",
              "              <dt>Version</dt>\n",
              "                <dd><code>v3.1.2</code></dd>\n",
              "              <dt>Master</dt>\n",
              "                <dd><code>local[*]</code></dd>\n",
              "              <dt>AppName</dt>\n",
              "                <dd><code>AggregateDF</code></dd>\n",
              "            </dl>\n",
              "        </div>\n",
              "        \n",
              "            </div>\n",
              "        "
            ],
            "text/plain": [
              "<pyspark.sql.session.SparkSession at 0x7fed108feb90>"
            ]
          },
          "metadata": {
            "tags": []
          },
          "execution_count": 1
        }
      ]
    },
    {
      "cell_type": "code",
      "metadata": {
        "colab": {
          "base_uri": "https://localhost:8080/"
        },
        "id": "9PJOE2fmTx3F",
        "outputId": "a84f146e-d528-4c3f-aa73-119d1085625f"
      },
      "source": [
        "from google.colab import drive\n",
        "drive.mount('/content/drive')\n",
        "\n",
        "path = '/content/drive/My Drive/PySpark/Datasets/'\n",
        "airbnb = spark.read.csv(path + 'nyc_air_bnb.csv', inferSchema=True, header=True)"
      ],
      "execution_count": 2,
      "outputs": [
        {
          "output_type": "stream",
          "text": [
            "Mounted at /content/drive\n"
          ],
          "name": "stdout"
        }
      ]
    },
    {
      "cell_type": "code",
      "metadata": {
        "colab": {
          "base_uri": "https://localhost:8080/"
        },
        "id": "6Mh4RA9ZT9zO",
        "outputId": "077d0058-cd89-49c3-8f75-ab2460364a67"
      },
      "source": [
        "airbnb.show(5,False)"
      ],
      "execution_count": 5,
      "outputs": [
        {
          "output_type": "stream",
          "text": [
            "+----+------------------------------------------------+-------+-----------+-------------------+-------------+--------+---------+---------------+-----+--------------+-----------------+-----------+-----------------+------------------------------+----------------+\n",
            "|id  |name                                            |host_id|host_name  |neighbourhood_group|neighbourhood|latitude|longitude|room_type      |price|minimum_nights|number_of_reviews|last_review|reviews_per_month|calculated_host_listings_count|availability_365|\n",
            "+----+------------------------------------------------+-------+-----------+-------------------+-------------+--------+---------+---------------+-----+--------------+-----------------+-----------+-----------------+------------------------------+----------------+\n",
            "|2539|Clean & quiet apt home by the park              |2787   |John       |Brooklyn           |Kensington   |40.64749|-73.97237|Private room   |149  |1             |9                |2018-10-19 |0.21             |6                             |365             |\n",
            "|2595|Skylit Midtown Castle                           |2845   |Jennifer   |Manhattan          |Midtown      |40.75362|-73.98377|Entire home/apt|225  |1             |45               |2019-05-21 |0.38             |2                             |355             |\n",
            "|3647|THE VILLAGE OF HARLEM....NEW YORK !             |4632   |Elisabeth  |Manhattan          |Harlem       |40.80902|-73.9419 |Private room   |150  |3             |0                |null       |null             |1                             |365             |\n",
            "|3831|Cozy Entire Floor of Brownstone                 |4869   |LisaRoxanne|Brooklyn           |Clinton Hill |40.68514|-73.95976|Entire home/apt|89   |1             |270              |2019-07-05 |4.64             |1                             |194             |\n",
            "|5022|Entire Apt: Spacious Studio/Loft by central park|7192   |Laura      |Manhattan          |East Harlem  |40.79851|-73.94399|Entire home/apt|80   |10            |9                |2018-11-19 |0.10             |1                             |0               |\n",
            "+----+------------------------------------------------+-------+-----------+-------------------+-------------+--------+---------+---------------+-----+--------------+-----------------+-----------+-----------------+------------------------------+----------------+\n",
            "only showing top 5 rows\n",
            "\n"
          ],
          "name": "stdout"
        }
      ]
    },
    {
      "cell_type": "code",
      "metadata": {
        "colab": {
          "base_uri": "https://localhost:8080/"
        },
        "id": "E-RgbUO4UEwq",
        "outputId": "9ec1c479-00b6-4929-8427-6bff1cd348b8"
      },
      "source": [
        "airbnb.printSchema()"
      ],
      "execution_count": 4,
      "outputs": [
        {
          "output_type": "stream",
          "text": [
            "root\n",
            " |-- id: string (nullable = true)\n",
            " |-- name: string (nullable = true)\n",
            " |-- host_id: string (nullable = true)\n",
            " |-- host_name: string (nullable = true)\n",
            " |-- neighbourhood_group: string (nullable = true)\n",
            " |-- neighbourhood: string (nullable = true)\n",
            " |-- latitude: string (nullable = true)\n",
            " |-- longitude: string (nullable = true)\n",
            " |-- room_type: string (nullable = true)\n",
            " |-- price: string (nullable = true)\n",
            " |-- minimum_nights: string (nullable = true)\n",
            " |-- number_of_reviews: string (nullable = true)\n",
            " |-- last_review: string (nullable = true)\n",
            " |-- reviews_per_month: string (nullable = true)\n",
            " |-- calculated_host_listings_count: string (nullable = true)\n",
            " |-- availability_365: integer (nullable = true)\n",
            "\n"
          ],
          "name": "stdout"
        }
      ]
    },
    {
      "cell_type": "code",
      "metadata": {
        "colab": {
          "base_uri": "https://localhost:8080/"
        },
        "id": "Dz9fGAnJUGDp",
        "outputId": "f166684d-76ad-4ddc-fa7e-c5645c260407"
      },
      "source": [
        "from pyspark.sql.types import *\n",
        "from pyspark.sql.functions import *\n",
        "\n",
        "df = airbnb.withColumn(\"price\", airbnb[\"price\"].cast(IntegerType())) \\\n",
        "        .withColumn(\"minimum_nights\", airbnb[\"minimum_nights\"].cast(IntegerType())) \\\n",
        "        .withColumn(\"number_of_reviews\", airbnb[\"number_of_reviews\"].cast(IntegerType())) \\\n",
        "        .withColumn(\"reviews_per_month\", airbnb[\"reviews_per_month\"].cast(IntegerType())) \\\n",
        "        .withColumn(\"calculated_host_listings_count\", airbnb[\"calculated_host_listings_count\"].cast(IntegerType()))\n",
        "\n",
        "print(df.printSchema())\n",
        "df.show(5,False)"
      ],
      "execution_count": 7,
      "outputs": [
        {
          "output_type": "stream",
          "text": [
            "root\n",
            " |-- id: string (nullable = true)\n",
            " |-- name: string (nullable = true)\n",
            " |-- host_id: string (nullable = true)\n",
            " |-- host_name: string (nullable = true)\n",
            " |-- neighbourhood_group: string (nullable = true)\n",
            " |-- neighbourhood: string (nullable = true)\n",
            " |-- latitude: string (nullable = true)\n",
            " |-- longitude: string (nullable = true)\n",
            " |-- room_type: string (nullable = true)\n",
            " |-- price: integer (nullable = true)\n",
            " |-- minimum_nights: integer (nullable = true)\n",
            " |-- number_of_reviews: integer (nullable = true)\n",
            " |-- last_review: string (nullable = true)\n",
            " |-- reviews_per_month: integer (nullable = true)\n",
            " |-- calculated_host_listings_count: integer (nullable = true)\n",
            " |-- availability_365: integer (nullable = true)\n",
            "\n",
            "None\n",
            "+----+------------------------------------------------+-------+-----------+-------------------+-------------+--------+---------+---------------+-----+--------------+-----------------+-----------+-----------------+------------------------------+----------------+\n",
            "|id  |name                                            |host_id|host_name  |neighbourhood_group|neighbourhood|latitude|longitude|room_type      |price|minimum_nights|number_of_reviews|last_review|reviews_per_month|calculated_host_listings_count|availability_365|\n",
            "+----+------------------------------------------------+-------+-----------+-------------------+-------------+--------+---------+---------------+-----+--------------+-----------------+-----------+-----------------+------------------------------+----------------+\n",
            "|2539|Clean & quiet apt home by the park              |2787   |John       |Brooklyn           |Kensington   |40.64749|-73.97237|Private room   |149  |1             |9                |2018-10-19 |0                |6                             |365             |\n",
            "|2595|Skylit Midtown Castle                           |2845   |Jennifer   |Manhattan          |Midtown      |40.75362|-73.98377|Entire home/apt|225  |1             |45               |2019-05-21 |0                |2                             |355             |\n",
            "|3647|THE VILLAGE OF HARLEM....NEW YORK !             |4632   |Elisabeth  |Manhattan          |Harlem       |40.80902|-73.9419 |Private room   |150  |3             |0                |null       |null             |1                             |365             |\n",
            "|3831|Cozy Entire Floor of Brownstone                 |4869   |LisaRoxanne|Brooklyn           |Clinton Hill |40.68514|-73.95976|Entire home/apt|89   |1             |270              |2019-07-05 |4                |1                             |194             |\n",
            "|5022|Entire Apt: Spacious Studio/Loft by central park|7192   |Laura      |Manhattan          |East Harlem  |40.79851|-73.94399|Entire home/apt|80   |10            |9                |2018-11-19 |0                |1                             |0               |\n",
            "+----+------------------------------------------------+-------+-----------+-------------------+-------------+--------+---------+---------------+-----+--------------+-----------------+-----------+-----------------+------------------------------+----------------+\n",
            "only showing top 5 rows\n",
            "\n"
          ],
          "name": "stdout"
        }
      ]
    },
    {
      "cell_type": "code",
      "metadata": {
        "colab": {
          "base_uri": "https://localhost:8080/"
        },
        "id": "23T7Yb9MUVgD",
        "outputId": "85a0df24-31a4-4364-976b-bbf62ce11d98"
      },
      "source": [
        "# For example we may be interested to see how many listings there were per neighbourhood group. \n",
        "df.groupBy(\"neighbourhood_group\").count().orderBy(desc('count')).show(100)"
      ],
      "execution_count": 11,
      "outputs": [
        {
          "output_type": "stream",
          "text": [
            "+--------------------+-----+\n",
            "| neighbourhood_group|count|\n",
            "+--------------------+-----+\n",
            "|           Manhattan|21594|\n",
            "|            Brooklyn|20055|\n",
            "|              Queens| 5630|\n",
            "|               Bronx| 1080|\n",
            "|       Staten Island|  370|\n",
            "|                null|  185|\n",
            "|              Harlem|   13|\n",
            "|  Bedford-Stuyvesant|    9|\n",
            "|      Hell's Kitchen|    7|\n",
            "|     Upper East Side|    7|\n",
            "|            Elmhurst|    7|\n",
            "|        Williamsburg|    6|\n",
            "|         East Harlem|    5|\n",
            "|          Mott Haven|    5|\n",
            "|        East Village|    4|\n",
            "|  Washington Heights|    4|\n",
            "|             Midtown|    4|\n",
            "|            Canarsie|    4|\n",
            "|            Bushwick|    4|\n",
            "|     Upper West Side|    3|\n",
            "|           Woodhaven|    3|\n",
            "|             Midwood|    3|\n",
            "|    Ditmars Steinway|    3|\n",
            "|            Flushing|    3|\n",
            "|       Crown Heights|    3|\n",
            "|    Long Island City|    3|\n",
            "| Morningside Heights|    3|\n",
            "|            Longwood|    2|\n",
            "|             Astoria|    2|\n",
            "|       East Elmhurst|    2|\n",
            "|Prospect-Lefferts...|    2|\n",
            "|      Pelham Gardens|    2|\n",
            "|   Greenwich Village|    2|\n",
            "|     Jackson Heights|    2|\n",
            "|       Cypress Hills|    2|\n",
            "|                NoHo|    2|\n",
            "|             Chelsea|    2|\n",
            "|            Flatbush|    2|\n",
            "|          Douglaston|    1|\n",
            "|        Clinton Hill|    1|\n",
            "|               Nadia|    1|\n",
            "|              Carmen|    1|\n",
            "|           Briarwood|    1|\n",
            "|       Randall Manor|    1|\n",
            "|         Little Neck|    1|\n",
            "|            Edgemere|    1|\n",
            "|      Queens Village|    1|\n",
            "|          Bath Beach|    1|\n",
            "|         Eltingville|    1|\n",
            "|            Woodside|    1|\n",
            "|         Fort Greene|    1|\n",
            "|            Gramercy|    1|\n",
            "|                   D|    1|\n",
            "|           197400421|    1|\n",
            "|           194716858|    1|\n",
            "|       East Flatbush|    1|\n",
            "|        West Village|    1|\n",
            "|    Brooklyn Heights|    1|\n",
            "|              Evelyn|    1|\n",
            "|     Stuyvesant Town|    1|\n",
            "| Springfield Gardens|    1|\n",
            "|             Maspeth|    1|\n",
            "|   Concourse Village|    1|\n",
            "|       William Hakan|    1|\n",
            "|                SoHo|    1|\n",
            "|         Throgs Neck|    1|\n",
            "|              Krista|    1|\n",
            "|         Murray Hill|    1|\n",
            "|            Red Hook|    1|\n",
            "|    Prospect Heights|    1|\n",
            "|          Greenpoint|    1|\n",
            "|             Arverne|    1|\n",
            "|     Cambria Heights|    1|\n",
            "|              Inwood|    1|\n",
            "|       East New York|    1|\n",
            "|    South Ozone Park|    1|\n",
            "|                Seth|    1|\n",
            "|        Borough Park|    1|\n",
            "+--------------------+-----+\n",
            "\n"
          ],
          "name": "stdout"
        }
      ]
    },
    {
      "cell_type": "code",
      "metadata": {
        "colab": {
          "base_uri": "https://localhost:8080/"
        },
        "id": "CW2HtF56Ue4u",
        "outputId": "8a114d03-9a86-4344-e962-4c108e60dcf9"
      },
      "source": [
        "# Groupby Function with count (you can also use sum, min, max)\n",
        "df.groupBy(\"neighbourhood_group\").min('price').show(5)"
      ],
      "execution_count": 12,
      "outputs": [
        {
          "output_type": "stream",
          "text": [
            "+-------------------+----------+\n",
            "|neighbourhood_group|min(price)|\n",
            "+-------------------+----------+\n",
            "|         Douglaston|         1|\n",
            "|             Queens|        10|\n",
            "|              Nadia|      null|\n",
            "|            Midtown|         2|\n",
            "|    Jackson Heights|         2|\n",
            "+-------------------+----------+\n",
            "only showing top 5 rows\n",
            "\n"
          ],
          "name": "stdout"
        }
      ]
    },
    {
      "cell_type": "code",
      "metadata": {
        "colab": {
          "base_uri": "https://localhost:8080/"
        },
        "id": "o_kGyeWQU5Mm",
        "outputId": "cb129097-0576-4c78-abb7-2353c9e2dc6f"
      },
      "source": [
        "df.groupBy(\"neighbourhood\").agg({'price': 'mean'}).show(5)"
      ],
      "execution_count": 13,
      "outputs": [
        {
          "output_type": "stream",
          "text": [
            "+-------------+----------+\n",
            "|neighbourhood|avg(price)|\n",
            "+-------------+----------+\n",
            "|       Corona| 59.171875|\n",
            "| Richmondtown|      78.0|\n",
            "| Prince's Bay|     409.5|\n",
            "|  Westerleigh|      71.5|\n",
            "|   Mill Basin|    179.75|\n",
            "+-------------+----------+\n",
            "only showing top 5 rows\n",
            "\n"
          ],
          "name": "stdout"
        }
      ]
    },
    {
      "cell_type": "code",
      "metadata": {
        "colab": {
          "base_uri": "https://localhost:8080/"
        },
        "id": "5F-FI9pPVC5T",
        "outputId": "f5eaef2e-e010-43ac-9d2c-a92f818e9789"
      },
      "source": [
        "from pyspark.sql.functions import *\n",
        "df.groupBy(\"neighbourhood\").agg( min(df.price).alias(\"Min Price\"), max(df.price).alias(\"Max Price\")).show(5)"
      ],
      "execution_count": 14,
      "outputs": [
        {
          "output_type": "stream",
          "text": [
            "+-------------+---------+---------+\n",
            "|neighbourhood|Min Price|Max Price|\n",
            "+-------------+---------+---------+\n",
            "|       Corona|       23|      359|\n",
            "| Richmondtown|       78|       78|\n",
            "| Prince's Bay|       85|     1250|\n",
            "|  Westerleigh|       40|      103|\n",
            "|   Mill Basin|       85|      299|\n",
            "+-------------+---------+---------+\n",
            "only showing top 5 rows\n",
            "\n"
          ],
          "name": "stdout"
        }
      ]
    },
    {
      "cell_type": "code",
      "metadata": {
        "colab": {
          "base_uri": "https://localhost:8080/"
        },
        "id": "Crx5akVYVHj3",
        "outputId": "2f4f64df-15fa-4211-8766-65164c709ac9"
      },
      "source": [
        "summary = df.select('price', 'minimum_nights', 'number_of_reviews').summary('count', 'min', 'max', 'mean')\n",
        "summary.show(5)"
      ],
      "execution_count": 28,
      "outputs": [
        {
          "output_type": "stream",
          "text": [
            "+-------+------------------+------------------+-----------------+\n",
            "|summary|             price|    minimum_nights|number_of_reviews|\n",
            "+-------+------------------+------------------+-----------------+\n",
            "|  count|             48887|             48891|            48738|\n",
            "|    min|               -74|                 0|                0|\n",
            "|    max|             10000|              1250|              629|\n",
            "|   mean|152.22298361527604|7.1286126280910596|23.25827896097501|\n",
            "+-------+------------------+------------------+-----------------+\n",
            "\n"
          ],
          "name": "stdout"
        }
      ]
    },
    {
      "cell_type": "code",
      "metadata": {
        "colab": {
          "base_uri": "https://localhost:8080/"
        },
        "id": "WC8IOa4rVHmH",
        "outputId": "ceef65c0-bbfc-43f4-8aef-b81c9e23e449"
      },
      "source": [
        "from pyspark.sql.functions import *\n",
        "df.agg( min(df.price).alias(\"Min Price\"), max(df.price).alias(\"Max Price\")).show()\n",
        "df.select( countDistinct(\"neighbourhood_group\").alias('CountD'), avg('price').alias('avg_P'), stddev(\"price\").alias('stdev_P')).show()\n",
        "df.agg( {'number_of_reviews': 'max'} ).withColumnRenamed(\"max(number_of_reviews)\", \"Max Reviews\").show()"
      ],
      "execution_count": 32,
      "outputs": [
        {
          "output_type": "stream",
          "text": [
            "+---------+---------+\n",
            "|Min Price|Max Price|\n",
            "+---------+---------+\n",
            "|      -74|    10000|\n",
            "+---------+---------+\n",
            "\n",
            "+------+------------------+-----------------+\n",
            "|CountD|             avg_P|          stdev_P|\n",
            "+------+------------------+-----------------+\n",
            "|    77|152.22298361527604|238.5414668883948|\n",
            "+------+------------------+-----------------+\n",
            "\n",
            "+-----------+\n",
            "|Max Reviews|\n",
            "+-----------+\n",
            "|        629|\n",
            "+-----------+\n",
            "\n"
          ],
          "name": "stdout"
        }
      ]
    },
    {
      "cell_type": "code",
      "metadata": {
        "id": "fOq-eiISVHqE"
      },
      "source": [
        "# Pivot Function\n",
        "# https://www.jianshu.com/p/36bdf156cbda"
      ],
      "execution_count": null,
      "outputs": []
    },
    {
      "cell_type": "code",
      "metadata": {
        "id": "_zbdYeJ9VHsA"
      },
      "source": [
        ""
      ],
      "execution_count": null,
      "outputs": []
    }
  ]
}