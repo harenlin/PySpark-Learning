{
  "nbformat": 4,
  "nbformat_minor": 0,
  "metadata": {
    "kernelspec": {
      "display_name": "Python 3",
      "language": "python",
      "name": "python3"
    },
    "language_info": {
      "codemirror_mode": {
        "name": "ipython",
        "version": 3
      },
      "file_extension": ".py",
      "mimetype": "text/x-python",
      "name": "python",
      "nbconvert_exporter": "python",
      "pygments_lexer": "ipython3",
      "version": "3.7.4"
    },
    "colab": {
      "name": "SQL_Options_in_Spark_HW.ipynb",
      "provenance": [],
      "include_colab_link": true
    }
  },
  "cells": [
    {
      "cell_type": "markdown",
      "metadata": {
        "id": "view-in-github",
        "colab_type": "text"
      },
      "source": [
        "<a href=\"https://colab.research.google.com/github/harenlin/PySpark-Learning/blob/main/SQL_Options_in_Spark_HW.ipynb\" target=\"_parent\"><img src=\"https://colab.research.google.com/assets/colab-badge.svg\" alt=\"Open In Colab\"/></a>"
      ]
    },
    {
      "cell_type": "markdown",
      "metadata": {
        "id": "IONCnhVYonxt"
      },
      "source": [
        "# SQL Options in Spark HW\n",
        "\n",
        "Alirght let's apply what we learned in the lecture to a new dataset!\n",
        "\n",
        "**But first!**\n",
        "\n",
        "Let's start with Spark SQL. But first we need to create a Spark Session!"
      ]
    },
    {
      "cell_type": "code",
      "metadata": {
        "colab": {
          "base_uri": "https://localhost:8080/",
          "height": 488
        },
        "id": "Q5SXOJWBonxt",
        "outputId": "33172404-59ac-437f-a5f1-a665cc8221b6"
      },
      "source": [
        "!pip install pyspark\n",
        "import pyspark\n",
        "from pyspark.sql import SparkSession\n",
        "spark = SparkSession.builder.appName('SparkSQL').getOrCreate()\n",
        "cores = spark._jsc.sc().getExecutorMemoryStatus().keySet().size()\n",
        "print(\"You are working with\", cores, \"core(s)\")\n",
        "spark"
      ],
      "execution_count": 1,
      "outputs": [
        {
          "output_type": "stream",
          "text": [
            "Collecting pyspark\n",
            "\u001b[?25l  Downloading https://files.pythonhosted.org/packages/89/db/e18cfd78e408de957821ec5ca56de1250645b05f8523d169803d8df35a64/pyspark-3.1.2.tar.gz (212.4MB)\n",
            "\u001b[K     |████████████████████████████████| 212.4MB 71kB/s \n",
            "\u001b[?25hCollecting py4j==0.10.9\n",
            "\u001b[?25l  Downloading https://files.pythonhosted.org/packages/9e/b6/6a4fb90cd235dc8e265a6a2067f2a2c99f0d91787f06aca4bcf7c23f3f80/py4j-0.10.9-py2.py3-none-any.whl (198kB)\n",
            "\u001b[K     |████████████████████████████████| 204kB 18.7MB/s \n",
            "\u001b[?25hBuilding wheels for collected packages: pyspark\n",
            "  Building wheel for pyspark (setup.py) ... \u001b[?25l\u001b[?25hdone\n",
            "  Created wheel for pyspark: filename=pyspark-3.1.2-py2.py3-none-any.whl size=212880768 sha256=8dbd9ebe37000ab159f50ecb65703a6826f25303ea256ac80203b2f0400e0dba\n",
            "  Stored in directory: /root/.cache/pip/wheels/40/1b/2c/30f43be2627857ab80062bef1527c0128f7b4070b6b2d02139\n",
            "Successfully built pyspark\n",
            "Installing collected packages: py4j, pyspark\n",
            "Successfully installed py4j-0.10.9 pyspark-3.1.2\n",
            "You are working with 1 core(s)\n"
          ],
          "name": "stdout"
        },
        {
          "output_type": "execute_result",
          "data": {
            "text/html": [
              "\n",
              "            <div>\n",
              "                <p><b>SparkSession - in-memory</b></p>\n",
              "                \n",
              "        <div>\n",
              "            <p><b>SparkContext</b></p>\n",
              "\n",
              "            <p><a href=\"http://15e4992b59df:4040\">Spark UI</a></p>\n",
              "\n",
              "            <dl>\n",
              "              <dt>Version</dt>\n",
              "                <dd><code>v3.1.2</code></dd>\n",
              "              <dt>Master</dt>\n",
              "                <dd><code>local[*]</code></dd>\n",
              "              <dt>AppName</dt>\n",
              "                <dd><code>SparkSQL</code></dd>\n",
              "            </dl>\n",
              "        </div>\n",
              "        \n",
              "            </div>\n",
              "        "
            ],
            "text/plain": [
              "<pyspark.sql.session.SparkSession at 0x7f0a8814d090>"
            ]
          },
          "metadata": {
            "tags": []
          },
          "execution_count": 1
        }
      ]
    },
    {
      "cell_type": "markdown",
      "metadata": {
        "id": "CmRBcwaionxt"
      },
      "source": [
        "## Read in our DataFrame for this Notebook\n",
        "\n",
        "For this notebook we will be using the Google Play Store csv file attached to this lecture. Let's go ahead and read it in. \n",
        "\n",
        "### About this dataset\n",
        "\n",
        "Contains a list of Google Play Store Apps and info about the apps like the category, rating, reviews, size, etc. \n",
        "\n",
        "**Source:** https://www.kaggle.com/lava18/google-play-store-apps"
      ]
    },
    {
      "cell_type": "code",
      "metadata": {
        "colab": {
          "base_uri": "https://localhost:8080/"
        },
        "id": "BFvvcfRMonxu",
        "outputId": "f5031d55-d3f1-4a71-afc2-2cad7bbd797f"
      },
      "source": [
        "from google.colab import drive\n",
        "drive.mount('/content/drive')\n",
        "\n",
        "path = '/content/drive/My Drive/PySpark/Datasets/'\n",
        "googlep = spark.read.csv(path + 'googleplaystore.csv', inferSchema=True, header=True)"
      ],
      "execution_count": 2,
      "outputs": [
        {
          "output_type": "stream",
          "text": [
            "Mounted at /content/drive\n"
          ],
          "name": "stdout"
        }
      ]
    },
    {
      "cell_type": "markdown",
      "metadata": {
        "id": "OZ2fFUcgonxu"
      },
      "source": [
        "## First things first\n",
        "\n",
        "Let's check out the first few lines of the dataframe to see what we are working with"
      ]
    },
    {
      "cell_type": "code",
      "metadata": {
        "colab": {
          "base_uri": "https://localhost:8080/"
        },
        "id": "W7z5cSh2qssD",
        "outputId": "6309aa9b-2a34-4489-9f7e-0c1f333a27e2"
      },
      "source": [
        "googlep.show(5, False)"
      ],
      "execution_count": 3,
      "outputs": [
        {
          "output_type": "stream",
          "text": [
            "+--------------------------------------------------+--------------+------+-------+----+-----------+----+-----+--------------+-------------------------+----------------+------------------+------------+\n",
            "|App                                               |Category      |Rating|Reviews|Size|Installs   |Type|Price|Content Rating|Genres                   |Last Updated    |Current Ver       |Android Ver |\n",
            "+--------------------------------------------------+--------------+------+-------+----+-----------+----+-----+--------------+-------------------------+----------------+------------------+------------+\n",
            "|Photo Editor & Candy Camera & Grid & ScrapBook    |ART_AND_DESIGN|4.1   |159    |19M |10,000+    |Free|0    |Everyone      |Art & Design             |January 7, 2018 |1.0.0             |4.0.3 and up|\n",
            "|Coloring book moana                               |ART_AND_DESIGN|3.9   |967    |14M |500,000+   |Free|0    |Everyone      |Art & Design;Pretend Play|January 15, 2018|2.0.0             |4.0.3 and up|\n",
            "|U Launcher Lite – FREE Live Cool Themes, Hide Apps|ART_AND_DESIGN|4.7   |87510  |8.7M|5,000,000+ |Free|0    |Everyone      |Art & Design             |August 1, 2018  |1.2.4             |4.0.3 and up|\n",
            "|Sketch - Draw & Paint                             |ART_AND_DESIGN|4.5   |215644 |25M |50,000,000+|Free|0    |Teen          |Art & Design             |June 8, 2018    |Varies with device|4.2 and up  |\n",
            "|Pixel Draw - Number Art Coloring Book             |ART_AND_DESIGN|4.3   |967    |2.8M|100,000+   |Free|0    |Everyone      |Art & Design;Creativity  |June 20, 2018   |1.1               |4.4 and up  |\n",
            "+--------------------------------------------------+--------------+------+-------+----+-----------+----+-----+--------------+-------------------------+----------------+------------------+------------+\n",
            "only showing top 5 rows\n",
            "\n"
          ],
          "name": "stdout"
        }
      ]
    },
    {
      "cell_type": "code",
      "metadata": {
        "colab": {
          "base_uri": "https://localhost:8080/",
          "height": 333
        },
        "id": "VhmZhWx_onxu",
        "outputId": "ae471b1c-10a2-4494-ec5f-b7e62fdb8f6b"
      },
      "source": [
        "# This is way better\n",
        "googlep.limit(5).toPandas()"
      ],
      "execution_count": 4,
      "outputs": [
        {
          "output_type": "execute_result",
          "data": {
            "text/html": [
              "<div>\n",
              "<style scoped>\n",
              "    .dataframe tbody tr th:only-of-type {\n",
              "        vertical-align: middle;\n",
              "    }\n",
              "\n",
              "    .dataframe tbody tr th {\n",
              "        vertical-align: top;\n",
              "    }\n",
              "\n",
              "    .dataframe thead th {\n",
              "        text-align: right;\n",
              "    }\n",
              "</style>\n",
              "<table border=\"1\" class=\"dataframe\">\n",
              "  <thead>\n",
              "    <tr style=\"text-align: right;\">\n",
              "      <th></th>\n",
              "      <th>App</th>\n",
              "      <th>Category</th>\n",
              "      <th>Rating</th>\n",
              "      <th>Reviews</th>\n",
              "      <th>Size</th>\n",
              "      <th>Installs</th>\n",
              "      <th>Type</th>\n",
              "      <th>Price</th>\n",
              "      <th>Content Rating</th>\n",
              "      <th>Genres</th>\n",
              "      <th>Last Updated</th>\n",
              "      <th>Current Ver</th>\n",
              "      <th>Android Ver</th>\n",
              "    </tr>\n",
              "  </thead>\n",
              "  <tbody>\n",
              "    <tr>\n",
              "      <th>0</th>\n",
              "      <td>Photo Editor &amp; Candy Camera &amp; Grid &amp; ScrapBook</td>\n",
              "      <td>ART_AND_DESIGN</td>\n",
              "      <td>4.1</td>\n",
              "      <td>159</td>\n",
              "      <td>19M</td>\n",
              "      <td>10,000+</td>\n",
              "      <td>Free</td>\n",
              "      <td>0</td>\n",
              "      <td>Everyone</td>\n",
              "      <td>Art &amp; Design</td>\n",
              "      <td>January 7, 2018</td>\n",
              "      <td>1.0.0</td>\n",
              "      <td>4.0.3 and up</td>\n",
              "    </tr>\n",
              "    <tr>\n",
              "      <th>1</th>\n",
              "      <td>Coloring book moana</td>\n",
              "      <td>ART_AND_DESIGN</td>\n",
              "      <td>3.9</td>\n",
              "      <td>967</td>\n",
              "      <td>14M</td>\n",
              "      <td>500,000+</td>\n",
              "      <td>Free</td>\n",
              "      <td>0</td>\n",
              "      <td>Everyone</td>\n",
              "      <td>Art &amp; Design;Pretend Play</td>\n",
              "      <td>January 15, 2018</td>\n",
              "      <td>2.0.0</td>\n",
              "      <td>4.0.3 and up</td>\n",
              "    </tr>\n",
              "    <tr>\n",
              "      <th>2</th>\n",
              "      <td>U Launcher Lite – FREE Live Cool Themes, Hide ...</td>\n",
              "      <td>ART_AND_DESIGN</td>\n",
              "      <td>4.7</td>\n",
              "      <td>87510</td>\n",
              "      <td>8.7M</td>\n",
              "      <td>5,000,000+</td>\n",
              "      <td>Free</td>\n",
              "      <td>0</td>\n",
              "      <td>Everyone</td>\n",
              "      <td>Art &amp; Design</td>\n",
              "      <td>August 1, 2018</td>\n",
              "      <td>1.2.4</td>\n",
              "      <td>4.0.3 and up</td>\n",
              "    </tr>\n",
              "    <tr>\n",
              "      <th>3</th>\n",
              "      <td>Sketch - Draw &amp; Paint</td>\n",
              "      <td>ART_AND_DESIGN</td>\n",
              "      <td>4.5</td>\n",
              "      <td>215644</td>\n",
              "      <td>25M</td>\n",
              "      <td>50,000,000+</td>\n",
              "      <td>Free</td>\n",
              "      <td>0</td>\n",
              "      <td>Teen</td>\n",
              "      <td>Art &amp; Design</td>\n",
              "      <td>June 8, 2018</td>\n",
              "      <td>Varies with device</td>\n",
              "      <td>4.2 and up</td>\n",
              "    </tr>\n",
              "    <tr>\n",
              "      <th>4</th>\n",
              "      <td>Pixel Draw - Number Art Coloring Book</td>\n",
              "      <td>ART_AND_DESIGN</td>\n",
              "      <td>4.3</td>\n",
              "      <td>967</td>\n",
              "      <td>2.8M</td>\n",
              "      <td>100,000+</td>\n",
              "      <td>Free</td>\n",
              "      <td>0</td>\n",
              "      <td>Everyone</td>\n",
              "      <td>Art &amp; Design;Creativity</td>\n",
              "      <td>June 20, 2018</td>\n",
              "      <td>1.1</td>\n",
              "      <td>4.4 and up</td>\n",
              "    </tr>\n",
              "  </tbody>\n",
              "</table>\n",
              "</div>"
            ],
            "text/plain": [
              "                                                 App  ...   Android Ver\n",
              "0     Photo Editor & Candy Camera & Grid & ScrapBook  ...  4.0.3 and up\n",
              "1                                Coloring book moana  ...  4.0.3 and up\n",
              "2  U Launcher Lite – FREE Live Cool Themes, Hide ...  ...  4.0.3 and up\n",
              "3                              Sketch - Draw & Paint  ...    4.2 and up\n",
              "4              Pixel Draw - Number Art Coloring Book  ...    4.4 and up\n",
              "\n",
              "[5 rows x 13 columns]"
            ]
          },
          "metadata": {
            "tags": []
          },
          "execution_count": 4
        }
      ]
    },
    {
      "cell_type": "markdown",
      "metadata": {
        "id": "KqxjAA8Wonxu"
      },
      "source": [
        "As well as the schema to make sure all the column types were correctly infered"
      ]
    },
    {
      "cell_type": "code",
      "metadata": {
        "colab": {
          "base_uri": "https://localhost:8080/"
        },
        "id": "sfOe6etRonxu",
        "outputId": "5f5ac4ae-b179-45f9-e293-e9ae72297dba"
      },
      "source": [
        "print(googlep.printSchema())"
      ],
      "execution_count": 5,
      "outputs": [
        {
          "output_type": "stream",
          "text": [
            "root\n",
            " |-- App: string (nullable = true)\n",
            " |-- Category: string (nullable = true)\n",
            " |-- Rating: string (nullable = true)\n",
            " |-- Reviews: string (nullable = true)\n",
            " |-- Size: string (nullable = true)\n",
            " |-- Installs: string (nullable = true)\n",
            " |-- Type: string (nullable = true)\n",
            " |-- Price: string (nullable = true)\n",
            " |-- Content Rating: string (nullable = true)\n",
            " |-- Genres: string (nullable = true)\n",
            " |-- Last Updated: string (nullable = true)\n",
            " |-- Current Ver: string (nullable = true)\n",
            " |-- Android Ver: string (nullable = true)\n",
            "\n",
            "None\n"
          ],
          "name": "stdout"
        }
      ]
    },
    {
      "cell_type": "markdown",
      "metadata": {
        "id": "A4svKzFXonxu"
      },
      "source": [
        "Looks like we need to edit some of the datatypes. We need to update Rating, Reviews and Price as integer (float for Rating) values for now, since the Size and Installs variables will need a bit more cleaning. Since we haven't been over this yet, I'm going to provide the code for you here so you can get a quick look at how it used (and how often we need it!).\n",
        "\n",
        "**make sure to change the df name to whatever you named your df**"
      ]
    },
    {
      "cell_type": "code",
      "metadata": {
        "colab": {
          "base_uri": "https://localhost:8080/",
          "height": 615
        },
        "id": "riDEg8Fgonxv",
        "outputId": "68850e89-1c09-4bc7-ba9b-bbec85abf9be"
      },
      "source": [
        "from pyspark.sql.types import IntegerType, FloatType\n",
        "df = googlep.withColumn(\"Rating\", googlep[\"Rating\"].cast(FloatType())) \\\n",
        "            .withColumn(\"Reviews\", googlep[\"Reviews\"].cast(IntegerType())) \\\n",
        "            .withColumn(\"Price\", googlep[\"Price\"].cast(IntegerType()))\n",
        "print(df.printSchema())\n",
        "df.limit(5).toPandas()"
      ],
      "execution_count": 8,
      "outputs": [
        {
          "output_type": "stream",
          "text": [
            "root\n",
            " |-- App: string (nullable = true)\n",
            " |-- Category: string (nullable = true)\n",
            " |-- Rating: float (nullable = true)\n",
            " |-- Reviews: integer (nullable = true)\n",
            " |-- Size: string (nullable = true)\n",
            " |-- Installs: string (nullable = true)\n",
            " |-- Type: string (nullable = true)\n",
            " |-- Price: integer (nullable = true)\n",
            " |-- Content Rating: string (nullable = true)\n",
            " |-- Genres: string (nullable = true)\n",
            " |-- Last Updated: string (nullable = true)\n",
            " |-- Current Ver: string (nullable = true)\n",
            " |-- Android Ver: string (nullable = true)\n",
            "\n",
            "None\n"
          ],
          "name": "stdout"
        },
        {
          "output_type": "execute_result",
          "data": {
            "text/html": [
              "<div>\n",
              "<style scoped>\n",
              "    .dataframe tbody tr th:only-of-type {\n",
              "        vertical-align: middle;\n",
              "    }\n",
              "\n",
              "    .dataframe tbody tr th {\n",
              "        vertical-align: top;\n",
              "    }\n",
              "\n",
              "    .dataframe thead th {\n",
              "        text-align: right;\n",
              "    }\n",
              "</style>\n",
              "<table border=\"1\" class=\"dataframe\">\n",
              "  <thead>\n",
              "    <tr style=\"text-align: right;\">\n",
              "      <th></th>\n",
              "      <th>App</th>\n",
              "      <th>Category</th>\n",
              "      <th>Rating</th>\n",
              "      <th>Reviews</th>\n",
              "      <th>Size</th>\n",
              "      <th>Installs</th>\n",
              "      <th>Type</th>\n",
              "      <th>Price</th>\n",
              "      <th>Content Rating</th>\n",
              "      <th>Genres</th>\n",
              "      <th>Last Updated</th>\n",
              "      <th>Current Ver</th>\n",
              "      <th>Android Ver</th>\n",
              "    </tr>\n",
              "  </thead>\n",
              "  <tbody>\n",
              "    <tr>\n",
              "      <th>0</th>\n",
              "      <td>Photo Editor &amp; Candy Camera &amp; Grid &amp; ScrapBook</td>\n",
              "      <td>ART_AND_DESIGN</td>\n",
              "      <td>4.1</td>\n",
              "      <td>159</td>\n",
              "      <td>19M</td>\n",
              "      <td>10,000+</td>\n",
              "      <td>Free</td>\n",
              "      <td>0</td>\n",
              "      <td>Everyone</td>\n",
              "      <td>Art &amp; Design</td>\n",
              "      <td>January 7, 2018</td>\n",
              "      <td>1.0.0</td>\n",
              "      <td>4.0.3 and up</td>\n",
              "    </tr>\n",
              "    <tr>\n",
              "      <th>1</th>\n",
              "      <td>Coloring book moana</td>\n",
              "      <td>ART_AND_DESIGN</td>\n",
              "      <td>3.9</td>\n",
              "      <td>967</td>\n",
              "      <td>14M</td>\n",
              "      <td>500,000+</td>\n",
              "      <td>Free</td>\n",
              "      <td>0</td>\n",
              "      <td>Everyone</td>\n",
              "      <td>Art &amp; Design;Pretend Play</td>\n",
              "      <td>January 15, 2018</td>\n",
              "      <td>2.0.0</td>\n",
              "      <td>4.0.3 and up</td>\n",
              "    </tr>\n",
              "    <tr>\n",
              "      <th>2</th>\n",
              "      <td>U Launcher Lite – FREE Live Cool Themes, Hide ...</td>\n",
              "      <td>ART_AND_DESIGN</td>\n",
              "      <td>4.7</td>\n",
              "      <td>87510</td>\n",
              "      <td>8.7M</td>\n",
              "      <td>5,000,000+</td>\n",
              "      <td>Free</td>\n",
              "      <td>0</td>\n",
              "      <td>Everyone</td>\n",
              "      <td>Art &amp; Design</td>\n",
              "      <td>August 1, 2018</td>\n",
              "      <td>1.2.4</td>\n",
              "      <td>4.0.3 and up</td>\n",
              "    </tr>\n",
              "    <tr>\n",
              "      <th>3</th>\n",
              "      <td>Sketch - Draw &amp; Paint</td>\n",
              "      <td>ART_AND_DESIGN</td>\n",
              "      <td>4.5</td>\n",
              "      <td>215644</td>\n",
              "      <td>25M</td>\n",
              "      <td>50,000,000+</td>\n",
              "      <td>Free</td>\n",
              "      <td>0</td>\n",
              "      <td>Teen</td>\n",
              "      <td>Art &amp; Design</td>\n",
              "      <td>June 8, 2018</td>\n",
              "      <td>Varies with device</td>\n",
              "      <td>4.2 and up</td>\n",
              "    </tr>\n",
              "    <tr>\n",
              "      <th>4</th>\n",
              "      <td>Pixel Draw - Number Art Coloring Book</td>\n",
              "      <td>ART_AND_DESIGN</td>\n",
              "      <td>4.3</td>\n",
              "      <td>967</td>\n",
              "      <td>2.8M</td>\n",
              "      <td>100,000+</td>\n",
              "      <td>Free</td>\n",
              "      <td>0</td>\n",
              "      <td>Everyone</td>\n",
              "      <td>Art &amp; Design;Creativity</td>\n",
              "      <td>June 20, 2018</td>\n",
              "      <td>1.1</td>\n",
              "      <td>4.4 and up</td>\n",
              "    </tr>\n",
              "  </tbody>\n",
              "</table>\n",
              "</div>"
            ],
            "text/plain": [
              "                                                 App  ...   Android Ver\n",
              "0     Photo Editor & Candy Camera & Grid & ScrapBook  ...  4.0.3 and up\n",
              "1                                Coloring book moana  ...  4.0.3 and up\n",
              "2  U Launcher Lite – FREE Live Cool Themes, Hide ...  ...  4.0.3 and up\n",
              "3                              Sketch - Draw & Paint  ...    4.2 and up\n",
              "4              Pixel Draw - Number Art Coloring Book  ...    4.4 and up\n",
              "\n",
              "[5 rows x 13 columns]"
            ]
          },
          "metadata": {
            "tags": []
          },
          "execution_count": 8
        }
      ]
    },
    {
      "cell_type": "markdown",
      "metadata": {
        "id": "hT5114YZonxv"
      },
      "source": [
        "Looks like that worked! Great! Let's dig in. "
      ]
    },
    {
      "cell_type": "markdown",
      "metadata": {
        "id": "tvXnF0Dqonxv"
      },
      "source": [
        "## 1. Create Tempview\n",
        "\n",
        "Go ahead and create a tempview of the dataframe so we can work with it in spark sql."
      ]
    },
    {
      "cell_type": "code",
      "metadata": {
        "id": "qXWyK6Wgonxv"
      },
      "source": [
        "df.createOrReplaceTempView(\"tempview\")"
      ],
      "execution_count": 9,
      "outputs": []
    },
    {
      "cell_type": "markdown",
      "metadata": {
        "id": "xBXHDnmXonxv"
      },
      "source": [
        "## 2. Select all apps with ratings above 4.1\n",
        "\n",
        "Use your tempview to select all apps with ratings above 4.1"
      ]
    },
    {
      "cell_type": "code",
      "metadata": {
        "colab": {
          "base_uri": "https://localhost:8080/"
        },
        "id": "jdOGXOCBonxv",
        "outputId": "f1c9883d-314a-4364-f398-ddccbe4496c9"
      },
      "source": [
        "spark.sql(\"SELECT * FROM tempview WHERE Rating > 4.1\").show(5,False)"
      ],
      "execution_count": 13,
      "outputs": [
        {
          "output_type": "stream",
          "text": [
            "+--------------------------------------------------+--------------+------+-------+----+-----------+----+-----+--------------+-----------------------+------------------+------------------+------------+\n",
            "|App                                               |Category      |Rating|Reviews|Size|Installs   |Type|Price|Content Rating|Genres                 |Last Updated      |Current Ver       |Android Ver |\n",
            "+--------------------------------------------------+--------------+------+-------+----+-----------+----+-----+--------------+-----------------------+------------------+------------------+------------+\n",
            "|U Launcher Lite – FREE Live Cool Themes, Hide Apps|ART_AND_DESIGN|4.7   |87510  |8.7M|5,000,000+ |Free|0    |Everyone      |Art & Design           |August 1, 2018    |1.2.4             |4.0.3 and up|\n",
            "|Sketch - Draw & Paint                             |ART_AND_DESIGN|4.5   |215644 |25M |50,000,000+|Free|0    |Teen          |Art & Design           |June 8, 2018      |Varies with device|4.2 and up  |\n",
            "|Pixel Draw - Number Art Coloring Book             |ART_AND_DESIGN|4.3   |967    |2.8M|100,000+   |Free|0    |Everyone      |Art & Design;Creativity|June 20, 2018     |1.1               |4.4 and up  |\n",
            "|Paper flowers instructions                        |ART_AND_DESIGN|4.4   |167    |5.6M|50,000+    |Free|0    |Everyone      |Art & Design           |March 26, 2017    |1.0               |2.3 and up  |\n",
            "|Garden Coloring Book                              |ART_AND_DESIGN|4.4   |13791  |33M |1,000,000+ |Free|0    |Everyone      |Art & Design           |September 20, 2017|2.9.2             |3.0 and up  |\n",
            "+--------------------------------------------------+--------------+------+-------+----+-----------+----+-----+--------------+-----------------------+------------------+------------------+------------+\n",
            "only showing top 5 rows\n",
            "\n"
          ],
          "name": "stdout"
        }
      ]
    },
    {
      "cell_type": "code",
      "metadata": {
        "colab": {
          "base_uri": "https://localhost:8080/"
        },
        "id": "_AWS7OiBrTFT",
        "outputId": "2c3f5021-2460-4fac-f58f-ea0952d03b4e"
      },
      "source": [
        "spark.sql(\"SELECT * FROM tempview WHERE Rating > 4.1\").select(['Rating', 'App']).show(5,False)"
      ],
      "execution_count": 12,
      "outputs": [
        {
          "output_type": "stream",
          "text": [
            "+------+--------------------------------------------------+\n",
            "|Rating|App                                               |\n",
            "+------+--------------------------------------------------+\n",
            "|4.7   |U Launcher Lite – FREE Live Cool Themes, Hide Apps|\n",
            "|4.5   |Sketch - Draw & Paint                             |\n",
            "|4.3   |Pixel Draw - Number Art Coloring Book             |\n",
            "|4.4   |Paper flowers instructions                        |\n",
            "|4.4   |Garden Coloring Book                              |\n",
            "+------+--------------------------------------------------+\n",
            "only showing top 5 rows\n",
            "\n"
          ],
          "name": "stdout"
        }
      ]
    },
    {
      "cell_type": "markdown",
      "metadata": {
        "id": "hPsNnfD7onxv"
      },
      "source": [
        "## 3. Now pass your results to an object \n",
        "(ie create a spark dataframe)\n",
        "\n",
        "Select just the App and Rating column where the Category is in the Comic category and the Rating is above 4.5."
      ]
    },
    {
      "cell_type": "code",
      "metadata": {
        "colab": {
          "base_uri": "https://localhost:8080/"
        },
        "id": "aJiyfi1Xonxv",
        "outputId": "c0a95c8b-d422-4c30-baca-cf1c8d03e565"
      },
      "source": [
        "sql_results = spark.sql(\"SELECT App, Rating FROM tempview WHERE Category = 'COMICS' AND Rating > 4.5\")\n",
        "sql_results.show(5,False)"
      ],
      "execution_count": 15,
      "outputs": [
        {
          "output_type": "stream",
          "text": [
            "+--------------------------------------------------------------------+------+\n",
            "|App                                                                 |Rating|\n",
            "+--------------------------------------------------------------------+------+\n",
            "|Manga Master - Best manga & comic reader                            |4.6   |\n",
            "|GANMA! - All original stories free of charge for all original comics|4.7   |\n",
            "|Röhrich Werner Soundboard                                           |4.7   |\n",
            "|Unicorn Pokez - Color By Number                                     |4.8   |\n",
            "|Manga - read Thai translation                                       |4.6   |\n",
            "+--------------------------------------------------------------------+------+\n",
            "only showing top 5 rows\n",
            "\n"
          ],
          "name": "stdout"
        }
      ]
    },
    {
      "cell_type": "markdown",
      "metadata": {
        "id": "2NxYS8Pponxw"
      },
      "source": [
        "## 4. Which category has the most cumulative reviews\n",
        "\n",
        "Only select the one category with the most reivews. \n",
        "\n",
        "*Note: will require adding all the review together for each category*"
      ]
    },
    {
      "cell_type": "code",
      "metadata": {
        "colab": {
          "base_uri": "https://localhost:8080/"
        },
        "id": "N0Lvs618onxw",
        "outputId": "653130bc-4e82-4b80-a237-7e350121d6bc"
      },
      "source": [
        "spark.sql(\"SELECT Category, sum(Reviews) AS Total_Reviews FROM tempview GROUP BY Category ORDER BY Total_Reviews DESC\").show(1)"
      ],
      "execution_count": 17,
      "outputs": [
        {
          "output_type": "stream",
          "text": [
            "+--------+-------------+\n",
            "|Category|Total_Reviews|\n",
            "+--------+-------------+\n",
            "|    GAME|   1585422349|\n",
            "+--------+-------------+\n",
            "only showing top 1 row\n",
            "\n"
          ],
          "name": "stdout"
        }
      ]
    },
    {
      "cell_type": "markdown",
      "metadata": {
        "id": "onVwpEOEonxw"
      },
      "source": [
        "## 5. Which App has the most reviews?\n",
        "\n",
        "Display ONLY the top result\n",
        "\n",
        "Include only the App column and the Reviews column."
      ]
    },
    {
      "cell_type": "code",
      "metadata": {
        "colab": {
          "base_uri": "https://localhost:8080/"
        },
        "id": "QwbeQBX0onxw",
        "outputId": "6611af73-a3b8-4c2e-8735-defacdb89af3"
      },
      "source": [
        "spark.sql(\"SELECT App, Reviews FROM tempview ORDER BY Reviews DESC\").show(1)"
      ],
      "execution_count": 19,
      "outputs": [
        {
          "output_type": "stream",
          "text": [
            "+--------+--------+\n",
            "|     App| Reviews|\n",
            "+--------+--------+\n",
            "|Facebook|78158306|\n",
            "+--------+--------+\n",
            "only showing top 1 row\n",
            "\n"
          ],
          "name": "stdout"
        }
      ]
    },
    {
      "cell_type": "markdown",
      "metadata": {
        "id": "YrQCZLOOonxw"
      },
      "source": [
        "## 5. Select all apps that contain the word 'dating' anywhere in the title\n",
        "\n",
        "*Note: we did not cover this in the lecture. You'll have to use your SQL knowledge :) Google it if you need to.*"
      ]
    },
    {
      "cell_type": "code",
      "metadata": {
        "colab": {
          "base_uri": "https://localhost:8080/"
        },
        "id": "JoXdCp2Zonxw",
        "outputId": "949d08df-fa30-4f1d-ab16-b50e6565dc18"
      },
      "source": [
        "spark.sql(\"SELECT App, Reviews \\\n",
        "               FROM tempview \\\n",
        "               WHERE App Like '%dating%' \\\n",
        "                                           \").show(5,False)"
      ],
      "execution_count": 22,
      "outputs": [
        {
          "output_type": "stream",
          "text": [
            "+--------------------------------------------------+-------+\n",
            "|App                                               |Reviews|\n",
            "+--------------------------------------------------+-------+\n",
            "|Meet, chat & date. Free dating app - Chocolate app|8661   |\n",
            "|Friend Find: free chat + flirt dating app         |23     |\n",
            "|Spine- The dating app                             |5      |\n",
            "|Princess Closet : Otome games free dating sim     |29495  |\n",
            "|happn – Local dating app                          |1118201|\n",
            "+--------------------------------------------------+-------+\n",
            "\n"
          ],
          "name": "stdout"
        }
      ]
    },
    {
      "cell_type": "markdown",
      "metadata": {
        "id": "ZYBx12mbonxw"
      },
      "source": [
        "## 6. Use SQL Transformer to display how many free apps there are in this list"
      ]
    },
    {
      "cell_type": "code",
      "metadata": {
        "colab": {
          "base_uri": "https://localhost:8080/"
        },
        "id": "X_ynlRc5onxw",
        "outputId": "f8785748-0549-49ad-bc81-97bd60538a05"
      },
      "source": [
        "from pyspark.ml.feature import SQLTransformer\n",
        "\n",
        "sqlTrans = SQLTransformer(statement = \"SELECT count(*) FROM __THIS__ WHERE Type = 'Free'\")\n",
        "sqlTrans.transform(df).show()"
      ],
      "execution_count": 24,
      "outputs": [
        {
          "output_type": "stream",
          "text": [
            "+--------+\n",
            "|count(1)|\n",
            "+--------+\n",
            "|   10037|\n",
            "+--------+\n",
            "\n"
          ],
          "name": "stdout"
        }
      ]
    },
    {
      "cell_type": "markdown",
      "metadata": {
        "id": "Tk7Acga7onxx"
      },
      "source": [
        "## 7. What is the most popular Genre?\n",
        "\n",
        "Which genre appears most often in the dataframe. Show only the top result."
      ]
    },
    {
      "cell_type": "code",
      "metadata": {
        "colab": {
          "base_uri": "https://localhost:8080/"
        },
        "id": "2RtvO8e_onxx",
        "outputId": "31481984-506f-4741-9011-4171acb600f7"
      },
      "source": [
        "sqlTrans = SQLTransformer(statement = \"SELECT Genres, count(*) as Total FROM __THIS__ GROUP BY Genres ORDER BY Total DESC\")\n",
        "sqlTrans.transform(df).show(5)"
      ],
      "execution_count": 25,
      "outputs": [
        {
          "output_type": "stream",
          "text": [
            "+-------------+-----+\n",
            "|       Genres|Total|\n",
            "+-------------+-----+\n",
            "|        Tools|  842|\n",
            "|Entertainment|  623|\n",
            "|    Education|  549|\n",
            "|      Medical|  463|\n",
            "|     Business|  460|\n",
            "+-------------+-----+\n",
            "only showing top 5 rows\n",
            "\n"
          ],
          "name": "stdout"
        }
      ]
    },
    {
      "cell_type": "markdown",
      "metadata": {
        "id": "rr2LPXhLonxx"
      },
      "source": [
        "## 8. Select all the apps in the 'Tools' genre that have more than 100 reviews"
      ]
    },
    {
      "cell_type": "code",
      "metadata": {
        "colab": {
          "base_uri": "https://localhost:8080/"
        },
        "id": "2CYJ1nS5onxx",
        "outputId": "3f5e0d8b-7470-4352-cf71-985f3119523e"
      },
      "source": [
        "sqlTrans = SQLTransformer(statement = \"SELECT App, Genres, Reviews FROM __THIS__ WHERE Genres = 'Tools' AND Reviews > 100 ORDER BY Reviews DESC\")\n",
        "sqlTrans.transform(df).show(5,False)"
      ],
      "execution_count": 33,
      "outputs": [
        {
          "output_type": "stream",
          "text": [
            "+--------------------------------------------------+------+--------+\n",
            "|App                                               |Genres|Reviews |\n",
            "+--------------------------------------------------+------+--------+\n",
            "|Clean Master- Space Cleaner & Antivirus           |Tools |42916526|\n",
            "|Security Master - Antivirus, VPN, AppLock, Booster|Tools |24900999|\n",
            "|360 Security - Free Antivirus, Booster, Cleaner   |Tools |16771865|\n",
            "|DU Battery Saver - Battery Charger & Battery Life |Tools |13479633|\n",
            "|Cache Cleaner-DU Speed Booster (booster & cleaner)|Tools |12759815|\n",
            "+--------------------------------------------------+------+--------+\n",
            "only showing top 5 rows\n",
            "\n"
          ],
          "name": "stdout"
        }
      ]
    },
    {
      "cell_type": "markdown",
      "metadata": {
        "id": "mMXnVW5vonxx"
      },
      "source": [
        "## That's all folks! Great job!"
      ]
    }
  ]
}