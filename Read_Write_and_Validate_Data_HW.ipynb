{
  "nbformat": 4,
  "nbformat_minor": 0,
  "metadata": {
    "kernelspec": {
      "display_name": "Python 3",
      "language": "python",
      "name": "python3"
    },
    "language_info": {
      "codemirror_mode": {
        "name": "ipython",
        "version": 3
      },
      "file_extension": ".py",
      "mimetype": "text/x-python",
      "name": "python",
      "nbconvert_exporter": "python",
      "pygments_lexer": "ipython3",
      "version": "3.7.4"
    },
    "colab": {
      "name": "Read_Write_and_Validate_Data_HW.ipynb",
      "provenance": [],
      "include_colab_link": true
    }
  },
  "cells": [
    {
      "cell_type": "markdown",
      "metadata": {
        "id": "view-in-github",
        "colab_type": "text"
      },
      "source": [
        "<a href=\"https://colab.research.google.com/github/harenlin/PySpark-Learning/blob/main/Read_Write_and_Validate_Data_HW.ipynb\" target=\"_parent\"><img src=\"https://colab.research.google.com/assets/colab-badge.svg\" alt=\"Open In Colab\"/></a>"
      ]
    },
    {
      "cell_type": "markdown",
      "metadata": {
        "id": "qpzNeziqVDYT"
      },
      "source": [
        "# Reading, Writing and Validating Data in PySpark HW\n",
        "\n",
        "Welcome to your first coding homework assignment in PySpark! I hope you enjoyed the lecture on Reading, Writing and Validating dataframes. Now it's time to put what you've learned into action! \n",
        "\n",
        "I've included several instructions below to help guide you through this homework assignment which I hope will get you feeling even comfortable reading, writing and validating dataframes. If you get stuck at any point, feel free to jump to the next lecture where I will guide you through my solutions to the HW assignment. \n",
        "\n",
        "Have fun!\n",
        "\n",
        "Let's dig right in!\n",
        "\n",
        "\n",
        "## But first things first.....\n",
        "We need to always begin every Spark session by creating a Spark instance. Let's go ahead and use the method we learned in the lecture in the cell below. Also see if you can remember how to open the Spark UI (using a link that automatically guides you there). "
      ]
    },
    {
      "cell_type": "code",
      "metadata": {
        "colab": {
          "base_uri": "https://localhost:8080/"
        },
        "id": "0bGGXRz3VDYT",
        "outputId": "4ccedd43-1f36-46ef-ab10-3811be3b5a58"
      },
      "source": [
        "!pip install pyspark\n",
        "import pyspark\n",
        "from pyspark.sql import SparkSession\n",
        "spark = SparkSession.builder.appName('RWV').getOrCreate()\n",
        "cores = spark._jsc.sc().getExecutorMemoryStatus().keySet().size()\n",
        "print(\"You are working with\", cores, \"core(s)\")\n",
        "print(spark)"
      ],
      "execution_count": null,
      "outputs": [
        {
          "output_type": "stream",
          "text": [
            "Collecting pyspark\n",
            "\u001b[?25l  Downloading https://files.pythonhosted.org/packages/89/db/e18cfd78e408de957821ec5ca56de1250645b05f8523d169803d8df35a64/pyspark-3.1.2.tar.gz (212.4MB)\n",
            "\u001b[K     |████████████████████████████████| 212.4MB 67kB/s \n",
            "\u001b[?25hCollecting py4j==0.10.9\n",
            "\u001b[?25l  Downloading https://files.pythonhosted.org/packages/9e/b6/6a4fb90cd235dc8e265a6a2067f2a2c99f0d91787f06aca4bcf7c23f3f80/py4j-0.10.9-py2.py3-none-any.whl (198kB)\n",
            "\u001b[K     |████████████████████████████████| 204kB 17.5MB/s \n",
            "\u001b[?25hBuilding wheels for collected packages: pyspark\n",
            "  Building wheel for pyspark (setup.py) ... \u001b[?25l\u001b[?25hdone\n",
            "  Created wheel for pyspark: filename=pyspark-3.1.2-py2.py3-none-any.whl size=212880768 sha256=c90f9beae07fa733583ca0aaea71516a4c0df3f020bf13bbc71e6ce14e5ab375\n",
            "  Stored in directory: /root/.cache/pip/wheels/40/1b/2c/30f43be2627857ab80062bef1527c0128f7b4070b6b2d02139\n",
            "Successfully built pyspark\n",
            "Installing collected packages: py4j, pyspark\n",
            "Successfully installed py4j-0.10.9 pyspark-3.1.2\n",
            "You are working with 1 core(s)\n",
            "<pyspark.sql.session.SparkSession object at 0x7fbb98c54fd0>\n"
          ],
          "name": "stdout"
        }
      ]
    },
    {
      "cell_type": "code",
      "metadata": {
        "colab": {
          "base_uri": "https://localhost:8080/",
          "height": 216
        },
        "id": "3qPfFu5vVoJx",
        "outputId": "e21925f2-fe46-4d3c-b522-70f7de3ccf76"
      },
      "source": [
        "spark"
      ],
      "execution_count": null,
      "outputs": [
        {
          "output_type": "execute_result",
          "data": {
            "text/html": [
              "\n",
              "            <div>\n",
              "                <p><b>SparkSession - in-memory</b></p>\n",
              "                \n",
              "        <div>\n",
              "            <p><b>SparkContext</b></p>\n",
              "\n",
              "            <p><a href=\"http://15b74c10db96:4040\">Spark UI</a></p>\n",
              "\n",
              "            <dl>\n",
              "              <dt>Version</dt>\n",
              "                <dd><code>v3.1.2</code></dd>\n",
              "              <dt>Master</dt>\n",
              "                <dd><code>local[*]</code></dd>\n",
              "              <dt>AppName</dt>\n",
              "                <dd><code>RWV</code></dd>\n",
              "            </dl>\n",
              "        </div>\n",
              "        \n",
              "            </div>\n",
              "        "
            ],
            "text/plain": [
              "<pyspark.sql.session.SparkSession at 0x7fbb98c54fd0>"
            ]
          },
          "metadata": {
            "tags": []
          },
          "execution_count": 2
        }
      ]
    },
    {
      "cell_type": "markdown",
      "metadata": {
        "id": "eNe31YgeVDYU"
      },
      "source": [
        "## Next let's start by reading a basic csv dataset\n",
        "\n",
        "Download the pga_tour_historical dataset that is attached to this lecture and save it whatever folder you want, then read it in. \n",
        "\n",
        "**Data Source:** https://www.kaggle.com/bradklassen/pga-tour-20102018-data\n",
        "\n",
        "Rememer to try letting Spark infer the header and infer the Schema types!"
      ]
    },
    {
      "cell_type": "code",
      "metadata": {
        "colab": {
          "base_uri": "https://localhost:8080/"
        },
        "id": "5DIJMZ4NVDYU",
        "outputId": "1156022a-80cf-47fc-f9b6-90433d4d3e17"
      },
      "source": [
        "from google.colab import drive\n",
        "drive.mount('/content/drive')\n",
        "\n",
        "path = '/content/drive/My Drive/PySpark/Datasets/'\n",
        "pga = spark.read.csv(path + 'pga_tour_historical.csv', inferSchema=True, header=True)"
      ],
      "execution_count": null,
      "outputs": [
        {
          "output_type": "stream",
          "text": [
            "Mounted at /content/drive\n"
          ],
          "name": "stdout"
        }
      ]
    },
    {
      "cell_type": "markdown",
      "metadata": {
        "id": "_O1LdgQ_VDYV"
      },
      "source": [
        "## 1. View first 5 lines of dataframe\n",
        "First generate a view of the first 5 lines of the dataframe to get an idea of what is inside. We went over two ways of doing this... see if you can remember BOTH ways. "
      ]
    },
    {
      "cell_type": "code",
      "metadata": {
        "colab": {
          "base_uri": "https://localhost:8080/"
        },
        "id": "faZQWV3NVDYV",
        "outputId": "069cccec-0494-4c41-ffb7-26009cf9d36b"
      },
      "source": [
        "pga.show(5)"
      ],
      "execution_count": null,
      "outputs": [
        {
          "output_type": "stream",
          "text": [
            "+---------------+------+----------------+--------------------+-----+\n",
            "|    Player Name|Season|       Statistic|            Variable|Value|\n",
            "+---------------+------+----------------+--------------------+-----+\n",
            "|Robert Garrigus|  2010|Driving Distance|Driving Distance ...|   71|\n",
            "|   Bubba Watson|  2010|Driving Distance|Driving Distance ...|   77|\n",
            "| Dustin Johnson|  2010|Driving Distance|Driving Distance ...|   83|\n",
            "|Brett Wetterich|  2010|Driving Distance|Driving Distance ...|   54|\n",
            "|    J.B. Holmes|  2010|Driving Distance|Driving Distance ...|  100|\n",
            "+---------------+------+----------------+--------------------+-----+\n",
            "only showing top 5 rows\n",
            "\n"
          ],
          "name": "stdout"
        }
      ]
    },
    {
      "cell_type": "markdown",
      "metadata": {
        "id": "OQBuETgDVDYV"
      },
      "source": [
        "## 2. Print the schema details\n",
        "\n",
        "Now print the details of the dataframes schema that Spark infered to ensure that it was infered correctly. Sometimes it is not infered correctly, so we need to watch out!"
      ]
    },
    {
      "cell_type": "code",
      "metadata": {
        "colab": {
          "base_uri": "https://localhost:8080/"
        },
        "id": "7Z9SHXSFVDYV",
        "outputId": "2e23c77e-c043-499c-8510-ea4298246383"
      },
      "source": [
        "pga.printSchema()"
      ],
      "execution_count": null,
      "outputs": [
        {
          "output_type": "stream",
          "text": [
            "root\n",
            " |-- Player Name: string (nullable = true)\n",
            " |-- Season: integer (nullable = true)\n",
            " |-- Statistic: string (nullable = true)\n",
            " |-- Variable: string (nullable = true)\n",
            " |-- Value: string (nullable = true)\n",
            "\n"
          ],
          "name": "stdout"
        }
      ]
    },
    {
      "cell_type": "code",
      "metadata": {
        "colab": {
          "base_uri": "https://localhost:8080/"
        },
        "id": "yT4HsUgRWTLr",
        "outputId": "c3064054-2975-4d1e-c8b9-c22e1d39f1e5"
      },
      "source": [
        "pga.columns"
      ],
      "execution_count": null,
      "outputs": [
        {
          "output_type": "execute_result",
          "data": {
            "text/plain": [
              "['Player Name', 'Season', 'Statistic', 'Variable', 'Value']"
            ]
          },
          "metadata": {
            "tags": []
          },
          "execution_count": 6
        }
      ]
    },
    {
      "cell_type": "code",
      "metadata": {
        "colab": {
          "base_uri": "https://localhost:8080/"
        },
        "id": "xDo9_qNKWTOI",
        "outputId": "617142b5-448b-4516-dfea-6949fd22da83"
      },
      "source": [
        "pga.describe()"
      ],
      "execution_count": null,
      "outputs": [
        {
          "output_type": "execute_result",
          "data": {
            "text/plain": [
              "DataFrame[summary: string, Player Name: string, Season: string, Statistic: string, Variable: string, Value: string]"
            ]
          },
          "metadata": {
            "tags": []
          },
          "execution_count": 7
        }
      ]
    },
    {
      "cell_type": "markdown",
      "metadata": {
        "id": "slqRzkmaVDYV"
      },
      "source": [
        "## 3. Edit the schema during the read in\n",
        "\n",
        "We can see from the output above that Spark did not correctly infer that the \"value\" column was an integer value. Let's try specifying the schema this time to let spark know what the schema should be.\n",
        "\n",
        "Here is a link to see a list of PySpark data types in case you need it (also attached to the lecture): \n",
        "https://spark.apache.org/docs/latest/sql-ref-datatypes.html"
      ]
    },
    {
      "cell_type": "code",
      "metadata": {
        "colab": {
          "base_uri": "https://localhost:8080/"
        },
        "id": "4nmTbCwbVDYW",
        "outputId": "ed66cdd7-3ccb-440c-ee29-894161e12be0"
      },
      "source": [
        "from pyspark.sql.types import StructField, StringType, IntegerType, StructType, DateType\n",
        "# pyspark data types: https://spark.apache.org/docs/latest/sql-ref-datatypes.html\n",
        "data_schema = [StructField(\"Player Name\", StringType(), True), \\\n",
        "               StructField(\"Season\", IntegerType(), True), \\\n",
        "               StructField(\"Statistic\", StringType(), True), \\\n",
        "               StructField(\"Variable\", StringType(), True), \\\n",
        "               StructField(\"Value\", IntegerType(), True)]\n",
        "final_struc = StructType(fields = data_schema)\n",
        "\n",
        "path = '/content/drive/My Drive/PySpark/Datasets/'\n",
        "pga = spark.read.csv(path + 'pga_tour_historical.csv', schema = final_struc)\n",
        "print(pga.printSchema())"
      ],
      "execution_count": null,
      "outputs": [
        {
          "output_type": "stream",
          "text": [
            "root\n",
            " |-- Player Name: string (nullable = true)\n",
            " |-- Season: integer (nullable = true)\n",
            " |-- Statistic: string (nullable = true)\n",
            " |-- Variable: string (nullable = true)\n",
            " |-- Value: integer (nullable = true)\n",
            "\n",
            "None\n"
          ],
          "name": "stdout"
        }
      ]
    },
    {
      "cell_type": "markdown",
      "metadata": {
        "id": "2FwaYqByVDYW"
      },
      "source": [
        "## 4. Generate summary statistics for only one variable\n",
        "\n",
        "See if you can generate summary statistics for only the \"Value\" column using the .describe function\n",
        "\n",
        "(count, mean, stddev, min, max) "
      ]
    },
    {
      "cell_type": "code",
      "metadata": {
        "colab": {
          "base_uri": "https://localhost:8080/"
        },
        "id": "T8lXB_eYVDYW",
        "outputId": "89c89b84-b6bf-49d0-fba8-20bb82b3e824"
      },
      "source": [
        "pga.describe(['Value']).show()"
      ],
      "execution_count": null,
      "outputs": [
        {
          "output_type": "stream",
          "text": [
            "+-------+------------------+\n",
            "|summary|             Value|\n",
            "+-------+------------------+\n",
            "|  count|           1657247|\n",
            "|   mean|12494.388998743096|\n",
            "| stddev|157274.75673570752|\n",
            "|    min|              -178|\n",
            "|    max|           3564954|\n",
            "+-------+------------------+\n",
            "\n"
          ],
          "name": "stdout"
        }
      ]
    },
    {
      "cell_type": "code",
      "metadata": {
        "colab": {
          "base_uri": "https://localhost:8080/"
        },
        "id": "7yniqWFEXL7A",
        "outputId": "0a31aff9-0942-417d-a34e-4b67860484ab"
      },
      "source": [
        "pga.select('Value').summary(\"count\", \"mean\", \"stddev\", \"min\", \"max\").show()"
      ],
      "execution_count": null,
      "outputs": [
        {
          "output_type": "stream",
          "text": [
            "+-------+------------------+\n",
            "|summary|             Value|\n",
            "+-------+------------------+\n",
            "|  count|           1657247|\n",
            "|   mean|12494.388998743096|\n",
            "| stddev|157274.75673570752|\n",
            "|    min|              -178|\n",
            "|    max|           3564954|\n",
            "+-------+------------------+\n",
            "\n"
          ],
          "name": "stdout"
        }
      ]
    },
    {
      "cell_type": "markdown",
      "metadata": {
        "id": "IsmaGsP6VDYW"
      },
      "source": [
        "## 5. Generate summary statistics for TWO variables\n",
        "Now try to generate ONLY the count min and max for BOTH the \"Value\" and \"Season\" variable using the select. You can't use the .describe function for this one but see if you can remember which function you CAN use. "
      ]
    },
    {
      "cell_type": "code",
      "metadata": {
        "colab": {
          "base_uri": "https://localhost:8080/"
        },
        "id": "9B5ZCtwpVDYW",
        "outputId": "0eec70c3-6272-4743-eab2-91e46e9c609e"
      },
      "source": [
        "pga.select('Value', 'Season').summary(\"count\", \"min\", \"max\").show()"
      ],
      "execution_count": null,
      "outputs": [
        {
          "output_type": "stream",
          "text": [
            "+-------+-------+-------+\n",
            "|summary|  Value| Season|\n",
            "+-------+-------+-------+\n",
            "|  count|1657247|2740403|\n",
            "|    min|   -178|   2010|\n",
            "|    max|3564954|   2018|\n",
            "+-------+-------+-------+\n",
            "\n"
          ],
          "name": "stdout"
        }
      ]
    },
    {
      "cell_type": "markdown",
      "metadata": {
        "id": "_9OvjAyuVDYX"
      },
      "source": [
        "## 6. Write a parquet file\n",
        "\n",
        "Now try writing a parquet file (not partitioned) from the pga dataset. But first create a new dataframe containing ONLY the the \"Season\" and \"Value\" fields (using the \"select command you used in the question above) and write a parquet file partitioned by \"Season\". This is a bit of a challenge aimed at getting you ready for material that will be covered later on in the course. Don't feel bad if you can't figure it out.\n",
        "\n",
        "*Note that if any of your variable names contain spaces, spark will produce an error message with this call. That is why we are selecting ONLY the \"Season\" and \"Value\" fields. Ideally we should renamed those columns but we haven't gotten to that yet in this course but we will soon!*"
      ]
    },
    {
      "cell_type": "code",
      "metadata": {
        "id": "S85_PNL5VDYX"
      },
      "source": [
        "df = pga.select('Season', 'Value')\n",
        "df.write.mode('overwrite').parquet(path + 'partition_parquet/')"
      ],
      "execution_count": null,
      "outputs": []
    },
    {
      "cell_type": "markdown",
      "metadata": {
        "id": "PiS95ZTFVDYX"
      },
      "source": [
        "## 7. Write a partioned parquet file\n",
        "\n",
        "You will need to use the same limited dataframe that you created in the previous question to accomplish this task as well. "
      ]
    },
    {
      "cell_type": "code",
      "metadata": {
        "colab": {
          "base_uri": "https://localhost:8080/"
        },
        "id": "A46DWbg3VDYX",
        "outputId": "de11756d-9739-4d1d-f2bd-c2a9f8cc0e06"
      },
      "source": [
        "df.write.mode('overwrite').partitionBy('Season').parquet(path + 'partitioned_parquet/')\n",
        "df.show(5)"
      ],
      "execution_count": null,
      "outputs": [
        {
          "output_type": "stream",
          "text": [
            "+------+-----+\n",
            "|Season|Value|\n",
            "+------+-----+\n",
            "|  null| null|\n",
            "|  2010|   71|\n",
            "|  2010|   77|\n",
            "|  2010|   83|\n",
            "|  2010|   54|\n",
            "+------+-----+\n",
            "only showing top 5 rows\n",
            "\n"
          ],
          "name": "stdout"
        }
      ]
    },
    {
      "cell_type": "markdown",
      "metadata": {
        "id": "le9UqUXsVDYY"
      },
      "source": [
        "## 8. Read in a partitioned parquet file\n",
        "\n",
        "Now try reading in the partitioned parquet file you just created above. "
      ]
    },
    {
      "cell_type": "code",
      "metadata": {
        "colab": {
          "base_uri": "https://localhost:8080/"
        },
        "id": "vdPrARD4VDYY",
        "outputId": "0e173b96-2dcd-4289-ca70-44aeeb9cc7f4"
      },
      "source": [
        "parquet = spark.read.parquet(path + 'partitioned_parquet/')\n",
        "#Note: if you add a * to the end of the path, the Season var will be automatically dropped\n",
        "parquet.show()"
      ],
      "execution_count": null,
      "outputs": [
        {
          "output_type": "stream",
          "text": [
            "+-----+------+\n",
            "|Value|Season|\n",
            "+-----+------+\n",
            "|   71|  2010|\n",
            "|   77|  2010|\n",
            "|   83|  2010|\n",
            "|   54|  2010|\n",
            "|  100|  2010|\n",
            "|   63|  2010|\n",
            "|   88|  2010|\n",
            "|   64|  2010|\n",
            "|   64|  2010|\n",
            "|   92|  2010|\n",
            "|   75|  2010|\n",
            "|   54|  2010|\n",
            "|   76|  2010|\n",
            "|   94|  2010|\n",
            "|   82|  2010|\n",
            "|   85|  2010|\n",
            "|   79|  2010|\n",
            "|   89|  2010|\n",
            "|   88|  2010|\n",
            "|   91|  2010|\n",
            "+-----+------+\n",
            "only showing top 20 rows\n",
            "\n"
          ],
          "name": "stdout"
        }
      ]
    },
    {
      "cell_type": "markdown",
      "metadata": {
        "id": "fuBSI7ZVVDYY"
      },
      "source": [
        "## 9. Reading in a set of paritioned parquet files\n",
        "\n",
        "Now try only reading Seasons 2010, 2011 and 2012."
      ]
    },
    {
      "cell_type": "code",
      "metadata": {
        "colab": {
          "base_uri": "https://localhost:8080/"
        },
        "id": "ILlie1jtVDYY",
        "outputId": "5f2eb13a-263d-4ebd-e2af-7f0515cf03ed"
      },
      "source": [
        "# Notice that this method only gives you the \"Value\" column\n",
        "partitioned = spark.read.parquet(path+'partitioned_parquet/Season=2010/', path+'partitioned_parquet/Season=2011/', path+'partitioned_parquet/Season=2012/')\n",
        "partitioned.show(5)"
      ],
      "execution_count": null,
      "outputs": [
        {
          "output_type": "stream",
          "text": [
            "+-----+\n",
            "|Value|\n",
            "+-----+\n",
            "|   71|\n",
            "|   77|\n",
            "|   83|\n",
            "|   54|\n",
            "|  100|\n",
            "+-----+\n",
            "only showing top 5 rows\n",
            "\n"
          ],
          "name": "stdout"
        }
      ]
    },
    {
      "cell_type": "code",
      "metadata": {
        "colab": {
          "base_uri": "https://localhost:8080/"
        },
        "id": "CDgzmFX1ZTJz",
        "outputId": "5da168bc-dc2b-46ad-de95-3a51e50505a1"
      },
      "source": [
        "# need to use this method, spark.read.option(\"basePath\", path+'partitioned_parquet/'), to get the \"Season\" and \"Value\" Columns\n",
        "dataframe = spark.read.option(\"basePath\", path+'partitioned_parquet/').parquet(path+'partitioned_parquet/Season=2010/', \n",
        "                                                                               path+'partitioned_parquet/Season=2011/', \n",
        "                                                                               path+'partitioned_parquet/Season=2012/')\n",
        "dataframe.show(5)"
      ],
      "execution_count": null,
      "outputs": [
        {
          "output_type": "stream",
          "text": [
            "+-----+------+\n",
            "|Value|Season|\n",
            "+-----+------+\n",
            "|   71|  2010|\n",
            "|   77|  2010|\n",
            "|   83|  2010|\n",
            "|   54|  2010|\n",
            "|  100|  2010|\n",
            "+-----+------+\n",
            "only showing top 5 rows\n",
            "\n"
          ],
          "name": "stdout"
        }
      ]
    },
    {
      "cell_type": "markdown",
      "metadata": {
        "id": "d-24UxDAVDYY"
      },
      "source": [
        "## 10. Create your own dataframe\n",
        "\n",
        "Try creating your own dataframe below using PySparks *.createDataFrame* function. See if you can make one that contains 4 variables and at least 3 rows. \n",
        "\n",
        "Let's see how creative you can get on the content of the dataframe :)"
      ]
    },
    {
      "cell_type": "code",
      "metadata": {
        "colab": {
          "base_uri": "https://localhost:8080/"
        },
        "id": "xP7mAUsAVDYY",
        "outputId": "7dc1d0c4-1da7-42c9-be97-c759cc5b26f7"
      },
      "source": [
        "# initalize list of lists (same as in python)\n",
        "df = [['Haren', 22, 175, 83], ['Jimmy', 30, 176, 72], ['Andy', 30, 175, 75]]\n",
        "# create the pandas dataframe\n",
        "df = spark.createDataFrame(df, ['Name', 'Age', 'Weight', 'Height'])\n",
        "df.show()"
      ],
      "execution_count": null,
      "outputs": [
        {
          "output_type": "stream",
          "text": [
            "+-----+---+------+------+\n",
            "| Name|Age|Weight|Height|\n",
            "+-----+---+------+------+\n",
            "|Haren| 22|   175|    83|\n",
            "|Jimmy| 30|   176|    72|\n",
            "| Andy| 30|   175|    75|\n",
            "+-----+---+------+------+\n",
            "\n"
          ],
          "name": "stdout"
        }
      ]
    },
    {
      "cell_type": "markdown",
      "metadata": {
        "id": "ClDIMrgkVDYY"
      },
      "source": [
        "## We're done! Great job!"
      ]
    }
  ]
}