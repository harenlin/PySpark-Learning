{
  "nbformat": 4,
  "nbformat_minor": 0,
  "metadata": {
    "colab": {
      "name": "NLP_PySpark_Baisc.ipynb",
      "provenance": [],
      "authorship_tag": "ABX9TyN015UhDAcZ0Ll1LtGYNBNR",
      "include_colab_link": true
    },
    "kernelspec": {
      "name": "python3",
      "display_name": "Python 3"
    },
    "language_info": {
      "name": "python"
    }
  },
  "cells": [
    {
      "cell_type": "markdown",
      "metadata": {
        "id": "view-in-github",
        "colab_type": "text"
      },
      "source": [
        "<a href=\"https://colab.research.google.com/github/harenlin/PySpark-Learning/blob/main/NLP_PySpark_Basic.ipynb\" target=\"_parent\"><img src=\"https://colab.research.google.com/assets/colab-badge.svg\" alt=\"Open In Colab\"/></a>"
      ]
    },
    {
      "cell_type": "code",
      "metadata": {
        "colab": {
          "base_uri": "https://localhost:8080/",
          "height": 454
        },
        "id": "jnWZpvb0MvZo",
        "outputId": "c3149d3f-9926-4758-8315-e6304a31192d"
      },
      "source": [
        "# ref: NLP_in_Pysparks_MLlib.ipynb\n",
        "!pip install pyspark\n",
        "import pyspark\n",
        "from pyspark.sql import SparkSession\n",
        "spark = SparkSession.builder.appName(\"NLP\").getOrCreate()\n",
        "cores = spark._jsc.sc().getExecutorMemoryStatus().keySet().size()\n",
        "print(\"You are working with\", cores, \"core(s)\")\n",
        "spark"
      ],
      "execution_count": null,
      "outputs": [
        {
          "output_type": "stream",
          "text": [
            "Collecting pyspark\n",
            "\u001b[?25l  Downloading https://files.pythonhosted.org/packages/89/db/e18cfd78e408de957821ec5ca56de1250645b05f8523d169803d8df35a64/pyspark-3.1.2.tar.gz (212.4MB)\n",
            "\u001b[K     |████████████████████████████████| 212.4MB 68kB/s \n",
            "\u001b[?25hCollecting py4j==0.10.9\n",
            "\u001b[?25l  Downloading https://files.pythonhosted.org/packages/9e/b6/6a4fb90cd235dc8e265a6a2067f2a2c99f0d91787f06aca4bcf7c23f3f80/py4j-0.10.9-py2.py3-none-any.whl (198kB)\n",
            "\u001b[K     |████████████████████████████████| 204kB 16.3MB/s \n",
            "\u001b[?25hBuilding wheels for collected packages: pyspark\n",
            "  Building wheel for pyspark (setup.py) ... \u001b[?25l\u001b[?25hdone\n",
            "  Created wheel for pyspark: filename=pyspark-3.1.2-py2.py3-none-any.whl size=212880768 sha256=9d793d892e7cf9e71920390f498bcf2819ac4204af9e2e544ae5c16512deed62\n",
            "  Stored in directory: /root/.cache/pip/wheels/40/1b/2c/30f43be2627857ab80062bef1527c0128f7b4070b6b2d02139\n",
            "Successfully built pyspark\n",
            "Installing collected packages: py4j, pyspark\n",
            "Successfully installed py4j-0.10.9 pyspark-3.1.2\n",
            "You are working with 1 core(s)\n"
          ],
          "name": "stdout"
        },
        {
          "output_type": "execute_result",
          "data": {
            "text/html": [
              "\n",
              "            <div>\n",
              "                <p><b>SparkSession - in-memory</b></p>\n",
              "                \n",
              "        <div>\n",
              "            <p><b>SparkContext</b></p>\n",
              "\n",
              "            <p><a href=\"http://1a1ac570ffdf:4040\">Spark UI</a></p>\n",
              "\n",
              "            <dl>\n",
              "              <dt>Version</dt>\n",
              "                <dd><code>v3.1.2</code></dd>\n",
              "              <dt>Master</dt>\n",
              "                <dd><code>local[*]</code></dd>\n",
              "              <dt>AppName</dt>\n",
              "                <dd><code>NLP</code></dd>\n",
              "            </dl>\n",
              "        </div>\n",
              "        \n",
              "            </div>\n",
              "        "
            ],
            "text/plain": [
              "<pyspark.sql.session.SparkSession at 0x7f704ec3fa90>"
            ]
          },
          "metadata": {
            "tags": []
          },
          "execution_count": 1
        }
      ]
    },
    {
      "cell_type": "code",
      "metadata": {
        "colab": {
          "base_uri": "https://localhost:8080/"
        },
        "id": "DzoYTE9oM5fQ",
        "outputId": "152c9520-3a70-4bb9-8c82-c2d6c4f7261a"
      },
      "source": [
        "from google.colab import drive\n",
        "drive.mount('/content/drive')"
      ],
      "execution_count": null,
      "outputs": [
        {
          "output_type": "stream",
          "text": [
            "Mounted at /content/drive\n"
          ],
          "name": "stdout"
        }
      ]
    },
    {
      "cell_type": "markdown",
      "metadata": {
        "id": "T1RahW2FOBV_"
      },
      "source": [
        "# NLP in Pyspark's MLlib\n",
        "\n",
        "Natural Language Processing (NLP) is a very trendy topic in the data science area today that is really handy for tasks like **chat bots**, movie or **product review analysis** and especially **tweet classification**. In this notebook, we will cover the **classification aspect of NLP** and go over the features that Spark has for cleaning and preparing your data for analysis. We will also touch on how to implement **ML Pipelines** to a few of our data processing steps to help make our code run a bit faster. \n",
        "\n",
        "As we learned in the NLP concept review lectures, the text you process must first be cleaned, tokenized and vectorized. Essentially, we need to covert our text into a vector of numbers. But how do we do that? Spark has a variety of built in functions to accomplish all of these tasks very easily. We will cover all of it here!\n",
        "\n",
        "### Agenda\n",
        "\n",
        "    1. Review Data (quality check)\n",
        "    2. Clean up the data (remove puncuation, special characters, etc.)\n",
        "    3. Tokenize text data\n",
        "    4. Remove Stopwords\n",
        "    5. Zero index our label column\n",
        "    5. Create an ML Pipeline (to streamline steps 3-5)\n",
        "    6. Vectorize Text column\n",
        "         - Count Vectors\n",
        "         - TF-IDF\n",
        "         - Word2Vec\n",
        "    7. Train and Evaluate Model (classification)\n",
        "    8. View Predictions"
      ]
    },
    {
      "cell_type": "code",
      "metadata": {
        "id": "d2vmHiuBM83Z"
      },
      "source": [
        "from pyspark.ml.feature import * # CountVectorizer, StringIndexer, RegexTokenizer, StopWordsRemover\n",
        "from pyspark.sql.functions import * # col, udf, regexp_replace, isnull\n",
        "from pyspark.sql.types import * # StringType, IntegerType\n",
        "from pyspark.ml.classification import *\n",
        "from pyspark.ml.evaluation import *\n",
        "from pyspark.ml.tuning import CrossValidator, ParamGridBuilder\n",
        "\n",
        "# For pipeline development\n",
        "from pyspark.ml import Pipeline "
      ],
      "execution_count": null,
      "outputs": []
    },
    {
      "cell_type": "code",
      "metadata": {
        "id": "n86CEL3XM9Rc"
      },
      "source": [
        "path = '/content/drive/My Drive/PySpark/Datasets/'\n",
        "df = spark.read.csv(path + 'kickstarter.csv', inferSchema=True, header=True)"
      ],
      "execution_count": null,
      "outputs": []
    },
    {
      "cell_type": "code",
      "metadata": {
        "colab": {
          "base_uri": "https://localhost:8080/"
        },
        "id": "WDp-iYLYM9Tt",
        "outputId": "14db37cd-7d82-4b98-adb8-6928d341c6b3"
      },
      "source": [
        "df.printSchema()"
      ],
      "execution_count": null,
      "outputs": [
        {
          "output_type": "stream",
          "text": [
            "root\n",
            " |-- _c0: string (nullable = true)\n",
            " |-- blurb: string (nullable = true)\n",
            " |-- state: string (nullable = true)\n",
            "\n"
          ],
          "name": "stdout"
        }
      ]
    },
    {
      "cell_type": "code",
      "metadata": {
        "colab": {
          "base_uri": "https://localhost:8080/"
        },
        "id": "bj3eR11BM9Vu",
        "outputId": "566c6a05-4b0c-443b-a368-1baa87f81b55"
      },
      "source": [
        "df.show(5,False)"
      ],
      "execution_count": null,
      "outputs": [
        {
          "output_type": "stream",
          "text": [
            "+---+-----------------------------------------------------------------------------------------------------------------------------------+----------+\n",
            "|_c0|blurb                                                                                                                              |state     |\n",
            "+---+-----------------------------------------------------------------------------------------------------------------------------------+----------+\n",
            "|1  |Using their own character, users go on educational quests around a virtual world leveling up subject-oriented skills (ie Physics). |failed    |\n",
            "|2  |MicroFly is a quadcopter packed with WiFi, 6 sensors, and 3 processors for ultimate stability -- and fits in the palm of your hand.|successful|\n",
            "|3  |A small indie press, run as a collective for authors who want to self-publish, and a sexy, smart , hilarious novel!                |failed    |\n",
            "|4  |Zylor is a new baby cosplayer! Back this kickstarter to help fund new cosplay photoshoots to share his cuteness with the world!    |failed    |\n",
            "|5  |Hatoful Boyfriend meet Skeletons! A comedy Dating Sim that puts you into a high school full of Skeletons. Rattle some Bones!       |failed    |\n",
            "+---+-----------------------------------------------------------------------------------------------------------------------------------+----------+\n",
            "only showing top 5 rows\n",
            "\n"
          ],
          "name": "stdout"
        }
      ]
    },
    {
      "cell_type": "code",
      "metadata": {
        "colab": {
          "base_uri": "https://localhost:8080/"
        },
        "id": "Cypap1JeM9Xt",
        "outputId": "fe52b460-d992-420d-99b1-d9441006c167"
      },
      "source": [
        "# how many rows\n",
        "df.count()"
      ],
      "execution_count": null,
      "outputs": [
        {
          "output_type": "execute_result",
          "data": {
            "text/plain": [
              "223627"
            ]
          },
          "metadata": {
            "tags": []
          },
          "execution_count": 30
        }
      ]
    },
    {
      "cell_type": "code",
      "metadata": {
        "colab": {
          "base_uri": "https://localhost:8080/"
        },
        "id": "cktzGSyWM9Z8",
        "outputId": "d78e6b54-c8d0-4003-ef2f-3b77a3c5a759"
      },
      "source": [
        "# How many null values do we have?\n",
        "from pyspark.sql.functions import *\n",
        "\n",
        "def null_value_calc(df):\n",
        "    null_columns_counts = []\n",
        "    numRows = df.count()\n",
        "    for k in df.columns:\n",
        "        nullRows = df.where(col(k).isNull()).count()\n",
        "        if(nullRows > 0):\n",
        "            temp = k, nullRows, (nullRows/numRows)*100\n",
        "            null_columns_counts.append(temp)\n",
        "    return null_columns_counts\n",
        "\n",
        "null_columns_calc_list = null_value_calc(df)\n",
        "spark.createDataFrame(null_columns_calc_list, ['Column_Name', 'Null_Values_Count','Null_Value_Percent']).show()"
      ],
      "execution_count": null,
      "outputs": [
        {
          "output_type": "stream",
          "text": [
            "+-----------+-----------------+------------------+\n",
            "|Column_Name|Null_Values_Count|Null_Value_Percent|\n",
            "+-----------+-----------------+------------------+\n",
            "|      blurb|             1488|0.6653937136392296|\n",
            "|      state|            13157| 5.883457722010312|\n",
            "+-----------+-----------------+------------------+\n",
            "\n"
          ],
          "name": "stdout"
        }
      ]
    },
    {
      "cell_type": "code",
      "metadata": {
        "colab": {
          "base_uri": "https://localhost:8080/"
        },
        "id": "lYiEZCm-M9cK",
        "outputId": "f8d9fdef-2d48-449a-c402-0aa2cec761d9"
      },
      "source": [
        "print(df.na.drop().count())\n",
        "df = df.dropna()\n",
        "df.count()"
      ],
      "execution_count": null,
      "outputs": [
        {
          "output_type": "stream",
          "text": [
            "210470\n"
          ],
          "name": "stdout"
        },
        {
          "output_type": "execute_result",
          "data": {
            "text/plain": [
              "210470"
            ]
          },
          "metadata": {
            "tags": []
          },
          "execution_count": 32
        }
      ]
    },
    {
      "cell_type": "code",
      "metadata": {
        "colab": {
          "base_uri": "https://localhost:8080/"
        },
        "id": "Hq-Qou16M9eb",
        "outputId": "b261bb27-29cc-4c0e-9ad4-08db59c7befa"
      },
      "source": [
        "# Slice the dataframe down to make this notebook run faster\n",
        "df = df.limit(500)\n",
        "print('Sliced row count:', df.count())"
      ],
      "execution_count": null,
      "outputs": [
        {
          "output_type": "stream",
          "text": [
            "Sliced row count: 500\n"
          ],
          "name": "stdout"
        }
      ]
    },
    {
      "cell_type": "markdown",
      "metadata": {
        "id": "nI_p8AozRbaF"
      },
      "source": [
        "## Quality Assurance Check (QA)\n",
        "\n",
        "Let's make sure our dependent variable column is clean before we go any further. This an important step in our analysis. "
      ]
    },
    {
      "cell_type": "code",
      "metadata": {
        "colab": {
          "base_uri": "https://localhost:8080/"
        },
        "id": "lD9BJQm5M9gu",
        "outputId": "e2d1223e-df1b-44c0-d04e-66ddb7b58724"
      },
      "source": [
        "# Quick data quality check on the state column....\n",
        "# This is going to be our category column so it's important\n",
        "df.groupBy(\"state\").count().orderBy(col(\"count\").desc()).show(10,False)"
      ],
      "execution_count": null,
      "outputs": [
        {
          "output_type": "stream",
          "text": [
            "+---------------------------------------------------------------------------+-----+\n",
            "|state                                                                      |count|\n",
            "+---------------------------------------------------------------------------+-----+\n",
            "|failed                                                                     |337  |\n",
            "|successful                                                                 |156  |\n",
            "| best experienced with Oculus Rift.\"                                       |1    |\n",
            "| mixing pixel art graphics with deep storytelling and action combat system\"|1    |\n",
            "| smart                                                                     |1    |\n",
            "| with the editor                                                           |1    |\n",
            "| Adventure with RPG elements.\"                                             |1    |\n",
            "| from Tinder                                                               |1    |\n",
            "|\"\" with a special focus on Ty Cobb.\"                                       |1    |\n",
            "+---------------------------------------------------------------------------+-----+\n",
            "\n"
          ],
          "name": "stdout"
        }
      ]
    },
    {
      "cell_type": "code",
      "metadata": {
        "colab": {
          "base_uri": "https://localhost:8080/"
        },
        "id": "ilk79nfFRXa-",
        "outputId": "d77da681-a587-42d6-cb76-5b533857cace"
      },
      "source": [
        "df = df.filter(\"state IN('successful','failed')\")\n",
        "# Make sure it worked\n",
        "df.groupBy(\"state\").count().orderBy(col(\"count\").desc()).show(truncate=False)"
      ],
      "execution_count": null,
      "outputs": [
        {
          "output_type": "stream",
          "text": [
            "+----------+-----+\n",
            "|state     |count|\n",
            "+----------+-----+\n",
            "|failed    |337  |\n",
            "|successful|156  |\n",
            "+----------+-----+\n",
            "\n"
          ],
          "name": "stdout"
        }
      ]
    },
    {
      "cell_type": "code",
      "metadata": {
        "colab": {
          "base_uri": "https://localhost:8080/"
        },
        "id": "9PGn4ntFRXdD",
        "outputId": "5f36a8ef-e846-43a1-e298-5b6078f12693"
      },
      "source": [
        "df.show()"
      ],
      "execution_count": null,
      "outputs": [
        {
          "output_type": "stream",
          "text": [
            "+---+--------------------+----------+\n",
            "|_c0|               blurb|     state|\n",
            "+---+--------------------+----------+\n",
            "|  1|Using their own c...|    failed|\n",
            "|  2|MicroFly is a qua...|successful|\n",
            "|  3|A small indie pre...|    failed|\n",
            "|  4|Zylor is a new ba...|    failed|\n",
            "|  5|Hatoful Boyfriend...|    failed|\n",
            "|  6|FastMan is a Infi...|    failed|\n",
            "|  7|FADE. A dark and ...|    failed|\n",
            "|  8|The next generati...|    failed|\n",
            "|  9|Whip around plane...|    failed|\n",
            "| 10|Sneak in, find tr...|    failed|\n",
            "| 11|A unique 3rd pers...|    failed|\n",
            "| 12|Echo-S is a mod t...|    failed|\n",
            "| 13|Game development ...|    failed|\n",
            "| 14|GangWars ARC is a...|    failed|\n",
            "| 15|A team based firs...|    failed|\n",
            "| 16|Super Babies: Wor...|    failed|\n",
            "| 17|Action RPG set in...|    failed|\n",
            "| 19|Studly the Muffin...|    failed|\n",
            "| 20|A new YouTube web...|    failed|\n",
            "| 21|Experience rock c...|    failed|\n",
            "+---+--------------------+----------+\n",
            "only showing top 20 rows\n",
            "\n"
          ],
          "name": "stdout"
        }
      ]
    },
    {
      "cell_type": "code",
      "metadata": {
        "colab": {
          "base_uri": "https://localhost:8080/"
        },
        "id": "hEBCjWveRXfT",
        "outputId": "4ee5e9fd-9d18-4c49-c3e0-0b5a98993d70"
      },
      "source": [
        "# Let's check the quality of the blurbs\n",
        "df.select(\"blurb\").show(10,False)"
      ],
      "execution_count": null,
      "outputs": [
        {
          "output_type": "stream",
          "text": [
            "+-----------------------------------------------------------------------------------------------------------------------------------+\n",
            "|blurb                                                                                                                              |\n",
            "+-----------------------------------------------------------------------------------------------------------------------------------+\n",
            "|Using their own character, users go on educational quests around a virtual world leveling up subject-oriented skills (ie Physics). |\n",
            "|MicroFly is a quadcopter packed with WiFi, 6 sensors, and 3 processors for ultimate stability -- and fits in the palm of your hand.|\n",
            "|A small indie press, run as a collective for authors who want to self-publish, and a sexy, smart , hilarious novel!                |\n",
            "|Zylor is a new baby cosplayer! Back this kickstarter to help fund new cosplay photoshoots to share his cuteness with the world!    |\n",
            "|Hatoful Boyfriend meet Skeletons! A comedy Dating Sim that puts you into a high school full of Skeletons. Rattle some Bones!       |\n",
            "|FastMan is a Infinite running platformer. Go in FastMan's shoes and run through the platform dodging obstacles.                    |\n",
            "|FADE. A dark and somber RPG about survival and hope.(Legend of Zelda/Fable Inspired)                                               |\n",
            "|The next generation of space combat with online progression, leveling, an arsenal of ships, weapons and much more!                 |\n",
            "|Whip around planets and smash your way to victory in this video game of galactic proportions!                                      |\n",
            "|Sneak in, find treasures, avoid cats and collect the loot before time runs out!                                                    |\n",
            "+-----------------------------------------------------------------------------------------------------------------------------------+\n",
            "only showing top 10 rows\n",
            "\n"
          ],
          "name": "stdout"
        }
      ]
    },
    {
      "cell_type": "code",
      "metadata": {
        "colab": {
          "base_uri": "https://localhost:8080/"
        },
        "id": "7oZJrx3bRXhh",
        "outputId": "28a1493a-3743-4362-b3f1-498b42f1f201"
      },
      "source": [
        "# Replace Slashes and parenthesis with spaces\n",
        "# You can test your script on line 7 of the df \"(Legend of Zelda/Fable Inspired)\"\n",
        "df = df.withColumn(\"blurb\", translate(col(\"blurb\"), \"/\", \" \")) \\\n",
        "       .withColumn(\"blurb\", translate(col(\"blurb\"), \"(\", \" \")) \\\n",
        "       .withColumn(\"blurb\", translate(col(\"blurb\"), \")\", \" \"))\n",
        "df.select(\"blurb\").show(10, False)"
      ],
      "execution_count": null,
      "outputs": [
        {
          "output_type": "stream",
          "text": [
            "+-----------------------------------------------------------------------------------------------------------------------------------+\n",
            "|blurb                                                                                                                              |\n",
            "+-----------------------------------------------------------------------------------------------------------------------------------+\n",
            "|Using their own character, users go on educational quests around a virtual world leveling up subject-oriented skills  ie Physics . |\n",
            "|MicroFly is a quadcopter packed with WiFi, 6 sensors, and 3 processors for ultimate stability -- and fits in the palm of your hand.|\n",
            "|A small indie press, run as a collective for authors who want to self-publish, and a sexy, smart , hilarious novel!                |\n",
            "|Zylor is a new baby cosplayer! Back this kickstarter to help fund new cosplay photoshoots to share his cuteness with the world!    |\n",
            "|Hatoful Boyfriend meet Skeletons! A comedy Dating Sim that puts you into a high school full of Skeletons. Rattle some Bones!       |\n",
            "|FastMan is a Infinite running platformer. Go in FastMan's shoes and run through the platform dodging obstacles.                    |\n",
            "|FADE. A dark and somber RPG about survival and hope. Legend of Zelda Fable Inspired                                                |\n",
            "|The next generation of space combat with online progression, leveling, an arsenal of ships, weapons and much more!                 |\n",
            "|Whip around planets and smash your way to victory in this video game of galactic proportions!                                      |\n",
            "|Sneak in, find treasures, avoid cats and collect the loot before time runs out!                                                    |\n",
            "+-----------------------------------------------------------------------------------------------------------------------------------+\n",
            "only showing top 10 rows\n",
            "\n"
          ],
          "name": "stdout"
        }
      ]
    },
    {
      "cell_type": "code",
      "metadata": {
        "colab": {
          "base_uri": "https://localhost:8080/"
        },
        "id": "8n0dpS7FRXjj",
        "outputId": "866e683a-b1a6-40fa-a56b-fccf07664b01"
      },
      "source": [
        "# Removing anything that is not a letter\n",
        "df = df.withColumn(\"blurb\", regexp_replace(col('blurb'), '[^A-Za-z ]+', ''))\n",
        "df.select(\"blurb\").show(10, False)"
      ],
      "execution_count": null,
      "outputs": [
        {
          "output_type": "stream",
          "text": [
            "+-------------------------------------------------------------------------------------------------------------------------------+\n",
            "|blurb                                                                                                                          |\n",
            "+-------------------------------------------------------------------------------------------------------------------------------+\n",
            "|Using their own character users go on educational quests around a virtual world leveling up subjectoriented skills  ie Physics |\n",
            "|MicroFly is a quadcopter packed with WiFi  sensors and  processors for ultimate stability  and fits in the palm of your hand   |\n",
            "|A small indie press run as a collective for authors who want to selfpublish and a sexy smart  hilarious novel                  |\n",
            "|Zylor is a new baby cosplayer Back this kickstarter to help fund new cosplay photoshoots to share his cuteness with the world  |\n",
            "|Hatoful Boyfriend meet Skeletons A comedy Dating Sim that puts you into a high school full of Skeletons Rattle some Bones      |\n",
            "|FastMan is a Infinite running platformer Go in FastMans shoes and run through the platform dodging obstacles                   |\n",
            "|FADE A dark and somber RPG about survival and hope Legend of Zelda Fable Inspired                                              |\n",
            "|The next generation of space combat with online progression leveling an arsenal of ships weapons and much more                 |\n",
            "|Whip around planets and smash your way to victory in this video game of galactic proportions                                   |\n",
            "|Sneak in find treasures avoid cats and collect the loot before time runs out                                                   |\n",
            "+-------------------------------------------------------------------------------------------------------------------------------+\n",
            "only showing top 10 rows\n",
            "\n"
          ],
          "name": "stdout"
        }
      ]
    },
    {
      "cell_type": "code",
      "metadata": {
        "colab": {
          "base_uri": "https://localhost:8080/"
        },
        "id": "SzxpkrYrRXmC",
        "outputId": "565f233c-39c3-4803-eff3-e9adf667f513"
      },
      "source": [
        "# Remove multiple spaces\n",
        "df = df.withColumn(\"blurb\", regexp_replace(col('blurb'), ' +', ' '))\n",
        "df.select(\"blurb\").show(10, False)"
      ],
      "execution_count": null,
      "outputs": [
        {
          "output_type": "stream",
          "text": [
            "+------------------------------------------------------------------------------------------------------------------------------+\n",
            "|blurb                                                                                                                         |\n",
            "+------------------------------------------------------------------------------------------------------------------------------+\n",
            "|Using their own character users go on educational quests around a virtual world leveling up subjectoriented skills ie Physics |\n",
            "|MicroFly is a quadcopter packed with WiFi sensors and processors for ultimate stability and fits in the palm of your hand     |\n",
            "|A small indie press run as a collective for authors who want to selfpublish and a sexy smart hilarious novel                  |\n",
            "|Zylor is a new baby cosplayer Back this kickstarter to help fund new cosplay photoshoots to share his cuteness with the world |\n",
            "|Hatoful Boyfriend meet Skeletons A comedy Dating Sim that puts you into a high school full of Skeletons Rattle some Bones     |\n",
            "|FastMan is a Infinite running platformer Go in FastMans shoes and run through the platform dodging obstacles                  |\n",
            "|FADE A dark and somber RPG about survival and hope Legend of Zelda Fable Inspired                                             |\n",
            "|The next generation of space combat with online progression leveling an arsenal of ships weapons and much more                |\n",
            "|Whip around planets and smash your way to victory in this video game of galactic proportions                                  |\n",
            "|Sneak in find treasures avoid cats and collect the loot before time runs out                                                  |\n",
            "+------------------------------------------------------------------------------------------------------------------------------+\n",
            "only showing top 10 rows\n",
            "\n"
          ],
          "name": "stdout"
        }
      ]
    },
    {
      "cell_type": "code",
      "metadata": {
        "colab": {
          "base_uri": "https://localhost:8080/"
        },
        "id": "2IMSAjssRXoK",
        "outputId": "fb7d2b16-53dc-4fc0-d807-c0e3686cee0a"
      },
      "source": [
        "# Lower case everything\n",
        "df = df.withColumn(\"blurb\", lower(col('blurb')))\n",
        "df.select(\"blurb\").show(10, False)"
      ],
      "execution_count": null,
      "outputs": [
        {
          "output_type": "stream",
          "text": [
            "+------------------------------------------------------------------------------------------------------------------------------+\n",
            "|blurb                                                                                                                         |\n",
            "+------------------------------------------------------------------------------------------------------------------------------+\n",
            "|using their own character users go on educational quests around a virtual world leveling up subjectoriented skills ie physics |\n",
            "|microfly is a quadcopter packed with wifi sensors and processors for ultimate stability and fits in the palm of your hand     |\n",
            "|a small indie press run as a collective for authors who want to selfpublish and a sexy smart hilarious novel                  |\n",
            "|zylor is a new baby cosplayer back this kickstarter to help fund new cosplay photoshoots to share his cuteness with the world |\n",
            "|hatoful boyfriend meet skeletons a comedy dating sim that puts you into a high school full of skeletons rattle some bones     |\n",
            "|fastman is a infinite running platformer go in fastmans shoes and run through the platform dodging obstacles                  |\n",
            "|fade a dark and somber rpg about survival and hope legend of zelda fable inspired                                             |\n",
            "|the next generation of space combat with online progression leveling an arsenal of ships weapons and much more                |\n",
            "|whip around planets and smash your way to victory in this video game of galactic proportions                                  |\n",
            "|sneak in find treasures avoid cats and collect the loot before time runs out                                                  |\n",
            "+------------------------------------------------------------------------------------------------------------------------------+\n",
            "only showing top 10 rows\n",
            "\n"
          ],
          "name": "stdout"
        }
      ]
    },
    {
      "cell_type": "code",
      "metadata": {
        "colab": {
          "base_uri": "https://localhost:8080/"
        },
        "id": "DdzevOrvRXqg",
        "outputId": "e1b7d7f8-7099-43e4-9311-3b9f330d72e9"
      },
      "source": [
        "# Tokenize\n",
        "regex_tokenizer = RegexTokenizer(inputCol=\"blurb\", outputCol=\"words\", pattern=\"\\\\W\") # These also work as well: \"\\W\", r\"\\W\"\n",
        "raw_words = regex_tokenizer.transform(df)\n",
        "print(raw_words.show(5,False))\n",
        "\n",
        "# Remove Stop words\n",
        "remover = StopWordsRemover(inputCol=\"words\", outputCol=\"filtered\")\n",
        "words_df = remover.transform(raw_words)\n",
        "print(words_df.show(5,False))\n",
        "\n",
        "# Zero Index Label Column\n",
        "indexer = StringIndexer(inputCol=\"state\", outputCol=\"label\")\n",
        "feature_data = indexer.fit(words_df).transform(words_df)\n",
        "print(feature_data.show(5,False))"
      ],
      "execution_count": null,
      "outputs": [
        {
          "output_type": "stream",
          "text": [
            "+---+------------------------------------------------------------------------------------------------------------------------------+----------+----------------------------------------------------------------------------------------------------------------------------------------------------+\n",
            "|_c0|blurb                                                                                                                         |state     |words                                                                                                                                               |\n",
            "+---+------------------------------------------------------------------------------------------------------------------------------+----------+----------------------------------------------------------------------------------------------------------------------------------------------------+\n",
            "|1  |using their own character users go on educational quests around a virtual world leveling up subjectoriented skills ie physics |failed    |[using, their, own, character, users, go, on, educational, quests, around, a, virtual, world, leveling, up, subjectoriented, skills, ie, physics]   |\n",
            "|2  |microfly is a quadcopter packed with wifi sensors and processors for ultimate stability and fits in the palm of your hand     |successful|[microfly, is, a, quadcopter, packed, with, wifi, sensors, and, processors, for, ultimate, stability, and, fits, in, the, palm, of, your, hand]     |\n",
            "|3  |a small indie press run as a collective for authors who want to selfpublish and a sexy smart hilarious novel                  |failed    |[a, small, indie, press, run, as, a, collective, for, authors, who, want, to, selfpublish, and, a, sexy, smart, hilarious, novel]                   |\n",
            "|4  |zylor is a new baby cosplayer back this kickstarter to help fund new cosplay photoshoots to share his cuteness with the world |failed    |[zylor, is, a, new, baby, cosplayer, back, this, kickstarter, to, help, fund, new, cosplay, photoshoots, to, share, his, cuteness, with, the, world]|\n",
            "|5  |hatoful boyfriend meet skeletons a comedy dating sim that puts you into a high school full of skeletons rattle some bones     |failed    |[hatoful, boyfriend, meet, skeletons, a, comedy, dating, sim, that, puts, you, into, a, high, school, full, of, skeletons, rattle, some, bones]     |\n",
            "+---+------------------------------------------------------------------------------------------------------------------------------+----------+----------------------------------------------------------------------------------------------------------------------------------------------------+\n",
            "only showing top 5 rows\n",
            "\n",
            "None\n",
            "+---+------------------------------------------------------------------------------------------------------------------------------+----------+----------------------------------------------------------------------------------------------------------------------------------------------------+--------------------------------------------------------------------------------------------------------------------------+\n",
            "|_c0|blurb                                                                                                                         |state     |words                                                                                                                                               |filtered                                                                                                                  |\n",
            "+---+------------------------------------------------------------------------------------------------------------------------------+----------+----------------------------------------------------------------------------------------------------------------------------------------------------+--------------------------------------------------------------------------------------------------------------------------+\n",
            "|1  |using their own character users go on educational quests around a virtual world leveling up subjectoriented skills ie physics |failed    |[using, their, own, character, users, go, on, educational, quests, around, a, virtual, world, leveling, up, subjectoriented, skills, ie, physics]   |[using, character, users, go, educational, quests, around, virtual, world, leveling, subjectoriented, skills, ie, physics]|\n",
            "|2  |microfly is a quadcopter packed with wifi sensors and processors for ultimate stability and fits in the palm of your hand     |successful|[microfly, is, a, quadcopter, packed, with, wifi, sensors, and, processors, for, ultimate, stability, and, fits, in, the, palm, of, your, hand]     |[microfly, quadcopter, packed, wifi, sensors, processors, ultimate, stability, fits, palm, hand]                          |\n",
            "|3  |a small indie press run as a collective for authors who want to selfpublish and a sexy smart hilarious novel                  |failed    |[a, small, indie, press, run, as, a, collective, for, authors, who, want, to, selfpublish, and, a, sexy, smart, hilarious, novel]                   |[small, indie, press, run, collective, authors, want, selfpublish, sexy, smart, hilarious, novel]                         |\n",
            "|4  |zylor is a new baby cosplayer back this kickstarter to help fund new cosplay photoshoots to share his cuteness with the world |failed    |[zylor, is, a, new, baby, cosplayer, back, this, kickstarter, to, help, fund, new, cosplay, photoshoots, to, share, his, cuteness, with, the, world]|[zylor, new, baby, cosplayer, back, kickstarter, help, fund, new, cosplay, photoshoots, share, cuteness, world]           |\n",
            "|5  |hatoful boyfriend meet skeletons a comedy dating sim that puts you into a high school full of skeletons rattle some bones     |failed    |[hatoful, boyfriend, meet, skeletons, a, comedy, dating, sim, that, puts, you, into, a, high, school, full, of, skeletons, rattle, some, bones]     |[hatoful, boyfriend, meet, skeletons, comedy, dating, sim, puts, high, school, full, skeletons, rattle, bones]            |\n",
            "+---+------------------------------------------------------------------------------------------------------------------------------+----------+----------------------------------------------------------------------------------------------------------------------------------------------------+--------------------------------------------------------------------------------------------------------------------------+\n",
            "only showing top 5 rows\n",
            "\n",
            "None\n",
            "+---+------------------------------------------------------------------------------------------------------------------------------+----------+----------------------------------------------------------------------------------------------------------------------------------------------------+--------------------------------------------------------------------------------------------------------------------------+-----+\n",
            "|_c0|blurb                                                                                                                         |state     |words                                                                                                                                               |filtered                                                                                                                  |label|\n",
            "+---+------------------------------------------------------------------------------------------------------------------------------+----------+----------------------------------------------------------------------------------------------------------------------------------------------------+--------------------------------------------------------------------------------------------------------------------------+-----+\n",
            "|1  |using their own character users go on educational quests around a virtual world leveling up subjectoriented skills ie physics |failed    |[using, their, own, character, users, go, on, educational, quests, around, a, virtual, world, leveling, up, subjectoriented, skills, ie, physics]   |[using, character, users, go, educational, quests, around, virtual, world, leveling, subjectoriented, skills, ie, physics]|0.0  |\n",
            "|2  |microfly is a quadcopter packed with wifi sensors and processors for ultimate stability and fits in the palm of your hand     |successful|[microfly, is, a, quadcopter, packed, with, wifi, sensors, and, processors, for, ultimate, stability, and, fits, in, the, palm, of, your, hand]     |[microfly, quadcopter, packed, wifi, sensors, processors, ultimate, stability, fits, palm, hand]                          |1.0  |\n",
            "|3  |a small indie press run as a collective for authors who want to selfpublish and a sexy smart hilarious novel                  |failed    |[a, small, indie, press, run, as, a, collective, for, authors, who, want, to, selfpublish, and, a, sexy, smart, hilarious, novel]                   |[small, indie, press, run, collective, authors, want, selfpublish, sexy, smart, hilarious, novel]                         |0.0  |\n",
            "|4  |zylor is a new baby cosplayer back this kickstarter to help fund new cosplay photoshoots to share his cuteness with the world |failed    |[zylor, is, a, new, baby, cosplayer, back, this, kickstarter, to, help, fund, new, cosplay, photoshoots, to, share, his, cuteness, with, the, world]|[zylor, new, baby, cosplayer, back, kickstarter, help, fund, new, cosplay, photoshoots, share, cuteness, world]           |0.0  |\n",
            "|5  |hatoful boyfriend meet skeletons a comedy dating sim that puts you into a high school full of skeletons rattle some bones     |failed    |[hatoful, boyfriend, meet, skeletons, a, comedy, dating, sim, that, puts, you, into, a, high, school, full, of, skeletons, rattle, some, bones]     |[hatoful, boyfriend, meet, skeletons, comedy, dating, sim, puts, high, school, full, skeletons, rattle, bones]            |0.0  |\n",
            "+---+------------------------------------------------------------------------------------------------------------------------------+----------+----------------------------------------------------------------------------------------------------------------------------------------------------+--------------------------------------------------------------------------------------------------------------------------+-----+\n",
            "only showing top 5 rows\n",
            "\n",
            "None\n"
          ],
          "name": "stdout"
        }
      ]
    },
    {
      "cell_type": "code",
      "metadata": {
        "colab": {
          "base_uri": "https://localhost:8080/"
        },
        "id": "McSQhppgRXtA",
        "outputId": "46e31b7f-ffd0-43ce-db3d-0f7f942822ad"
      },
      "source": [
        "################# PIPELINED ##################\n",
        "# Tokenize\n",
        "regex_tokenizer = RegexTokenizer(inputCol=\"blurb\", outputCol=\"words\", pattern=\"\\\\W\")\n",
        "# raw_words = regex_tokenizer.transform(df)\n",
        "\n",
        "# Remove Stop words\n",
        "remover = StopWordsRemover(inputCol=regex_tokenizer.getOutputCol(), outputCol=\"filtered\")\n",
        "# words_df = remover.transform(raw_words)\n",
        "\n",
        "# Zero Index Label Column\n",
        "indexer = StringIndexer(inputCol=\"state\", outputCol=\"label\")\n",
        "# feature_data = indexer.fit(words_df).transform(words_df)\n",
        "\n",
        "# Create the Pipeline\n",
        "pipeline = Pipeline(stages=[regex_tokenizer,remover,indexer])\n",
        "data_prep_pl = pipeline.fit(df)\n",
        "# print(type(data_prep_pl))\n",
        "# print(\" \")\n",
        "# Now call on the Pipeline to get our final df\n",
        "feature_data = data_prep_pl.transform(df)\n",
        "feature_data.show(5,False)"
      ],
      "execution_count": null,
      "outputs": [
        {
          "output_type": "stream",
          "text": [
            "+---+------------------------------------------------------------------------------------------------------------------------------+----------+----------------------------------------------------------------------------------------------------------------------------------------------------+--------------------------------------------------------------------------------------------------------------------------+-----+\n",
            "|_c0|blurb                                                                                                                         |state     |words                                                                                                                                               |filtered                                                                                                                  |label|\n",
            "+---+------------------------------------------------------------------------------------------------------------------------------+----------+----------------------------------------------------------------------------------------------------------------------------------------------------+--------------------------------------------------------------------------------------------------------------------------+-----+\n",
            "|1  |using their own character users go on educational quests around a virtual world leveling up subjectoriented skills ie physics |failed    |[using, their, own, character, users, go, on, educational, quests, around, a, virtual, world, leveling, up, subjectoriented, skills, ie, physics]   |[using, character, users, go, educational, quests, around, virtual, world, leveling, subjectoriented, skills, ie, physics]|0.0  |\n",
            "|2  |microfly is a quadcopter packed with wifi sensors and processors for ultimate stability and fits in the palm of your hand     |successful|[microfly, is, a, quadcopter, packed, with, wifi, sensors, and, processors, for, ultimate, stability, and, fits, in, the, palm, of, your, hand]     |[microfly, quadcopter, packed, wifi, sensors, processors, ultimate, stability, fits, palm, hand]                          |1.0  |\n",
            "|3  |a small indie press run as a collective for authors who want to selfpublish and a sexy smart hilarious novel                  |failed    |[a, small, indie, press, run, as, a, collective, for, authors, who, want, to, selfpublish, and, a, sexy, smart, hilarious, novel]                   |[small, indie, press, run, collective, authors, want, selfpublish, sexy, smart, hilarious, novel]                         |0.0  |\n",
            "|4  |zylor is a new baby cosplayer back this kickstarter to help fund new cosplay photoshoots to share his cuteness with the world |failed    |[zylor, is, a, new, baby, cosplayer, back, this, kickstarter, to, help, fund, new, cosplay, photoshoots, to, share, his, cuteness, with, the, world]|[zylor, new, baby, cosplayer, back, kickstarter, help, fund, new, cosplay, photoshoots, share, cuteness, world]           |0.0  |\n",
            "|5  |hatoful boyfriend meet skeletons a comedy dating sim that puts you into a high school full of skeletons rattle some bones     |failed    |[hatoful, boyfriend, meet, skeletons, a, comedy, dating, sim, that, puts, you, into, a, high, school, full, of, skeletons, rattle, some, bones]     |[hatoful, boyfriend, meet, skeletons, comedy, dating, sim, puts, high, school, full, skeletons, rattle, bones]            |0.0  |\n",
            "+---+------------------------------------------------------------------------------------------------------------------------------+----------+----------------------------------------------------------------------------------------------------------------------------------------------------+--------------------------------------------------------------------------------------------------------------------------+-----+\n",
            "only showing top 5 rows\n",
            "\n"
          ],
          "name": "stdout"
        }
      ]
    },
    {
      "cell_type": "markdown",
      "metadata": {
        "id": "qeUEB7KyetnJ"
      },
      "source": [
        "## Converting text into vectors\n",
        "\n",
        "We will test out the following three vectorizors:\n",
        "\n",
        "1. Count Vectors\n",
        "2. TF-IDF\n",
        "3. Word2Vec"
      ]
    },
    {
      "cell_type": "code",
      "metadata": {
        "id": "lVTSFV_letDf"
      },
      "source": [
        "# Count Vector (count vectorizer and hashingTF are basically the same thing)\n",
        "# cv = CountVectorizer(inputCol=\"filtered\", outputCol=\"features\")\n",
        "# model = cv.fit(feature_data)\n",
        "# countVectorizer_features = model.transform(feature_data)"
      ],
      "execution_count": null,
      "outputs": []
    },
    {
      "cell_type": "code",
      "metadata": {
        "colab": {
          "base_uri": "https://localhost:8080/"
        },
        "id": "nQrfGNnietFq",
        "outputId": "709d6884-85f3-4535-f9d8-c45aa41e13a1"
      },
      "source": [
        "# Hashing TF (Transformer)\n",
        "hashingTF = HashingTF(inputCol=\"filtered\", outputCol=\"rawfeatures\", numFeatures=200)\n",
        "HTFfeaturizedData = hashingTF.transform(feature_data)\n",
        "print(HTFfeaturizedData.show(5, False))"
      ],
      "execution_count": null,
      "outputs": [
        {
          "output_type": "stream",
          "text": [
            "+---+------------------------------------------------------------------------------------------------------------------------------+----------+----------------------------------------------------------------------------------------------------------------------------------------------------+--------------------------------------------------------------------------------------------------------------------------+-----+-----------------------------------------------------------------------------------------------------+\n",
            "|_c0|blurb                                                                                                                         |state     |words                                                                                                                                               |filtered                                                                                                                  |label|rawfeatures                                                                                          |\n",
            "+---+------------------------------------------------------------------------------------------------------------------------------+----------+----------------------------------------------------------------------------------------------------------------------------------------------------+--------------------------------------------------------------------------------------------------------------------------+-----+-----------------------------------------------------------------------------------------------------+\n",
            "|1  |using their own character users go on educational quests around a virtual world leveling up subjectoriented skills ie physics |failed    |[using, their, own, character, users, go, on, educational, quests, around, a, virtual, world, leveling, up, subjectoriented, skills, ie, physics]   |[using, character, users, go, educational, quests, around, virtual, world, leveling, subjectoriented, skills, ie, physics]|0.0  |(200,[15,18,40,51,66,67,75,109,116,160,162,197],[1.0,1.0,1.0,1.0,1.0,2.0,1.0,1.0,1.0,2.0,1.0,1.0])   |\n",
            "|2  |microfly is a quadcopter packed with wifi sensors and processors for ultimate stability and fits in the palm of your hand     |successful|[microfly, is, a, quadcopter, packed, with, wifi, sensors, and, processors, for, ultimate, stability, and, fits, in, the, palm, of, your, hand]     |[microfly, quadcopter, packed, wifi, sensors, processors, ultimate, stability, fits, palm, hand]                          |1.0  |(200,[20,23,39,47,48,49,114,118,181,185,187],[1.0,1.0,1.0,1.0,1.0,1.0,1.0,1.0,1.0,1.0,1.0])          |\n",
            "|3  |a small indie press run as a collective for authors who want to selfpublish and a sexy smart hilarious novel                  |failed    |[a, small, indie, press, run, as, a, collective, for, authors, who, want, to, selfpublish, and, a, sexy, smart, hilarious, novel]                   |[small, indie, press, run, collective, authors, want, selfpublish, sexy, smart, hilarious, novel]                         |0.0  |(200,[10,20,22,37,40,45,59,66,112,118,160,198],[1.0,1.0,1.0,1.0,1.0,1.0,1.0,1.0,1.0,1.0,1.0,1.0])    |\n",
            "|4  |zylor is a new baby cosplayer back this kickstarter to help fund new cosplay photoshoots to share his cuteness with the world |failed    |[zylor, is, a, new, baby, cosplayer, back, this, kickstarter, to, help, fund, new, cosplay, photoshoots, to, share, his, cuteness, with, the, world]|[zylor, new, baby, cosplayer, back, kickstarter, help, fund, new, cosplay, photoshoots, share, cuteness, world]           |0.0  |(200,[30,38,83,84,108,120,125,129,147,148,160,185],[1.0,1.0,1.0,1.0,1.0,1.0,1.0,1.0,2.0,1.0,1.0,2.0])|\n",
            "|5  |hatoful boyfriend meet skeletons a comedy dating sim that puts you into a high school full of skeletons rattle some bones     |failed    |[hatoful, boyfriend, meet, skeletons, a, comedy, dating, sim, that, puts, you, into, a, high, school, full, of, skeletons, rattle, some, bones]     |[hatoful, boyfriend, meet, skeletons, comedy, dating, sim, puts, high, school, full, skeletons, rattle, bones]            |0.0  |(200,[2,4,32,40,45,79,93,97,116,140,145,193],[1.0,1.0,1.0,1.0,1.0,1.0,1.0,1.0,2.0,1.0,2.0,1.0])      |\n",
            "+---+------------------------------------------------------------------------------------------------------------------------------+----------+----------------------------------------------------------------------------------------------------------------------------------------------------+--------------------------------------------------------------------------------------------------------------------------+-----+-----------------------------------------------------------------------------------------------------+\n",
            "only showing top 5 rows\n",
            "\n",
            "None\n"
          ],
          "name": "stdout"
        }
      ]
    },
    {
      "cell_type": "code",
      "metadata": {
        "id": "DYQhohqdg_QX"
      },
      "source": [
        "# rename the HTF features to features to be consistent\n",
        "HTFfeaturizedData = HTFfeaturizedData.withColumnRenamed(\"rawfeatures\", \"features\")\n",
        "HTFfeaturizedData.name = 'HTFfeaturizedData' #We will use later for printing"
      ],
      "execution_count": null,
      "outputs": []
    },
    {
      "cell_type": "code",
      "metadata": {
        "colab": {
          "base_uri": "https://localhost:8080/",
          "height": 261
        },
        "id": "R0jsIWY2etH2",
        "outputId": "5a83448b-e18a-4f88-9739-a240be47762e"
      },
      "source": [
        "# TF-IDF (IDF: Estimator)\n",
        "idf = IDF(inputCol=\"rawfeatures\", outputCol=\"features\")\n",
        "idfModel = idf.fit(HTFfeaturizedData)\n",
        "TFIDFfeaturizedData = idfModel.transform(HTFfeaturizedData)\n",
        "print(TFIDFfeaturizedData.show(5, False))\n",
        "TFIDFfeaturizedData.name = 'TFIDFfeaturizedData'\n",
        "TFIDFfeaturizedData.name"
      ],
      "execution_count": null,
      "outputs": [
        {
          "output_type": "stream",
          "text": [
            "+---+------------------------------------------------------------------------------------------------------------------------------+----------+----------------------------------------------------------------------------------------------------------------------------------------------------+--------------------------------------------------------------------------------------------------------------------------+-----+-----------------------------------------------------------------------------------------------------+-------------------------------------------------------------------------------------------------------------------------------------------------------------------------------------------------------------------------------------------------------------------------------------+\n",
            "|_c0|blurb                                                                                                                         |state     |words                                                                                                                                               |filtered                                                                                                                  |label|rawfeatures                                                                                          |features                                                                                                                                                                                                                                                                             |\n",
            "+---+------------------------------------------------------------------------------------------------------------------------------+----------+----------------------------------------------------------------------------------------------------------------------------------------------------+--------------------------------------------------------------------------------------------------------------------------+-----+-----------------------------------------------------------------------------------------------------+-------------------------------------------------------------------------------------------------------------------------------------------------------------------------------------------------------------------------------------------------------------------------------------+\n",
            "|1  |using their own character users go on educational quests around a virtual world leveling up subjectoriented skills ie physics |failed    |[using, their, own, character, users, go, on, educational, quests, around, a, virtual, world, leveling, up, subjectoriented, skills, ie, physics]   |[using, character, users, go, educational, quests, around, virtual, world, leveling, subjectoriented, skills, ie, physics]|0.0  |(200,[15,18,40,51,66,67,75,109,116,160,162,197],[1.0,1.0,1.0,1.0,1.0,2.0,1.0,1.0,1.0,2.0,1.0,1.0])   |(200,[15,18,40,51,66,67,75,109,116,160,162,197],[2.488963450483615,3.0244816868399766,2.3313345062800317,2.801338135525767,3.0670413012587727,6.1340826025175454,2.8352396872014487,3.4944853160857123,2.768548312702776,3.7174601906684774,3.2068032436339315,3.0244816868399766])  |\n",
            "|2  |microfly is a quadcopter packed with wifi sensors and processors for ultimate stability and fits in the palm of your hand     |successful|[microfly, is, a, quadcopter, packed, with, wifi, sensors, and, processors, for, ultimate, stability, and, fits, in, the, palm, of, your, hand]     |[microfly, quadcopter, packed, wifi, sensors, processors, ultimate, stability, fits, palm, hand]                          |1.0  |(200,[20,23,39,47,48,49,114,118,181,185,187],[1.0,1.0,1.0,1.0,1.0,1.0,1.0,1.0,1.0,1.0,1.0])          |(200,[20,23,39,47,48,49,114,118,181,185,187],[3.0670413012587727,2.8352396872014487,3.4299467949481413,3.312163759291758,3.6375861597263857,2.4648658989045544,3.0244816868399766,3.8046402443895517,2.6190165787318125,2.4183458832696614,2.801338135525767])                       |\n",
            "|3  |a small indie press run as a collective for authors who want to selfpublish and a sexy smart hilarious novel                  |failed    |[a, small, indie, press, run, as, a, collective, for, authors, who, want, to, selfpublish, and, a, sexy, smart, hilarious, novel]                   |[small, indie, press, run, collective, authors, want, selfpublish, sexy, smart, hilarious, novel]                         |0.0  |(200,[10,20,22,37,40,45,59,66,112,118,160,198],[1.0,1.0,1.0,1.0,1.0,1.0,1.0,1.0,1.0,1.0,1.0,1.0])    |(200,[10,20,22,37,40,45,59,66,112,118,160,198],[3.4299467949481413,3.0670413012587727,3.312163759291758,2.983659692319722,2.3313345062800317,2.736799614388196,2.9444389791664403,3.0670413012587727,2.44133540149436,3.8046402443895517,1.8587300953342387,2.591617604543698])      |\n",
            "|4  |zylor is a new baby cosplayer back this kickstarter to help fund new cosplay photoshoots to share his cuteness with the world |failed    |[zylor, is, a, new, baby, cosplayer, back, this, kickstarter, to, help, fund, new, cosplay, photoshoots, to, share, his, cuteness, with, the, world]|[zylor, new, baby, cosplayer, back, kickstarter, help, fund, new, cosplay, photoshoots, share, cuteness, world]           |0.0  |(200,[30,38,83,84,108,120,125,129,147,148,160,185],[1.0,1.0,1.0,1.0,1.0,1.0,1.0,1.0,2.0,1.0,1.0,2.0])|(200,[30,38,83,84,108,120,125,129,147,148,160,185],[2.706027955721442,2.736799614388196,2.6761749925717613,3.1114930638296068,3.8046402443895517,3.2068032436339315,2.3958730274176028,3.4299467949481413,4.249996146564406,2.4648658989045544,1.8587300953342387,4.836691766539323])|\n",
            "|5  |hatoful boyfriend meet skeletons a comedy dating sim that puts you into a high school full of skeletons rattle some bones     |failed    |[hatoful, boyfriend, meet, skeletons, a, comedy, dating, sim, that, puts, you, into, a, high, school, full, of, skeletons, rattle, some, bones]     |[hatoful, boyfriend, meet, skeletons, comedy, dating, sim, puts, high, school, full, skeletons, rattle, bones]            |0.0  |(200,[2,4,32,40,45,79,93,97,116,140,145,193],[1.0,1.0,1.0,1.0,1.0,1.0,1.0,1.0,2.0,1.0,2.0,1.0])      |(200,[2,4,32,40,45,79,93,97,116,140,145,193],[2.5649493574615367,2.310715219077296,2.736799614388196,2.3313345062800317,2.736799614388196,3.2068032436339315,2.3313345062800317,2.3738941206988278,5.537096625405552,2.8352396872014487,7.275172319452771,1.6699360240346666])       |\n",
            "+---+------------------------------------------------------------------------------------------------------------------------------+----------+----------------------------------------------------------------------------------------------------------------------------------------------------+--------------------------------------------------------------------------------------------------------------------------+-----+-----------------------------------------------------------------------------------------------------+-------------------------------------------------------------------------------------------------------------------------------------------------------------------------------------------------------------------------------------------------------------------------------------+\n",
            "only showing top 5 rows\n",
            "\n",
            "None\n"
          ],
          "name": "stdout"
        },
        {
          "output_type": "execute_result",
          "data": {
            "application/vnd.google.colaboratory.intrinsic+json": {
              "type": "string"
            },
            "text/plain": [
              "'TFIDFfeaturizedData'"
            ]
          },
          "metadata": {
            "tags": []
          },
          "execution_count": 55
        }
      ]
    },
    {
      "cell_type": "code",
      "metadata": {
        "colab": {
          "base_uri": "https://localhost:8080/"
        },
        "id": "Y2fam8zAgdO5",
        "outputId": "2feb3b22-8c5e-4dc2-c7e9-5f4d6d196b46"
      },
      "source": [
        "# Word2Vec\n",
        "word2Vec = Word2Vec(vectorSize=100, minCount=0, inputCol=\"filtered\", outputCol=\"features\")\n",
        "model = word2Vec.fit(feature_data)\n",
        "W2VfeaturizedData = model.transform(feature_data)\n",
        "W2VfeaturizedData.show(5,False)"
      ],
      "execution_count": null,
      "outputs": [
        {
          "output_type": "stream",
          "text": [
            "+---+------------------------------------------------------------------------------------------------------------------------------+----------+----------------------------------------------------------------------------------------------------------------------------------------------------+--------------------------------------------------------------------------------------------------------------------------+-----+------------------------------------------------------------------------------------------------------------------------------------------------------------------------------------------------------------------------------------------------------------------------------------------------------------------------------------------------------------------------------------------------------------------------------------------------------------------------------------------------------------------------------------------------------------------------------------------------------------------------------------------------------------------------------------------------------------------------------------------------------------------------------------------------------------------------------------------------------------------------------------------------------------------------------------------------------------------------------------------------------------------------------------------------------------------------------------------------------------------------------------------------------------------------------------------------------------------------------------------------------------------------------------------------------------------------------------------------------------------------------------------------------------------------------------------------------------------------------------------------------------------------------------------------------------------------------------------------------------------------------------------------------------------------------------------------------------------------------------------------------------------------------------------------------------------------------------------------------------------------------------------------------------------------------------------------------------------------------------------------------------------------------------------------------------------------------------------------------------------------------------------------------------------------------------------------------------------------------------------------------------------------------------+\n",
            "|_c0|blurb                                                                                                                         |state     |words                                                                                                                                               |filtered                                                                                                                  |label|features                                                                                                                                                                                                                                                                                                                                                                                                                                                                                                                                                                                                                                                                                                                                                                                                                                                                                                                                                                                                                                                                                                                                                                                                                                                                                                                                                                                                                                                                                                                                                                                                                                                                                                                                                                                                                                                                                                                                                                                                                                                                                                                                                                                                                                                                            |\n",
            "+---+------------------------------------------------------------------------------------------------------------------------------+----------+----------------------------------------------------------------------------------------------------------------------------------------------------+--------------------------------------------------------------------------------------------------------------------------+-----+------------------------------------------------------------------------------------------------------------------------------------------------------------------------------------------------------------------------------------------------------------------------------------------------------------------------------------------------------------------------------------------------------------------------------------------------------------------------------------------------------------------------------------------------------------------------------------------------------------------------------------------------------------------------------------------------------------------------------------------------------------------------------------------------------------------------------------------------------------------------------------------------------------------------------------------------------------------------------------------------------------------------------------------------------------------------------------------------------------------------------------------------------------------------------------------------------------------------------------------------------------------------------------------------------------------------------------------------------------------------------------------------------------------------------------------------------------------------------------------------------------------------------------------------------------------------------------------------------------------------------------------------------------------------------------------------------------------------------------------------------------------------------------------------------------------------------------------------------------------------------------------------------------------------------------------------------------------------------------------------------------------------------------------------------------------------------------------------------------------------------------------------------------------------------------------------------------------------------------------------------------------------------------+\n",
            "|1  |using their own character users go on educational quests around a virtual world leveling up subjectoriented skills ie physics |failed    |[using, their, own, character, users, go, on, educational, quests, around, a, virtual, world, leveling, up, subjectoriented, skills, ie, physics]   |[using, character, users, go, educational, quests, around, virtual, world, leveling, subjectoriented, skills, ie, physics]|0.0  |[-0.001313749434692519,-1.3250715606513298E-4,0.0026216465713722365,0.004200229778819318,0.0014824003779462405,-0.0018435557638960224,1.2460868622708534E-4,0.0014215091235070887,-5.306064797748279E-5,7.520907882800591E-4,0.0019775090685081004,3.9964535166551026E-4,0.003595971783007761,0.0038791546581446058,-0.0015256974189209618,9.907118198628137E-4,0.0023068305994716604,0.0016012197572438578,0.005327090809130043,0.0013441550690913573,-2.5864513424624287E-4,0.003984488966774994,0.0010394299397376017,-4.017895969030048E-4,-0.0034092105904294707,-0.00400220657632287,-0.0015772972993935192,-4.580717234473143E-4,0.0016385561580786348,0.0017240414412559141,4.5822031097486615E-5,0.0010816678290471568,-0.0013600123638752848,-9.091685559334499E-4,0.0014837344393267163,-0.0034480955645059498,-8.850473532220349E-4,-0.002057351737416216,4.168753616145945E-4,-0.0013877070533843444,-4.003656649729237E-4,1.8373902171983249E-4,-9.668276096428079E-4,-8.093577811710669E-4,0.001239660636721445,-0.001248578873596021,-0.006944667177906792,0.0015534328309253656,-0.0034671682328085546,-3.760961927972468E-4,0.003285414935297532,0.0037540314286681154,-0.0012266846273892692,0.006711227553231375,0.002401793611592698,-0.001619067293566851,0.0017044591368176043,-8.354157408965485E-4,0.0017627741742346967,0.006074935921268271,0.0011473325014646563,-0.0020991325187164223,2.2226278503824557E-4,-0.001966929592267011,1.7286637187550826E-4,-6.813298345410397E-4,4.987789392803928E-4,0.0026704594326604687,8.839812975825874E-4,3.539299941621721E-4,7.881771931092121E-4,-0.002776274976245726,-3.967921225661744E-4,-1.0449834059857364E-4,7.465349398054448E-4,-0.0016137264049445677,-0.0014090223433283556,0.002440891153777816,0.0015195460728136823,0.0016018125315895304,-0.0013727256643635752,0.002780901036333359,0.0030753936047663694,-0.0022992860135023613,0.0014050631642541181,0.0016581963198924702,4.279823936355699E-4,-0.001723710210561486,8.607278785867882E-4,-6.605959040046271E-4,-0.0030597846905168675,-0.0037244818439441064,2.5071342991265865E-4,0.001500121858303568,0.0011581036461783306,-0.003558617430306705,0.004163413358453129,-0.0028058630876850134,7.609198406238907E-4,0.0022809437619538842]|\n",
            "|2  |microfly is a quadcopter packed with wifi sensors and processors for ultimate stability and fits in the palm of your hand     |successful|[microfly, is, a, quadcopter, packed, with, wifi, sensors, and, processors, for, ultimate, stability, and, fits, in, the, palm, of, your, hand]     |[microfly, quadcopter, packed, wifi, sensors, processors, ultimate, stability, fits, palm, hand]                          |1.0  |[-2.2147041322155434E-4,-6.389392497525974E-5,1.8930373268879273E-4,0.0012465832643845881,5.56007848320984E-4,-3.648007868005979E-4,-0.001510804632826793,7.054423490031199E-4,9.773417947475207E-4,2.595675389536402E-4,0.0010463590945371172,-3.737281394106421E-4,-2.1204595792699945E-4,0.0010465968728319488,-4.2839203590781176E-4,-0.001421845221722668,0.001138741907197982,4.311310741203753E-5,6.648237242850221E-4,9.479389092038301E-4,5.995602643286641E-4,0.0026676916432651606,1.4827607876875184E-6,6.617462270448661E-4,2.46971411715177E-4,2.1138112193015829E-4,5.10405386607586E-4,0.00162532818649197,-4.409499604000964E-4,0.002100695760666647,-5.71940348229625E-4,-2.917244458909739E-4,-6.4928717487915E-4,-6.050510829399255E-4,7.376023700503125E-4,-0.001378798370834292,-8.344677966802424E-4,4.8806211700800554E-4,-0.0015813179197721183,-7.950844083097763E-4,-6.988868593576957E-4,-6.67788395234807E-5,1.4582865829156205E-5,7.329110879006541E-4,0.002121668922799555,-0.0014253137844868681,-0.0014275386440038512,5.351199599152262E-4,-0.001539316460449217,-4.4988483767321503E-4,0.0013625510671938007,-3.462308086454868E-5,-6.866819266261617E-4,8.361360603223809E-4,4.795247157083147E-4,-0.002683158582923087,0.0012815847611901436,-6.528746188533577E-4,0.0011075056496668947,8.629705037244341E-4,-9.348441381007433E-4,-5.205544029277834E-4,0.0013125914860707285,-7.695939831054685E-4,7.378545858294026E-4,0.0010234945531754586,-2.562815921423449E-4,0.0016652308483819731,9.617464992598716E-4,-4.0005447358866644E-4,7.238800886129452E-5,-3.2579960216852754E-4,-0.0014179474727081304,9.587187378201634E-4,-3.1474051700735636E-5,7.71681280721995E-4,0.0013086581629150633,9.364918276498264E-4,6.872845878288817E-5,-7.718811896417967E-4,-6.467015958729793E-4,9.329740317877044E-5,0.0010660434838262684,-2.501353468357014E-4,-3.0232028802856803E-4,7.894064818339592E-4,0.0010888538222802295,-0.0012772194035774605,-0.0014001836322925308,-6.28854007862339E-4,-0.0023214963148348033,-2.9714825028680604E-5,7.558306652671573E-4,-4.00760158134455E-4,-0.0010136747150681913,-0.0025764789210039785,0.001642893823869103,-0.001878148250398226,-3.356475869870999E-4,0.0010307273636995392]                    |\n",
            "|3  |a small indie press run as a collective for authors who want to selfpublish and a sexy smart hilarious novel                  |failed    |[a, small, indie, press, run, as, a, collective, for, authors, who, want, to, selfpublish, and, a, sexy, smart, hilarious, novel]                   |[small, indie, press, run, collective, authors, want, selfpublish, sexy, smart, hilarious, novel]                         |0.0  |[-0.0016657939122524112,5.478004095493816E-4,6.882870705643047E-4,0.002724768603608633,0.0017693545911849165,-8.616088452981785E-4,3.6765652233346674E-4,0.0011078384959546383,6.09457496466348E-4,0.002881175421255951,0.0012225470248570975,5.872015050651195E-4,0.0019363623432582244,8.29284661449492E-4,0.0011198771826457232,-2.5237015991782147E-4,9.183580793129901E-4,0.001904351229313761,0.003193777166112947,0.0013627213688778284,1.2254341830460663E-4,0.002116491280806561,9.169016047962941E-4,-0.0012735176278511062,-0.002276208038286616,-0.0014830841731357698,-0.0013146637926790086,3.41750455845613E-5,0.0018692284374992596,-0.0011872767524134056,9.792409740233172E-4,4.116661087512814E-5,-0.0015407607425004244,7.765129218266034E-5,1.9552212203658806E-4,-0.0024878965244473266,0.0014540464277767264,-2.2738365805707872E-4,0.001923092514819776,-3.751877911781776E-4,-0.0018852866420881278,0.0011351468116724086,7.457184619852342E-5,4.6568401739932597E-4,4.9468049837742E-4,8.971773786470294E-5,-0.002289188909344375,0.0017064700623450335,-1.2349860965817544E-4,-0.0018130387519098197,0.0012599597193911904,0.0025567179570013345,4.083242529304698E-4,0.001927258369202415,0.0015065202242112719,-0.001106296445262463,-9.228977675472075E-5,-8.687364000555438E-4,0.0010740591078501893,0.0033622809084287533,0.0013020341769636918,-3.3445732697146013E-4,2.462817986573403E-4,-7.662715155068629E-4,0.0013395259641886998,-0.0016230354861666758,0.0019177233625669032,0.0032228110770423273,8.490344128707268E-4,0.0011818931573846687,0.001680296544994538,-0.0010641904761238643,-8.194136316888034E-4,8.861783862812445E-4,1.2837721927401918E-4,-0.0014884934741227576,-0.0016402749230716531,1.2489368843186335E-4,-8.926631077580774E-4,0.0011659671314797984,7.27702089837597E-4,0.001377251663749727,-3.404165618121624E-4,-9.477187935165905E-4,2.0550353413758177E-4,0.002008085197303444,0.002224227362603415,-3.582090139389038E-4,7.675451115574106E-4,-0.0010143626277567819,2.7615823879993207E-4,-2.742445891878257E-4,3.7279007907879225E-4,7.330666618751517E-4,7.027345139552683E-4,-8.445245572753871E-4,0.0021298628804894784,-5.319565946895939E-4,0.001429697037868512,0.0013269786819970855]                 |\n",
            "|4  |zylor is a new baby cosplayer back this kickstarter to help fund new cosplay photoshoots to share his cuteness with the world |failed    |[zylor, is, a, new, baby, cosplayer, back, this, kickstarter, to, help, fund, new, cosplay, photoshoots, to, share, his, cuteness, with, the, world]|[zylor, new, baby, cosplayer, back, kickstarter, help, fund, new, cosplay, photoshoots, share, cuteness, world]           |0.0  |[-0.005291830627746613,4.508842123738889E-4,0.007948409071624545,0.008726582360395696,0.0012833820157019155,-0.006291592838741572,7.358450550652508E-4,0.005380863257284675,6.970003513353211E-4,0.006105791606907067,0.0034586180377768217,0.0011613010595153484,0.006080220736164067,0.009209856041707098,-0.0021567854647790746,0.0023253857715254916,0.00505318938875072,0.004580943965785471,0.00986847666250209,0.003181540793905567,-0.003137380312961925,0.0084746700595133,-7.301695586647838E-5,-5.501737001135812E-4,-0.007112684738655973,-0.008982736076827027,-0.0029941939449469957,0.0028201754082277015,0.0023716480448326494,0.0033128984630041353,4.1491901044667296E-4,6.822108199620353E-4,-0.0050600406980915325,-0.0019678612329049167,0.004631325947619708,-0.006646803729901356,0.0019596934081554146,-8.3779997865869E-4,0.0022013229016530594,-0.003453866590072201,-0.004838610053411685,0.002662829605729452,-0.003911109173454211,0.0010391474643256515,0.007191437704022974,-0.004830756677880085,-0.015131145952701834,0.0021206596658365534,-0.00518319450618167,-0.0013586291003905768,0.004919730237036544,0.00660889513944442,-0.001110152981709689,0.013815403019959505,0.005348666679180626,-0.003355695616586932,0.00401327372362305,-0.004448015334284199,0.0015236406678533446,0.013563135873742534,8.49689556551831E-4,-0.0031067896800647888,1.9110471891638423E-4,-0.004817725142597088,0.0038003732084429687,-0.0028096994834153777,0.0031582328603170545,0.006296336609271488,0.0029052562323548564,0.0016221615057604919,0.001323793756975127,-0.00627248640271968,-0.0019474206585852827,-0.0010033961589215323,5.161877571871237E-4,-1.0717485565692186E-6,-0.0021281523180992474,0.0061405150076357775,0.0021872949936161084,0.004599086279215823,-0.003303056368687456,0.005488433592420603,0.005642121815721371,-0.007243443188989268,-8.618983530530905E-4,0.0012153906739383403,0.002590215008240193,-0.004225665977823415,-0.0029204346688597328,-0.0034943376106509405,-0.008043691395349535,-0.007280738043066646,0.0023202716682655072,0.005036693739904357,0.0012833749330768893,-0.005578509822953492,0.008430172439797648,-0.004571642497986821,0.005341716198017821,0.003639074679605463]                             |\n",
            "|5  |hatoful boyfriend meet skeletons a comedy dating sim that puts you into a high school full of skeletons rattle some bones     |failed    |[hatoful, boyfriend, meet, skeletons, a, comedy, dating, sim, that, puts, you, into, a, high, school, full, of, skeletons, rattle, some, bones]     |[hatoful, boyfriend, meet, skeletons, comedy, dating, sim, puts, high, school, full, skeletons, rattle, bones]            |0.0  |[-0.0023360135757164763,-1.9106552645098418E-4,3.075151055652116E-4,0.0022358265724895837,7.587245158252439E-4,-3.193419917287039E-4,3.0472472228991265E-4,8.101902676571626E-4,2.358450146857649E-4,-9.638099779424789E-4,3.544505910083119E-4,1.3690771759554212E-4,5.276890463262264E-4,0.0015239489132779583,-0.0010010133597201534,2.0728688105009496E-4,9.092944923655262E-4,6.534461821762046E-4,0.0015578490565530956,2.2471044732290984E-4,4.571260682756214E-4,0.0020322433986491107,9.417448745807633E-4,-0.0015043511313186692,-7.604502690290765E-4,-0.0021729349474688725,-0.0012643502720623343,-3.144429917613576E-4,2.562814624980092E-4,8.2527803897392E-5,0.0015445470510582838,4.707899539165997E-4,3.846839535981417E-5,-3.985167464374431E-4,1.2000816682952323E-4,-5.016045428679457E-4,0.001310406138925048,5.103289066547794E-4,0.0020121013304950403,-7.862964661658874E-4,-6.467910591579441E-4,-0.0014594687943047444,-3.7328241238096126E-4,-0.0016481023269859308,0.0015095128203808728,-0.0029511151577545592,-0.0026016482058496744,-2.1020289776580673E-4,-9.786752302066556E-4,1.947653280305011E-6,-5.336104576209826E-4,7.916492800827005E-4,-2.962602073759107E-4,0.003316651256422379,-0.0013075846639237299,-0.0010234511979173736,0.0017210106525453739,1.3023797821785721E-5,5.344353225414773E-4,4.134449575628553E-4,-1.4530877316636698E-5,-0.0010364443504451107,9.159114228428474E-4,5.404391933032976E-4,1.4550914888137152E-4,5.592236370180866E-4,8.074919792956539E-4,8.508542461121188E-4,0.001415393772601549,2.7404064167058095E-4,7.124428770371845E-4,-6.310873931007725E-4,-0.0015574358881817066,-0.001018571326442595,0.001715269172564149,0.0015259290126518213,3.9248879017707494E-5,0.0013021409519881541,9.095023643957184E-4,-6.468662925596748E-4,-9.514524468353816E-4,3.810085410285475E-4,9.850282617013104E-4,-0.0019398692077499747,-2.4130418231444697E-5,8.143799849286941E-4,2.514624855913488E-4,-1.0617485220011855E-4,-7.782289446497867E-4,-6.383114050549921E-4,-9.215518532853041E-4,-9.517202187063438E-4,2.7128773841208646E-4,2.495280932635069E-4,-3.719722735695541E-5,5.104915201497663E-4,-5.684362258762121E-4,-2.567709556647709E-4,0.0014181903025018983,-8.384429550330554E-4]             |\n",
            "+---+------------------------------------------------------------------------------------------------------------------------------+----------+----------------------------------------------------------------------------------------------------------------------------------------------------+--------------------------------------------------------------------------------------------------------------------------+-----+------------------------------------------------------------------------------------------------------------------------------------------------------------------------------------------------------------------------------------------------------------------------------------------------------------------------------------------------------------------------------------------------------------------------------------------------------------------------------------------------------------------------------------------------------------------------------------------------------------------------------------------------------------------------------------------------------------------------------------------------------------------------------------------------------------------------------------------------------------------------------------------------------------------------------------------------------------------------------------------------------------------------------------------------------------------------------------------------------------------------------------------------------------------------------------------------------------------------------------------------------------------------------------------------------------------------------------------------------------------------------------------------------------------------------------------------------------------------------------------------------------------------------------------------------------------------------------------------------------------------------------------------------------------------------------------------------------------------------------------------------------------------------------------------------------------------------------------------------------------------------------------------------------------------------------------------------------------------------------------------------------------------------------------------------------------------------------------------------------------------------------------------------------------------------------------------------------------------------------------------------------------------------------+\n",
            "only showing top 5 rows\n",
            "\n"
          ],
          "name": "stdout"
        }
      ]
    },
    {
      "cell_type": "code",
      "metadata": {
        "colab": {
          "base_uri": "https://localhost:8080/"
        },
        "id": "iDmM17vDetJ7",
        "outputId": "8186f39e-4b91-4772-b40d-59acf3554a82"
      },
      "source": [
        "# W2Vec Dataframes typically has negative values so we will correct for that here so that we can use the Naive Bayes classifier\n",
        "scaler = MinMaxScaler(inputCol=\"features\", outputCol=\"scaledFeatures\")\n",
        "# Compute summary statistics and generate MinMaxScalerModel\n",
        "scalerModel = scaler.fit(W2VfeaturizedData)\n",
        "# rescale each feature to range [min, max].\n",
        "scaled_data = scalerModel.transform(W2VfeaturizedData)\n",
        "scaled_data.show(5,False)"
      ],
      "execution_count": null,
      "outputs": [
        {
          "output_type": "stream",
          "text": [
            "+---+------------------------------------------------------------------------------------------------------------------------------+----------+----------------------------------------------------------------------------------------------------------------------------------------------------+--------------------------------------------------------------------------------------------------------------------------+-----+------------------------------------------------------------------------------------------------------------------------------------------------------------------------------------------------------------------------------------------------------------------------------------------------------------------------------------------------------------------------------------------------------------------------------------------------------------------------------------------------------------------------------------------------------------------------------------------------------------------------------------------------------------------------------------------------------------------------------------------------------------------------------------------------------------------------------------------------------------------------------------------------------------------------------------------------------------------------------------------------------------------------------------------------------------------------------------------------------------------------------------------------------------------------------------------------------------------------------------------------------------------------------------------------------------------------------------------------------------------------------------------------------------------------------------------------------------------------------------------------------------------------------------------------------------------------------------------------------------------------------------------------------------------------------------------------------------------------------------------------------------------------------------------------------------------------------------------------------------------------------------------------------------------------------------------------------------------------------------------------------------------------------------------------------------------------------------------------------------------------------------------------------------------------------------------------------------------------------------------------------------------------------------+---------------------------------------------------------------------------------------------------------------------------------------------------------------------------------------------------------------------------------------------------------------------------------------------------------------------------------------------------------------------------------------------------------------------------------------------------------------------------------------------------------------------------------------------------------------------------------------------------------------------------------------------------------------------------------------------------------------------------------------------------------------------------------------------------------------------------------------------------------------------------------------------------------------------------------------------------------------------------------------------------------------------------------------------------------------------------------------------------------------------------------------------------------------------------------------------------------------------------------------------------------------------------------------------------------------------------------------------------------------------------------------------------------------------------------------------------------------------------------------------------------------------------------------------------------------------------------------------------------------------------------------------------------------------------------------------------------------------------------------------------------------------------------------------------------------------------------------------------------------------------------------------------------------------------------------------------------------------------------------------------------+\n",
            "|_c0|blurb                                                                                                                         |state     |words                                                                                                                                               |filtered                                                                                                                  |label|features                                                                                                                                                                                                                                                                                                                                                                                                                                                                                                                                                                                                                                                                                                                                                                                                                                                                                                                                                                                                                                                                                                                                                                                                                                                                                                                                                                                                                                                                                                                                                                                                                                                                                                                                                                                                                                                                                                                                                                                                                                                                                                                                                                                                                                                                            |scaledFeatures                                                                                                                                                                                                                                                                                                                                                                                                                                                                                                                                                                                                                                                                                                                                                                                                                                                                                                                                                                                                                                                                                                                                                                                                                                                                                                                                                                                                                                                                                                                                                                                                                                                                                                                                                                                                                                                                                                                                                                                           |\n",
            "+---+------------------------------------------------------------------------------------------------------------------------------+----------+----------------------------------------------------------------------------------------------------------------------------------------------------+--------------------------------------------------------------------------------------------------------------------------+-----+------------------------------------------------------------------------------------------------------------------------------------------------------------------------------------------------------------------------------------------------------------------------------------------------------------------------------------------------------------------------------------------------------------------------------------------------------------------------------------------------------------------------------------------------------------------------------------------------------------------------------------------------------------------------------------------------------------------------------------------------------------------------------------------------------------------------------------------------------------------------------------------------------------------------------------------------------------------------------------------------------------------------------------------------------------------------------------------------------------------------------------------------------------------------------------------------------------------------------------------------------------------------------------------------------------------------------------------------------------------------------------------------------------------------------------------------------------------------------------------------------------------------------------------------------------------------------------------------------------------------------------------------------------------------------------------------------------------------------------------------------------------------------------------------------------------------------------------------------------------------------------------------------------------------------------------------------------------------------------------------------------------------------------------------------------------------------------------------------------------------------------------------------------------------------------------------------------------------------------------------------------------------------------+---------------------------------------------------------------------------------------------------------------------------------------------------------------------------------------------------------------------------------------------------------------------------------------------------------------------------------------------------------------------------------------------------------------------------------------------------------------------------------------------------------------------------------------------------------------------------------------------------------------------------------------------------------------------------------------------------------------------------------------------------------------------------------------------------------------------------------------------------------------------------------------------------------------------------------------------------------------------------------------------------------------------------------------------------------------------------------------------------------------------------------------------------------------------------------------------------------------------------------------------------------------------------------------------------------------------------------------------------------------------------------------------------------------------------------------------------------------------------------------------------------------------------------------------------------------------------------------------------------------------------------------------------------------------------------------------------------------------------------------------------------------------------------------------------------------------------------------------------------------------------------------------------------------------------------------------------------------------------------------------------------+\n",
            "|1  |using their own character users go on educational quests around a virtual world leveling up subjectoriented skills ie physics |failed    |[using, their, own, character, users, go, on, educational, quests, around, a, virtual, world, leveling, up, subjectoriented, skills, ie, physics]   |[using, character, users, go, educational, quests, around, virtual, world, leveling, subjectoriented, skills, ie, physics]|0.0  |[-0.001313749434692519,-1.3250715606513298E-4,0.0026216465713722365,0.004200229778819318,0.0014824003779462405,-0.0018435557638960224,1.2460868622708534E-4,0.0014215091235070887,-5.306064797748279E-5,7.520907882800591E-4,0.0019775090685081004,3.9964535166551026E-4,0.003595971783007761,0.0038791546581446058,-0.0015256974189209618,9.907118198628137E-4,0.0023068305994716604,0.0016012197572438578,0.005327090809130043,0.0013441550690913573,-2.5864513424624287E-4,0.003984488966774994,0.0010394299397376017,-4.017895969030048E-4,-0.0034092105904294707,-0.00400220657632287,-0.0015772972993935192,-4.580717234473143E-4,0.0016385561580786348,0.0017240414412559141,4.5822031097486615E-5,0.0010816678290471568,-0.0013600123638752848,-9.091685559334499E-4,0.0014837344393267163,-0.0034480955645059498,-8.850473532220349E-4,-0.002057351737416216,4.168753616145945E-4,-0.0013877070533843444,-4.003656649729237E-4,1.8373902171983249E-4,-9.668276096428079E-4,-8.093577811710669E-4,0.001239660636721445,-0.001248578873596021,-0.006944667177906792,0.0015534328309253656,-0.0034671682328085546,-3.760961927972468E-4,0.003285414935297532,0.0037540314286681154,-0.0012266846273892692,0.006711227553231375,0.002401793611592698,-0.001619067293566851,0.0017044591368176043,-8.354157408965485E-4,0.0017627741742346967,0.006074935921268271,0.0011473325014646563,-0.0020991325187164223,2.2226278503824557E-4,-0.001966929592267011,1.7286637187550826E-4,-6.813298345410397E-4,4.987789392803928E-4,0.0026704594326604687,8.839812975825874E-4,3.539299941621721E-4,7.881771931092121E-4,-0.002776274976245726,-3.967921225661744E-4,-1.0449834059857364E-4,7.465349398054448E-4,-0.0016137264049445677,-0.0014090223433283556,0.002440891153777816,0.0015195460728136823,0.0016018125315895304,-0.0013727256643635752,0.002780901036333359,0.0030753936047663694,-0.0022992860135023613,0.0014050631642541181,0.0016581963198924702,4.279823936355699E-4,-0.001723710210561486,8.607278785867882E-4,-6.605959040046271E-4,-0.0030597846905168675,-0.0037244818439441064,2.5071342991265865E-4,0.001500121858303568,0.0011581036461783306,-0.003558617430306705,0.004163413358453129,-0.0028058630876850134,7.609198406238907E-4,0.0022809437619538842]|[0.7438418742186258,0.42627712383595845,0.3353654038424129,0.3226943111679257,0.5057487719715852,0.7331671845398441,0.4873207709917114,0.33651420754513117,0.4032789642825502,0.31205096534516036,0.5373833854850806,0.6159750904207735,0.47857531256331604,0.364458735197717,0.48918300105314033,0.6325761974969899,0.38479066704138887,0.39138906567259657,0.40520488603809357,0.584648811618392,0.6190775197621559,0.3211588961261921,0.7073152931027197,0.38598459097540216,0.6020410116917168,0.6605200599942275,0.5115268305305236,0.36923426728569875,0.4356041917516324,0.527912416464188,0.4352031462891004,0.6851443558394311,0.6763574465100655,0.4611961838313751,0.3089770004628355,0.5729369156433051,0.3366250619449842,0.30338795467823915,0.5710733839515717,0.6087154129452024,0.7097070098766074,0.3888208119526628,0.4724147310639792,0.24094373447468523,0.24022514259735298,0.6046424991157598,0.605390197385628,0.4705636945166715,0.5166710854021038,0.6381794256530489,0.54384002302048,0.45259025300489236,0.25931938682872735,0.38172578054694256,0.49864685546897053,0.641640118091657,0.3844970826425089,0.5850028187334552,0.6479814258982199,0.3942896989440458,0.5614753443982357,0.4426734987465242,0.5749524685154034,0.429782164582934,0.29211004230135096,0.5982181123938267,0.29069830432994725,0.362224143017815,0.38855895464371853,0.4982619225810841,0.7530236925028672,0.6901657689215275,0.6645666116223627,0.33817202443519806,0.48526750866300444,0.12003786024741453,0.48826856991530815,0.41147364916257023,0.5328829126465959,0.477645878482743,0.6117172742680617,0.407543306741925,0.3957685176223553,0.6111116413792265,0.707673937982858,0.6012697503890718,0.5310112038611471,0.5177952454920005,0.7348539671649651,0.6190590190999857,0.5544804725832801,0.6258741408832067,0.3778056528675747,0.36040245250125696,0.5261915044831286,0.5575032018208383,0.5029067463100154,0.6285369718225144,0.25542128002335446,0.4563964035748904]             |\n",
            "|2  |microfly is a quadcopter packed with wifi sensors and processors for ultimate stability and fits in the palm of your hand     |successful|[microfly, is, a, quadcopter, packed, with, wifi, sensors, and, processors, for, ultimate, stability, and, fits, in, the, palm, of, your, hand]     |[microfly, quadcopter, packed, wifi, sensors, processors, ultimate, stability, fits, palm, hand]                          |1.0  |[-2.2147041322155434E-4,-6.389392497525974E-5,1.8930373268879273E-4,0.0012465832643845881,5.56007848320984E-4,-3.648007868005979E-4,-0.001510804632826793,7.054423490031199E-4,9.773417947475207E-4,2.595675389536402E-4,0.0010463590945371172,-3.737281394106421E-4,-2.1204595792699945E-4,0.0010465968728319488,-4.2839203590781176E-4,-0.001421845221722668,0.001138741907197982,4.311310741203753E-5,6.648237242850221E-4,9.479389092038301E-4,5.995602643286641E-4,0.0026676916432651606,1.4827607876875184E-6,6.617462270448661E-4,2.46971411715177E-4,2.1138112193015829E-4,5.10405386607586E-4,0.00162532818649197,-4.409499604000964E-4,0.002100695760666647,-5.71940348229625E-4,-2.917244458909739E-4,-6.4928717487915E-4,-6.050510829399255E-4,7.376023700503125E-4,-0.001378798370834292,-8.344677966802424E-4,4.8806211700800554E-4,-0.0015813179197721183,-7.950844083097763E-4,-6.988868593576957E-4,-6.67788395234807E-5,1.4582865829156205E-5,7.329110879006541E-4,0.002121668922799555,-0.0014253137844868681,-0.0014275386440038512,5.351199599152262E-4,-0.001539316460449217,-4.4988483767321503E-4,0.0013625510671938007,-3.462308086454868E-5,-6.866819266261617E-4,8.361360603223809E-4,4.795247157083147E-4,-0.002683158582923087,0.0012815847611901436,-6.528746188533577E-4,0.0011075056496668947,8.629705037244341E-4,-9.348441381007433E-4,-5.205544029277834E-4,0.0013125914860707285,-7.695939831054685E-4,7.378545858294026E-4,0.0010234945531754586,-2.562815921423449E-4,0.0016652308483819731,9.617464992598716E-4,-4.0005447358866644E-4,7.238800886129452E-5,-3.2579960216852754E-4,-0.0014179474727081304,9.587187378201634E-4,-3.1474051700735636E-5,7.71681280721995E-4,0.0013086581629150633,9.364918276498264E-4,6.872845878288817E-5,-7.718811896417967E-4,-6.467015958729793E-4,9.329740317877044E-5,0.0010660434838262684,-2.501353468357014E-4,-3.0232028802856803E-4,7.894064818339592E-4,0.0010888538222802295,-0.0012772194035774605,-0.0014001836322925308,-6.28854007862339E-4,-0.0023214963148348033,-2.9714825028680604E-5,7.558306652671573E-4,-4.00760158134455E-4,-0.0010136747150681913,-0.0025764789210039785,0.001642893823869103,-0.001878148250398226,-3.356475869870999E-4,0.0010307273636995392]                    |[0.8308511134176813,0.440299547270017,0.19603193927015522,0.19213714539632135,0.38268005740261024,0.8256024091567181,0.23340259296502436,0.27295155829092843,0.551428579693235,0.2664751997987626,0.42830160898841496,0.5005431458363827,0.22683379843468274,0.23073410403412056,0.6189102750967455,0.2757402250034285,0.2831694398237909,0.24073854611510515,0.21227724319114374,0.5371197840405689,0.7094023018416961,0.26013514554521733,0.49124960978872106,0.5733764787801202,0.8182274093722925,0.8265550944646661,0.7559750401897716,0.6448891465772483,0.22347770764663938,0.5718371233568224,0.33700724868264953,0.48843731935097473,0.7259357907000611,0.500840340903468,0.24303510555099123,0.6934383256719083,0.34396852213665124,0.7382447596762594,0.30675389619850074,0.657387488696236,0.6809703923643912,0.35874450277893927,0.5974500661760493,0.4880993850859592,0.297185408682205,0.5869766453953474,0.7721564226566147,0.3702969659307049,0.6632224564048878,0.6283014345923459,0.3753060148174984,0.1989732023944577,0.35090698590250946,0.1961838277451496,0.3314909463344312,0.547601182377561,0.34837933388159387,0.602809100999079,0.5531514445093253,0.24034531399430178,0.20778993375911933,0.5891717287656107,0.7517809714276259,0.5441158621306242,0.3650503555555473,0.8122466098614178,0.21122161161383068,0.2901404225076375,0.401030330502029,0.40078534769244006,0.6368188623858544,0.8635547351085201,0.5039295291626432,0.47808026413775945,0.37402347885614806,0.5885373463748294,0.8210943109649883,0.30727160239700024,0.3906980368308175,0.24335861927589109,0.6822249330272975,0.23162457755723903,0.24233720566492664,0.7539909507939317,0.4664614798903162,0.4655852202485316,0.616689427936613,0.5597040073698047,0.44984612465798945,0.6237995737527711,0.6039454835983677,0.8376427621311865,0.44283734568805155,0.19362379644223118,0.15093692562166114,0.6270591720876458,0.3465019739251876,0.7018812476359295,0.16817107678830875,0.32785072670236426]|\n",
            "|3  |a small indie press run as a collective for authors who want to selfpublish and a sexy smart hilarious novel                  |failed    |[a, small, indie, press, run, as, a, collective, for, authors, who, want, to, selfpublish, and, a, sexy, smart, hilarious, novel]                   |[small, indie, press, run, collective, authors, want, selfpublish, sexy, smart, hilarious, novel]                         |0.0  |[-0.0016657939122524112,5.478004095493816E-4,6.882870705643047E-4,0.002724768603608633,0.0017693545911849165,-8.616088452981785E-4,3.6765652233346674E-4,0.0011078384959546383,6.09457496466348E-4,0.002881175421255951,0.0012225470248570975,5.872015050651195E-4,0.0019363623432582244,8.29284661449492E-4,0.0011198771826457232,-2.5237015991782147E-4,9.183580793129901E-4,0.001904351229313761,0.003193777166112947,0.0013627213688778284,1.2254341830460663E-4,0.002116491280806561,9.169016047962941E-4,-0.0012735176278511062,-0.002276208038286616,-0.0014830841731357698,-0.0013146637926790086,3.41750455845613E-5,0.0018692284374992596,-0.0011872767524134056,9.792409740233172E-4,4.116661087512814E-5,-0.0015407607425004244,7.765129218266034E-5,1.9552212203658806E-4,-0.0024878965244473266,0.0014540464277767264,-2.2738365805707872E-4,0.001923092514819776,-3.751877911781776E-4,-0.0018852866420881278,0.0011351468116724086,7.457184619852342E-5,4.6568401739932597E-4,4.9468049837742E-4,8.971773786470294E-5,-0.002289188909344375,0.0017064700623450335,-1.2349860965817544E-4,-0.0018130387519098197,0.0012599597193911904,0.0025567179570013345,4.083242529304698E-4,0.001927258369202415,0.0015065202242112719,-0.001106296445262463,-9.228977675472075E-5,-8.687364000555438E-4,0.0010740591078501893,0.0033622809084287533,0.0013020341769636918,-3.3445732697146013E-4,2.462817986573403E-4,-7.662715155068629E-4,0.0013395259641886998,-0.0016230354861666758,0.0019177233625669032,0.0032228110770423273,8.490344128707268E-4,0.0011818931573846687,0.001680296544994538,-0.0010641904761238643,-8.194136316888034E-4,8.861783862812445E-4,1.2837721927401918E-4,-0.0014884934741227576,-0.0016402749230716531,1.2489368843186335E-4,-8.926631077580774E-4,0.0011659671314797984,7.27702089837597E-4,0.001377251663749727,-3.404165618121624E-4,-9.477187935165905E-4,2.0550353413758177E-4,0.002008085197303444,0.002224227362603415,-3.582090139389038E-4,7.675451115574106E-4,-0.0010143626277567819,2.7615823879993207E-4,-2.742445891878257E-4,3.7279007907879225E-4,7.330666618751517E-4,7.027345139552683E-4,-8.445245572753871E-4,0.0021298628804894784,-5.319565946895939E-4,0.001429697037868512,0.0013269786819970855]                 |[0.7157985615168361,0.5653109602973967,0.22461552383903796,0.2574759350690466,0.5438698545948668,0.7945475250210797,0.5250569585342981,0.3086708041219333,0.4985347636014859,0.5090663594278829,0.44894156278083497,0.6439692895438377,0.36886138220695036,0.2204748269012246,0.8019520684916164,0.448714693085581,0.2639965164004918,0.4206983005484552,0.31692698065202557,0.5868759751314092,0.6591970214543438,0.23459111318861958,0.6818090159516955,0.23238867281885384,0.6690343233394918,0.7597852480005999,0.5422784748826535,0.43436349334153135,0.45913463447510844,0.18840005263896425,0.5835739665441367,0.5361163506407934,0.6637489088277047,0.5898360829975992,0.1951269667372104,0.6288521986625961,0.6762295037345699,0.6160184806947968,0.7703146435877726,0.6918735822103649,0.5667637048185904,0.5030435452096373,0.6050928848039104,0.44527502300799443,0.19211418085492832,0.7384143275192068,0.7461113230415564,0.48563228785683243,0.7708500500293252,0.44581777193903127,0.36631415047445937,0.3724406614873153,0.5366264032587982,0.2306426892249326,0.42079602132599236,0.6869561782098934,0.2310365525487617,0.5817524987199663,0.548311085451803,0.31416675604677413,0.5877534826626511,0.6064422660717159,0.5788478499867623,0.5444331248952362,0.4427264870742706,0.47999370926680474,0.44005455487888595,0.4018326083755093,0.38295444613710755,0.6053026067554518,0.897854852307075,0.811308207095465,0.5980843802941468,0.46853471309534284,0.3968798979298578,0.14463389223339068,0.4599477974603066,0.2510563503765771,0.2964785159365375,0.43462726015120323,0.815699827697091,0.31566658399915914,0.13494178076155194,0.7053511690823077,0.5382048438422622,0.6559141601798223,0.7638841535380265,0.645964658160692,0.7231074572895989,0.566225045957163,0.7779872474148807,0.8236273368702789,0.393522501538465,0.2931029390768822,0.4475097407322463,0.7497178043334175,0.3767196665136063,0.8083099131327272,0.3086336451814937,0.3583109144651462]            |\n",
            "|4  |zylor is a new baby cosplayer back this kickstarter to help fund new cosplay photoshoots to share his cuteness with the world |failed    |[zylor, is, a, new, baby, cosplayer, back, this, kickstarter, to, help, fund, new, cosplay, photoshoots, to, share, his, cuteness, with, the, world]|[zylor, new, baby, cosplayer, back, kickstarter, help, fund, new, cosplay, photoshoots, share, cuteness, world]           |0.0  |[-0.005291830627746613,4.508842123738889E-4,0.007948409071624545,0.008726582360395696,0.0012833820157019155,-0.006291592838741572,7.358450550652508E-4,0.005380863257284675,6.970003513353211E-4,0.006105791606907067,0.0034586180377768217,0.0011613010595153484,0.006080220736164067,0.009209856041707098,-0.0021567854647790746,0.0023253857715254916,0.00505318938875072,0.004580943965785471,0.00986847666250209,0.003181540793905567,-0.003137380312961925,0.0084746700595133,-7.301695586647838E-5,-5.501737001135812E-4,-0.007112684738655973,-0.008982736076827027,-0.0029941939449469957,0.0028201754082277015,0.0023716480448326494,0.0033128984630041353,4.1491901044667296E-4,6.822108199620353E-4,-0.0050600406980915325,-0.0019678612329049167,0.004631325947619708,-0.006646803729901356,0.0019596934081554146,-8.3779997865869E-4,0.0022013229016530594,-0.003453866590072201,-0.004838610053411685,0.002662829605729452,-0.003911109173454211,0.0010391474643256515,0.007191437704022974,-0.004830756677880085,-0.015131145952701834,0.0021206596658365534,-0.00518319450618167,-0.0013586291003905768,0.004919730237036544,0.00660889513944442,-0.001110152981709689,0.013815403019959505,0.005348666679180626,-0.003355695616586932,0.00401327372362305,-0.004448015334284199,0.0015236406678533446,0.013563135873742534,8.49689556551831E-4,-0.0031067896800647888,1.9110471891638423E-4,-0.004817725142597088,0.0038003732084429687,-0.0028096994834153777,0.0031582328603170545,0.006296336609271488,0.0029052562323548564,0.0016221615057604919,0.001323793756975127,-0.00627248640271968,-0.0019474206585852827,-0.0010033961589215323,5.161877571871237E-4,-1.0717485565692186E-6,-0.0021281523180992474,0.0061405150076357775,0.0021872949936161084,0.004599086279215823,-0.003303056368687456,0.005488433592420603,0.005642121815721371,-0.007243443188989268,-8.618983530530905E-4,0.0012153906739383403,0.002590215008240193,-0.004225665977823415,-0.0029204346688597328,-0.0034943376106509405,-0.008043691395349535,-0.007280738043066646,0.0023202716682655072,0.005036693739904357,0.0012833749330768893,-0.005578509822953492,0.008430172439797648,-0.004571642497986821,0.005341716198017821,0.003639074679605463]                             |[0.4269541456476085,0.5455042855084863,0.6405017778395362,0.52276827446908,0.47930972671402083,0.45512564791886584,0.5822227895278108,0.687971707095807,0.5111215352773107,0.8074570474925477,0.7108914154149747,0.7296580656913211,0.6428047451674104,0.6161203535613062,0.41457356858515293,0.8299848677559897,0.6237180296572624,0.6794932209326245,0.5931303849434566,0.8050566738584958,0.31609512403966494,0.5292453542124848,0.4757412751527845,0.35983974790126527,0.38305827654926866,0.46426393658659115,0.3456230116581278,0.8029795185255724,0.5103855078925953,0.7132018858210764,0.49387264511889484,0.6279312741179568,0.4182530749376846,0.3231870837168779,0.5871558336907906,0.38666650200773073,0.7496425331346874,0.5117353636550698,0.807118747580193,0.4390218072094001,0.28246722317015666,0.6864518651010956,0.09730233803759643,0.5371751671198112,0.6245920593058795,0.24657951782920295,0.3579375315388478,0.5264148780986874,0.38622225803616206,0.5066490080072532,0.6870835011670473,0.6436982340572893,0.27908383176358975,0.6060835783334534,0.7548998946620763,0.4881658054445109,0.5816932004210866,0.23260568567913964,0.6133741998383968,0.615466595510562,0.5109167293437025,0.34915896872287455,0.5698992820948758,0.15755941122309078,0.7604233246958777,0.33101653944216664,0.570628976479681,0.6222313902158807,0.7127152466718331,0.6622213530521428,0.8399783897539772,0.4427833666250938,0.42063855114628673,0.21988647956690216,0.45233119413595785,0.43676689669622615,0.40019899506487794,0.667727671043146,0.5983244929405045,0.7734814553910154,0.42425365632506185,0.584766495688863,0.5917604817608488,0.2663747831469064,0.38740647887178375,0.5321139276769533,0.8113323713797761,0.28295531858006573,0.25820506930660253,0.1958484026952089,0.22056081710318073,0.42204438159466845,0.6442524620646407,0.6706924654368127,0.5478367261352917,0.4144525283421698,0.7676702102633791,0.4889360870575454,0.6198999277538642,0.5960377155387975]       |\n",
            "|5  |hatoful boyfriend meet skeletons a comedy dating sim that puts you into a high school full of skeletons rattle some bones     |failed    |[hatoful, boyfriend, meet, skeletons, a, comedy, dating, sim, that, puts, you, into, a, high, school, full, of, skeletons, rattle, some, bones]     |[hatoful, boyfriend, meet, skeletons, comedy, dating, sim, puts, high, school, full, skeletons, rattle, bones]            |0.0  |[-0.0023360135757164763,-1.9106552645098418E-4,3.075151055652116E-4,0.0022358265724895837,7.587245158252439E-4,-3.193419917287039E-4,3.0472472228991265E-4,8.101902676571626E-4,2.358450146857649E-4,-9.638099779424789E-4,3.544505910083119E-4,1.3690771759554212E-4,5.276890463262264E-4,0.0015239489132779583,-0.0010010133597201534,2.0728688105009496E-4,9.092944923655262E-4,6.534461821762046E-4,0.0015578490565530956,2.2471044732290984E-4,4.571260682756214E-4,0.0020322433986491107,9.417448745807633E-4,-0.0015043511313186692,-7.604502690290765E-4,-0.0021729349474688725,-0.0012643502720623343,-3.144429917613576E-4,2.562814624980092E-4,8.2527803897392E-5,0.0015445470510582838,4.707899539165997E-4,3.846839535981417E-5,-3.985167464374431E-4,1.2000816682952323E-4,-5.016045428679457E-4,0.001310406138925048,5.103289066547794E-4,0.0020121013304950403,-7.862964661658874E-4,-6.467910591579441E-4,-0.0014594687943047444,-3.7328241238096126E-4,-0.0016481023269859308,0.0015095128203808728,-0.0029511151577545592,-0.0026016482058496744,-2.1020289776580673E-4,-9.786752302066556E-4,1.947653280305011E-6,-5.336104576209826E-4,7.916492800827005E-4,-2.962602073759107E-4,0.003316651256422379,-0.0013075846639237299,-0.0010234511979173736,0.0017210106525453739,1.3023797821785721E-5,5.344353225414773E-4,4.134449575628553E-4,-1.4530877316636698E-5,-0.0010364443504451107,9.159114228428474E-4,5.404391933032976E-4,1.4550914888137152E-4,5.592236370180866E-4,8.074919792956539E-4,8.508542461121188E-4,0.001415393772601549,2.7404064167058095E-4,7.124428770371845E-4,-6.310873931007725E-4,-0.0015574358881817066,-0.001018571326442595,0.001715269172564149,0.0015259290126518213,3.9248879017707494E-5,0.0013021409519881541,9.095023643957184E-4,-6.468662925596748E-4,-9.514524468353816E-4,3.810085410285475E-4,9.850282617013104E-4,-0.0019398692077499747,-2.4130418231444697E-5,8.143799849286941E-4,2.514624855913488E-4,-1.0617485220011855E-4,-7.782289446497867E-4,-6.383114050549921E-4,-9.215518532853041E-4,-9.517202187063438E-4,2.7128773841208646E-4,2.495280932635069E-4,-3.719722735695541E-5,5.104915201497663E-4,-5.684362258762121E-4,-2.567709556647709E-4,0.0014181903025018983,-8.384429550330554E-4]             |[0.6624099109358496,0.4143096031097696,0.20280351763187562,0.23586370574588694,0.409610412401854,0.828443984670152,0.5152860169497917,0.28224965094175253,0.44481735844661774,0.15326964663747564,0.3472463430829643,0.5767594767927494,0.2757364093712972,0.2532698227667878,0.5512129826680566,0.5167015486914934,0.2632080036491169,0.2997505494502219,0.24923121198395062,0.45036323801891603,0.6944113244596741,0.23068685119175564,0.686980548926202,0.19171648763303187,0.7586595694842183,0.7326019056096621,0.5481696633736535,0.38823780112805384,0.2946009657282719,0.3364822332286982,0.6734317168935415,0.597650069854234,0.7739118339131285,0.527763751769963,0.1884531706310182,0.7445199651104553,0.6553748973437393,0.7420488031666839,0.782088662039314,0.6581092420569589,0.6859853029050595,0.1915429569280506,0.5480345909478926,0.10653107914935106,0.25765224892666716,0.4344624435849371,0.7366666169578003,0.29690981075717754,0.70584126253446,0.6887876694876505,0.2091123974334137,0.254284859516292,0.41712478044660606,0.27452126878660527,0.1760881857139815,0.6942776166684457,0.38591074949281384,0.6677652875001354,0.4702171261065375,0.22706780192752876,0.3641173881027579,0.5412951216848325,0.6874477647081393,0.6692110616911273,0.2885782085999137,0.7539607199369077,0.3231930387223272,0.23174246575814594,0.47378273814600474,0.4879336720878322,0.740728601256937,0.84195340215116,0.48198672477397747,0.21788958634710834,0.6237824886188309,0.7366733136332521,0.6656337685510157,0.3325982470533477,0.4730966320798615,0.25569778390164727,0.6526291249283789,0.250456884940082,0.2361509906844636,0.6361723779240295,0.5057630569440794,0.46948549380714594,0.5081264011905126,0.6696212251138403,0.5282490001394882,0.6223871405426094,0.6977411744042568,0.7847972619947166,0.3804545074634578,0.25067846878973093,0.319659321496564,0.8456813136548704,0.20928321074856124,0.8300658348851009,0.307718092727509,0.1356649865800888]                  |\n",
            "+---+------------------------------------------------------------------------------------------------------------------------------+----------+----------------------------------------------------------------------------------------------------------------------------------------------------+--------------------------------------------------------------------------------------------------------------------------+-----+------------------------------------------------------------------------------------------------------------------------------------------------------------------------------------------------------------------------------------------------------------------------------------------------------------------------------------------------------------------------------------------------------------------------------------------------------------------------------------------------------------------------------------------------------------------------------------------------------------------------------------------------------------------------------------------------------------------------------------------------------------------------------------------------------------------------------------------------------------------------------------------------------------------------------------------------------------------------------------------------------------------------------------------------------------------------------------------------------------------------------------------------------------------------------------------------------------------------------------------------------------------------------------------------------------------------------------------------------------------------------------------------------------------------------------------------------------------------------------------------------------------------------------------------------------------------------------------------------------------------------------------------------------------------------------------------------------------------------------------------------------------------------------------------------------------------------------------------------------------------------------------------------------------------------------------------------------------------------------------------------------------------------------------------------------------------------------------------------------------------------------------------------------------------------------------------------------------------------------------------------------------------------------+---------------------------------------------------------------------------------------------------------------------------------------------------------------------------------------------------------------------------------------------------------------------------------------------------------------------------------------------------------------------------------------------------------------------------------------------------------------------------------------------------------------------------------------------------------------------------------------------------------------------------------------------------------------------------------------------------------------------------------------------------------------------------------------------------------------------------------------------------------------------------------------------------------------------------------------------------------------------------------------------------------------------------------------------------------------------------------------------------------------------------------------------------------------------------------------------------------------------------------------------------------------------------------------------------------------------------------------------------------------------------------------------------------------------------------------------------------------------------------------------------------------------------------------------------------------------------------------------------------------------------------------------------------------------------------------------------------------------------------------------------------------------------------------------------------------------------------------------------------------------------------------------------------------------------------------------------------------------------------------------------------+\n",
            "only showing top 5 rows\n",
            "\n"
          ],
          "name": "stdout"
        }
      ]
    },
    {
      "cell_type": "code",
      "metadata": {
        "colab": {
          "base_uri": "https://localhost:8080/"
        },
        "id": "EUAImHj9etMW",
        "outputId": "88065d5d-04ae-4769-cc98-7214ddafdbf7"
      },
      "source": [
        "W2VfeaturizedData = scaled_data.select('state', 'blurb', 'label', 'scaledFeatures')\n",
        "W2VfeaturizedData = W2VfeaturizedData.withColumnRenamed('scaledFeatures','features')\n",
        "W2VfeaturizedData.name = 'W2VfeaturizedData' # We will need this to print later\n",
        "W2VfeaturizedData.show(5,False)"
      ],
      "execution_count": null,
      "outputs": [
        {
          "output_type": "stream",
          "text": [
            "+----------+------------------------------------------------------------------------------------------------------------------------------+-----+---------------------------------------------------------------------------------------------------------------------------------------------------------------------------------------------------------------------------------------------------------------------------------------------------------------------------------------------------------------------------------------------------------------------------------------------------------------------------------------------------------------------------------------------------------------------------------------------------------------------------------------------------------------------------------------------------------------------------------------------------------------------------------------------------------------------------------------------------------------------------------------------------------------------------------------------------------------------------------------------------------------------------------------------------------------------------------------------------------------------------------------------------------------------------------------------------------------------------------------------------------------------------------------------------------------------------------------------------------------------------------------------------------------------------------------------------------------------------------------------------------------------------------------------------------------------------------------------------------------------------------------------------------------------------------------------------------------------------------------------------------------------------------------------------------------------------------------------------------------------------------------------------------------------------------------------------------------------------------------------------------+\n",
            "|state     |blurb                                                                                                                         |label|features                                                                                                                                                                                                                                                                                                                                                                                                                                                                                                                                                                                                                                                                                                                                                                                                                                                                                                                                                                                                                                                                                                                                                                                                                                                                                                                                                                                                                                                                                                                                                                                                                                                                                                                                                                                                                                                                                                                                                                                                 |\n",
            "+----------+------------------------------------------------------------------------------------------------------------------------------+-----+---------------------------------------------------------------------------------------------------------------------------------------------------------------------------------------------------------------------------------------------------------------------------------------------------------------------------------------------------------------------------------------------------------------------------------------------------------------------------------------------------------------------------------------------------------------------------------------------------------------------------------------------------------------------------------------------------------------------------------------------------------------------------------------------------------------------------------------------------------------------------------------------------------------------------------------------------------------------------------------------------------------------------------------------------------------------------------------------------------------------------------------------------------------------------------------------------------------------------------------------------------------------------------------------------------------------------------------------------------------------------------------------------------------------------------------------------------------------------------------------------------------------------------------------------------------------------------------------------------------------------------------------------------------------------------------------------------------------------------------------------------------------------------------------------------------------------------------------------------------------------------------------------------------------------------------------------------------------------------------------------------+\n",
            "|failed    |using their own character users go on educational quests around a virtual world leveling up subjectoriented skills ie physics |0.0  |[0.7438418742186258,0.42627712383595845,0.3353654038424129,0.3226943111679257,0.5057487719715852,0.7331671845398441,0.4873207709917114,0.33651420754513117,0.4032789642825502,0.31205096534516036,0.5373833854850806,0.6159750904207735,0.47857531256331604,0.364458735197717,0.48918300105314033,0.6325761974969899,0.38479066704138887,0.39138906567259657,0.40520488603809357,0.584648811618392,0.6190775197621559,0.3211588961261921,0.7073152931027197,0.38598459097540216,0.6020410116917168,0.6605200599942275,0.5115268305305236,0.36923426728569875,0.4356041917516324,0.527912416464188,0.4352031462891004,0.6851443558394311,0.6763574465100655,0.4611961838313751,0.3089770004628355,0.5729369156433051,0.3366250619449842,0.30338795467823915,0.5710733839515717,0.6087154129452024,0.7097070098766074,0.3888208119526628,0.4724147310639792,0.24094373447468523,0.24022514259735298,0.6046424991157598,0.605390197385628,0.4705636945166715,0.5166710854021038,0.6381794256530489,0.54384002302048,0.45259025300489236,0.25931938682872735,0.38172578054694256,0.49864685546897053,0.641640118091657,0.3844970826425089,0.5850028187334552,0.6479814258982199,0.3942896989440458,0.5614753443982357,0.4426734987465242,0.5749524685154034,0.429782164582934,0.29211004230135096,0.5982181123938267,0.29069830432994725,0.362224143017815,0.38855895464371853,0.4982619225810841,0.7530236925028672,0.6901657689215275,0.6645666116223627,0.33817202443519806,0.48526750866300444,0.12003786024741453,0.48826856991530815,0.41147364916257023,0.5328829126465959,0.477645878482743,0.6117172742680617,0.407543306741925,0.3957685176223553,0.6111116413792265,0.707673937982858,0.6012697503890718,0.5310112038611471,0.5177952454920005,0.7348539671649651,0.6190590190999857,0.5544804725832801,0.6258741408832067,0.3778056528675747,0.36040245250125696,0.5261915044831286,0.5575032018208383,0.5029067463100154,0.6285369718225144,0.25542128002335446,0.4563964035748904]             |\n",
            "|successful|microfly is a quadcopter packed with wifi sensors and processors for ultimate stability and fits in the palm of your hand     |1.0  |[0.8308511134176813,0.440299547270017,0.19603193927015522,0.19213714539632135,0.38268005740261024,0.8256024091567181,0.23340259296502436,0.27295155829092843,0.551428579693235,0.2664751997987626,0.42830160898841496,0.5005431458363827,0.22683379843468274,0.23073410403412056,0.6189102750967455,0.2757402250034285,0.2831694398237909,0.24073854611510515,0.21227724319114374,0.5371197840405689,0.7094023018416961,0.26013514554521733,0.49124960978872106,0.5733764787801202,0.8182274093722925,0.8265550944646661,0.7559750401897716,0.6448891465772483,0.22347770764663938,0.5718371233568224,0.33700724868264953,0.48843731935097473,0.7259357907000611,0.500840340903468,0.24303510555099123,0.6934383256719083,0.34396852213665124,0.7382447596762594,0.30675389619850074,0.657387488696236,0.6809703923643912,0.35874450277893927,0.5974500661760493,0.4880993850859592,0.297185408682205,0.5869766453953474,0.7721564226566147,0.3702969659307049,0.6632224564048878,0.6283014345923459,0.3753060148174984,0.1989732023944577,0.35090698590250946,0.1961838277451496,0.3314909463344312,0.547601182377561,0.34837933388159387,0.602809100999079,0.5531514445093253,0.24034531399430178,0.20778993375911933,0.5891717287656107,0.7517809714276259,0.5441158621306242,0.3650503555555473,0.8122466098614178,0.21122161161383068,0.2901404225076375,0.401030330502029,0.40078534769244006,0.6368188623858544,0.8635547351085201,0.5039295291626432,0.47808026413775945,0.37402347885614806,0.5885373463748294,0.8210943109649883,0.30727160239700024,0.3906980368308175,0.24335861927589109,0.6822249330272975,0.23162457755723903,0.24233720566492664,0.7539909507939317,0.4664614798903162,0.4655852202485316,0.616689427936613,0.5597040073698047,0.44984612465798945,0.6237995737527711,0.6039454835983677,0.8376427621311865,0.44283734568805155,0.19362379644223118,0.15093692562166114,0.6270591720876458,0.3465019739251876,0.7018812476359295,0.16817107678830875,0.32785072670236426]|\n",
            "|failed    |a small indie press run as a collective for authors who want to selfpublish and a sexy smart hilarious novel                  |0.0  |[0.7157985615168361,0.5653109602973967,0.22461552383903796,0.2574759350690466,0.5438698545948668,0.7945475250210797,0.5250569585342981,0.3086708041219333,0.4985347636014859,0.5090663594278829,0.44894156278083497,0.6439692895438377,0.36886138220695036,0.2204748269012246,0.8019520684916164,0.448714693085581,0.2639965164004918,0.4206983005484552,0.31692698065202557,0.5868759751314092,0.6591970214543438,0.23459111318861958,0.6818090159516955,0.23238867281885384,0.6690343233394918,0.7597852480005999,0.5422784748826535,0.43436349334153135,0.45913463447510844,0.18840005263896425,0.5835739665441367,0.5361163506407934,0.6637489088277047,0.5898360829975992,0.1951269667372104,0.6288521986625961,0.6762295037345699,0.6160184806947968,0.7703146435877726,0.6918735822103649,0.5667637048185904,0.5030435452096373,0.6050928848039104,0.44527502300799443,0.19211418085492832,0.7384143275192068,0.7461113230415564,0.48563228785683243,0.7708500500293252,0.44581777193903127,0.36631415047445937,0.3724406614873153,0.5366264032587982,0.2306426892249326,0.42079602132599236,0.6869561782098934,0.2310365525487617,0.5817524987199663,0.548311085451803,0.31416675604677413,0.5877534826626511,0.6064422660717159,0.5788478499867623,0.5444331248952362,0.4427264870742706,0.47999370926680474,0.44005455487888595,0.4018326083755093,0.38295444613710755,0.6053026067554518,0.897854852307075,0.811308207095465,0.5980843802941468,0.46853471309534284,0.3968798979298578,0.14463389223339068,0.4599477974603066,0.2510563503765771,0.2964785159365375,0.43462726015120323,0.815699827697091,0.31566658399915914,0.13494178076155194,0.7053511690823077,0.5382048438422622,0.6559141601798223,0.7638841535380265,0.645964658160692,0.7231074572895989,0.566225045957163,0.7779872474148807,0.8236273368702789,0.393522501538465,0.2931029390768822,0.4475097407322463,0.7497178043334175,0.3767196665136063,0.8083099131327272,0.3086336451814937,0.3583109144651462]            |\n",
            "|failed    |zylor is a new baby cosplayer back this kickstarter to help fund new cosplay photoshoots to share his cuteness with the world |0.0  |[0.4269541456476085,0.5455042855084863,0.6405017778395362,0.52276827446908,0.47930972671402083,0.45512564791886584,0.5822227895278108,0.687971707095807,0.5111215352773107,0.8074570474925477,0.7108914154149747,0.7296580656913211,0.6428047451674104,0.6161203535613062,0.41457356858515293,0.8299848677559897,0.6237180296572624,0.6794932209326245,0.5931303849434566,0.8050566738584958,0.31609512403966494,0.5292453542124848,0.4757412751527845,0.35983974790126527,0.38305827654926866,0.46426393658659115,0.3456230116581278,0.8029795185255724,0.5103855078925953,0.7132018858210764,0.49387264511889484,0.6279312741179568,0.4182530749376846,0.3231870837168779,0.5871558336907906,0.38666650200773073,0.7496425331346874,0.5117353636550698,0.807118747580193,0.4390218072094001,0.28246722317015666,0.6864518651010956,0.09730233803759643,0.5371751671198112,0.6245920593058795,0.24657951782920295,0.3579375315388478,0.5264148780986874,0.38622225803616206,0.5066490080072532,0.6870835011670473,0.6436982340572893,0.27908383176358975,0.6060835783334534,0.7548998946620763,0.4881658054445109,0.5816932004210866,0.23260568567913964,0.6133741998383968,0.615466595510562,0.5109167293437025,0.34915896872287455,0.5698992820948758,0.15755941122309078,0.7604233246958777,0.33101653944216664,0.570628976479681,0.6222313902158807,0.7127152466718331,0.6622213530521428,0.8399783897539772,0.4427833666250938,0.42063855114628673,0.21988647956690216,0.45233119413595785,0.43676689669622615,0.40019899506487794,0.667727671043146,0.5983244929405045,0.7734814553910154,0.42425365632506185,0.584766495688863,0.5917604817608488,0.2663747831469064,0.38740647887178375,0.5321139276769533,0.8113323713797761,0.28295531858006573,0.25820506930660253,0.1958484026952089,0.22056081710318073,0.42204438159466845,0.6442524620646407,0.6706924654368127,0.5478367261352917,0.4144525283421698,0.7676702102633791,0.4889360870575454,0.6198999277538642,0.5960377155387975]       |\n",
            "|failed    |hatoful boyfriend meet skeletons a comedy dating sim that puts you into a high school full of skeletons rattle some bones     |0.0  |[0.6624099109358496,0.4143096031097696,0.20280351763187562,0.23586370574588694,0.409610412401854,0.828443984670152,0.5152860169497917,0.28224965094175253,0.44481735844661774,0.15326964663747564,0.3472463430829643,0.5767594767927494,0.2757364093712972,0.2532698227667878,0.5512129826680566,0.5167015486914934,0.2632080036491169,0.2997505494502219,0.24923121198395062,0.45036323801891603,0.6944113244596741,0.23068685119175564,0.686980548926202,0.19171648763303187,0.7586595694842183,0.7326019056096621,0.5481696633736535,0.38823780112805384,0.2946009657282719,0.3364822332286982,0.6734317168935415,0.597650069854234,0.7739118339131285,0.527763751769963,0.1884531706310182,0.7445199651104553,0.6553748973437393,0.7420488031666839,0.782088662039314,0.6581092420569589,0.6859853029050595,0.1915429569280506,0.5480345909478926,0.10653107914935106,0.25765224892666716,0.4344624435849371,0.7366666169578003,0.29690981075717754,0.70584126253446,0.6887876694876505,0.2091123974334137,0.254284859516292,0.41712478044660606,0.27452126878660527,0.1760881857139815,0.6942776166684457,0.38591074949281384,0.6677652875001354,0.4702171261065375,0.22706780192752876,0.3641173881027579,0.5412951216848325,0.6874477647081393,0.6692110616911273,0.2885782085999137,0.7539607199369077,0.3231930387223272,0.23174246575814594,0.47378273814600474,0.4879336720878322,0.740728601256937,0.84195340215116,0.48198672477397747,0.21788958634710834,0.6237824886188309,0.7366733136332521,0.6656337685510157,0.3325982470533477,0.4730966320798615,0.25569778390164727,0.6526291249283789,0.250456884940082,0.2361509906844636,0.6361723779240295,0.5057630569440794,0.46948549380714594,0.5081264011905126,0.6696212251138403,0.5282490001394882,0.6223871405426094,0.6977411744042568,0.7847972619947166,0.3804545074634578,0.25067846878973093,0.319659321496564,0.8456813136548704,0.20928321074856124,0.8300658348851009,0.307718092727509,0.1356649865800888]                  |\n",
            "+----------+------------------------------------------------------------------------------------------------------------------------------+-----+---------------------------------------------------------------------------------------------------------------------------------------------------------------------------------------------------------------------------------------------------------------------------------------------------------------------------------------------------------------------------------------------------------------------------------------------------------------------------------------------------------------------------------------------------------------------------------------------------------------------------------------------------------------------------------------------------------------------------------------------------------------------------------------------------------------------------------------------------------------------------------------------------------------------------------------------------------------------------------------------------------------------------------------------------------------------------------------------------------------------------------------------------------------------------------------------------------------------------------------------------------------------------------------------------------------------------------------------------------------------------------------------------------------------------------------------------------------------------------------------------------------------------------------------------------------------------------------------------------------------------------------------------------------------------------------------------------------------------------------------------------------------------------------------------------------------------------------------------------------------------------------------------------------------------------------------------------------------------------------------------------+\n",
            "only showing top 5 rows\n",
            "\n"
          ],
          "name": "stdout"
        }
      ]
    },
    {
      "cell_type": "markdown",
      "metadata": {
        "id": "m_S4CGCUj1FL"
      },
      "source": [
        "# Modeling"
      ]
    },
    {
      "cell_type": "code",
      "metadata": {
        "colab": {
          "base_uri": "https://localhost:8080/"
        },
        "id": "7glV5AEWetOa",
        "outputId": "ee27653f-c86e-4602-90da-d4e96d61c551"
      },
      "source": [
        "final_data = W2VfeaturizedData.select('label', 'features', 'blurb')\n",
        "final_data.show(5,False)"
      ],
      "execution_count": null,
      "outputs": [
        {
          "output_type": "stream",
          "text": [
            "+-----+---------------------------------------------------------------------------------------------------------------------------------------------------------------------------------------------------------------------------------------------------------------------------------------------------------------------------------------------------------------------------------------------------------------------------------------------------------------------------------------------------------------------------------------------------------------------------------------------------------------------------------------------------------------------------------------------------------------------------------------------------------------------------------------------------------------------------------------------------------------------------------------------------------------------------------------------------------------------------------------------------------------------------------------------------------------------------------------------------------------------------------------------------------------------------------------------------------------------------------------------------------------------------------------------------------------------------------------------------------------------------------------------------------------------------------------------------------------------------------------------------------------------------------------------------------------------------------------------------------------------------------------------------------------------------------------------------------------------------------------------------------------------------------------------------------------------------------------------------------------------------------------------------------------------------------------------------------------------------------------------------------+------------------------------------------------------------------------------------------------------------------------------+\n",
            "|label|features                                                                                                                                                                                                                                                                                                                                                                                                                                                                                                                                                                                                                                                                                                                                                                                                                                                                                                                                                                                                                                                                                                                                                                                                                                                                                                                                                                                                                                                                                                                                                                                                                                                                                                                                                                                                                                                                                                                                                                                                 |blurb                                                                                                                         |\n",
            "+-----+---------------------------------------------------------------------------------------------------------------------------------------------------------------------------------------------------------------------------------------------------------------------------------------------------------------------------------------------------------------------------------------------------------------------------------------------------------------------------------------------------------------------------------------------------------------------------------------------------------------------------------------------------------------------------------------------------------------------------------------------------------------------------------------------------------------------------------------------------------------------------------------------------------------------------------------------------------------------------------------------------------------------------------------------------------------------------------------------------------------------------------------------------------------------------------------------------------------------------------------------------------------------------------------------------------------------------------------------------------------------------------------------------------------------------------------------------------------------------------------------------------------------------------------------------------------------------------------------------------------------------------------------------------------------------------------------------------------------------------------------------------------------------------------------------------------------------------------------------------------------------------------------------------------------------------------------------------------------------------------------------------+------------------------------------------------------------------------------------------------------------------------------+\n",
            "|0.0  |[0.7438418742186258,0.42627712383595845,0.3353654038424129,0.3226943111679257,0.5057487719715852,0.7331671845398441,0.4873207709917114,0.33651420754513117,0.4032789642825502,0.31205096534516036,0.5373833854850806,0.6159750904207735,0.47857531256331604,0.364458735197717,0.48918300105314033,0.6325761974969899,0.38479066704138887,0.39138906567259657,0.40520488603809357,0.584648811618392,0.6190775197621559,0.3211588961261921,0.7073152931027197,0.38598459097540216,0.6020410116917168,0.6605200599942275,0.5115268305305236,0.36923426728569875,0.4356041917516324,0.527912416464188,0.4352031462891004,0.6851443558394311,0.6763574465100655,0.4611961838313751,0.3089770004628355,0.5729369156433051,0.3366250619449842,0.30338795467823915,0.5710733839515717,0.6087154129452024,0.7097070098766074,0.3888208119526628,0.4724147310639792,0.24094373447468523,0.24022514259735298,0.6046424991157598,0.605390197385628,0.4705636945166715,0.5166710854021038,0.6381794256530489,0.54384002302048,0.45259025300489236,0.25931938682872735,0.38172578054694256,0.49864685546897053,0.641640118091657,0.3844970826425089,0.5850028187334552,0.6479814258982199,0.3942896989440458,0.5614753443982357,0.4426734987465242,0.5749524685154034,0.429782164582934,0.29211004230135096,0.5982181123938267,0.29069830432994725,0.362224143017815,0.38855895464371853,0.4982619225810841,0.7530236925028672,0.6901657689215275,0.6645666116223627,0.33817202443519806,0.48526750866300444,0.12003786024741453,0.48826856991530815,0.41147364916257023,0.5328829126465959,0.477645878482743,0.6117172742680617,0.407543306741925,0.3957685176223553,0.6111116413792265,0.707673937982858,0.6012697503890718,0.5310112038611471,0.5177952454920005,0.7348539671649651,0.6190590190999857,0.5544804725832801,0.6258741408832067,0.3778056528675747,0.36040245250125696,0.5261915044831286,0.5575032018208383,0.5029067463100154,0.6285369718225144,0.25542128002335446,0.4563964035748904]             |using their own character users go on educational quests around a virtual world leveling up subjectoriented skills ie physics |\n",
            "|1.0  |[0.8308511134176813,0.440299547270017,0.19603193927015522,0.19213714539632135,0.38268005740261024,0.8256024091567181,0.23340259296502436,0.27295155829092843,0.551428579693235,0.2664751997987626,0.42830160898841496,0.5005431458363827,0.22683379843468274,0.23073410403412056,0.6189102750967455,0.2757402250034285,0.2831694398237909,0.24073854611510515,0.21227724319114374,0.5371197840405689,0.7094023018416961,0.26013514554521733,0.49124960978872106,0.5733764787801202,0.8182274093722925,0.8265550944646661,0.7559750401897716,0.6448891465772483,0.22347770764663938,0.5718371233568224,0.33700724868264953,0.48843731935097473,0.7259357907000611,0.500840340903468,0.24303510555099123,0.6934383256719083,0.34396852213665124,0.7382447596762594,0.30675389619850074,0.657387488696236,0.6809703923643912,0.35874450277893927,0.5974500661760493,0.4880993850859592,0.297185408682205,0.5869766453953474,0.7721564226566147,0.3702969659307049,0.6632224564048878,0.6283014345923459,0.3753060148174984,0.1989732023944577,0.35090698590250946,0.1961838277451496,0.3314909463344312,0.547601182377561,0.34837933388159387,0.602809100999079,0.5531514445093253,0.24034531399430178,0.20778993375911933,0.5891717287656107,0.7517809714276259,0.5441158621306242,0.3650503555555473,0.8122466098614178,0.21122161161383068,0.2901404225076375,0.401030330502029,0.40078534769244006,0.6368188623858544,0.8635547351085201,0.5039295291626432,0.47808026413775945,0.37402347885614806,0.5885373463748294,0.8210943109649883,0.30727160239700024,0.3906980368308175,0.24335861927589109,0.6822249330272975,0.23162457755723903,0.24233720566492664,0.7539909507939317,0.4664614798903162,0.4655852202485316,0.616689427936613,0.5597040073698047,0.44984612465798945,0.6237995737527711,0.6039454835983677,0.8376427621311865,0.44283734568805155,0.19362379644223118,0.15093692562166114,0.6270591720876458,0.3465019739251876,0.7018812476359295,0.16817107678830875,0.32785072670236426]|microfly is a quadcopter packed with wifi sensors and processors for ultimate stability and fits in the palm of your hand     |\n",
            "|0.0  |[0.7157985615168361,0.5653109602973967,0.22461552383903796,0.2574759350690466,0.5438698545948668,0.7945475250210797,0.5250569585342981,0.3086708041219333,0.4985347636014859,0.5090663594278829,0.44894156278083497,0.6439692895438377,0.36886138220695036,0.2204748269012246,0.8019520684916164,0.448714693085581,0.2639965164004918,0.4206983005484552,0.31692698065202557,0.5868759751314092,0.6591970214543438,0.23459111318861958,0.6818090159516955,0.23238867281885384,0.6690343233394918,0.7597852480005999,0.5422784748826535,0.43436349334153135,0.45913463447510844,0.18840005263896425,0.5835739665441367,0.5361163506407934,0.6637489088277047,0.5898360829975992,0.1951269667372104,0.6288521986625961,0.6762295037345699,0.6160184806947968,0.7703146435877726,0.6918735822103649,0.5667637048185904,0.5030435452096373,0.6050928848039104,0.44527502300799443,0.19211418085492832,0.7384143275192068,0.7461113230415564,0.48563228785683243,0.7708500500293252,0.44581777193903127,0.36631415047445937,0.3724406614873153,0.5366264032587982,0.2306426892249326,0.42079602132599236,0.6869561782098934,0.2310365525487617,0.5817524987199663,0.548311085451803,0.31416675604677413,0.5877534826626511,0.6064422660717159,0.5788478499867623,0.5444331248952362,0.4427264870742706,0.47999370926680474,0.44005455487888595,0.4018326083755093,0.38295444613710755,0.6053026067554518,0.897854852307075,0.811308207095465,0.5980843802941468,0.46853471309534284,0.3968798979298578,0.14463389223339068,0.4599477974603066,0.2510563503765771,0.2964785159365375,0.43462726015120323,0.815699827697091,0.31566658399915914,0.13494178076155194,0.7053511690823077,0.5382048438422622,0.6559141601798223,0.7638841535380265,0.645964658160692,0.7231074572895989,0.566225045957163,0.7779872474148807,0.8236273368702789,0.393522501538465,0.2931029390768822,0.4475097407322463,0.7497178043334175,0.3767196665136063,0.8083099131327272,0.3086336451814937,0.3583109144651462]            |a small indie press run as a collective for authors who want to selfpublish and a sexy smart hilarious novel                  |\n",
            "|0.0  |[0.4269541456476085,0.5455042855084863,0.6405017778395362,0.52276827446908,0.47930972671402083,0.45512564791886584,0.5822227895278108,0.687971707095807,0.5111215352773107,0.8074570474925477,0.7108914154149747,0.7296580656913211,0.6428047451674104,0.6161203535613062,0.41457356858515293,0.8299848677559897,0.6237180296572624,0.6794932209326245,0.5931303849434566,0.8050566738584958,0.31609512403966494,0.5292453542124848,0.4757412751527845,0.35983974790126527,0.38305827654926866,0.46426393658659115,0.3456230116581278,0.8029795185255724,0.5103855078925953,0.7132018858210764,0.49387264511889484,0.6279312741179568,0.4182530749376846,0.3231870837168779,0.5871558336907906,0.38666650200773073,0.7496425331346874,0.5117353636550698,0.807118747580193,0.4390218072094001,0.28246722317015666,0.6864518651010956,0.09730233803759643,0.5371751671198112,0.6245920593058795,0.24657951782920295,0.3579375315388478,0.5264148780986874,0.38622225803616206,0.5066490080072532,0.6870835011670473,0.6436982340572893,0.27908383176358975,0.6060835783334534,0.7548998946620763,0.4881658054445109,0.5816932004210866,0.23260568567913964,0.6133741998383968,0.615466595510562,0.5109167293437025,0.34915896872287455,0.5698992820948758,0.15755941122309078,0.7604233246958777,0.33101653944216664,0.570628976479681,0.6222313902158807,0.7127152466718331,0.6622213530521428,0.8399783897539772,0.4427833666250938,0.42063855114628673,0.21988647956690216,0.45233119413595785,0.43676689669622615,0.40019899506487794,0.667727671043146,0.5983244929405045,0.7734814553910154,0.42425365632506185,0.584766495688863,0.5917604817608488,0.2663747831469064,0.38740647887178375,0.5321139276769533,0.8113323713797761,0.28295531858006573,0.25820506930660253,0.1958484026952089,0.22056081710318073,0.42204438159466845,0.6442524620646407,0.6706924654368127,0.5478367261352917,0.4144525283421698,0.7676702102633791,0.4889360870575454,0.6198999277538642,0.5960377155387975]       |zylor is a new baby cosplayer back this kickstarter to help fund new cosplay photoshoots to share his cuteness with the world |\n",
            "|0.0  |[0.6624099109358496,0.4143096031097696,0.20280351763187562,0.23586370574588694,0.409610412401854,0.828443984670152,0.5152860169497917,0.28224965094175253,0.44481735844661774,0.15326964663747564,0.3472463430829643,0.5767594767927494,0.2757364093712972,0.2532698227667878,0.5512129826680566,0.5167015486914934,0.2632080036491169,0.2997505494502219,0.24923121198395062,0.45036323801891603,0.6944113244596741,0.23068685119175564,0.686980548926202,0.19171648763303187,0.7586595694842183,0.7326019056096621,0.5481696633736535,0.38823780112805384,0.2946009657282719,0.3364822332286982,0.6734317168935415,0.597650069854234,0.7739118339131285,0.527763751769963,0.1884531706310182,0.7445199651104553,0.6553748973437393,0.7420488031666839,0.782088662039314,0.6581092420569589,0.6859853029050595,0.1915429569280506,0.5480345909478926,0.10653107914935106,0.25765224892666716,0.4344624435849371,0.7366666169578003,0.29690981075717754,0.70584126253446,0.6887876694876505,0.2091123974334137,0.254284859516292,0.41712478044660606,0.27452126878660527,0.1760881857139815,0.6942776166684457,0.38591074949281384,0.6677652875001354,0.4702171261065375,0.22706780192752876,0.3641173881027579,0.5412951216848325,0.6874477647081393,0.6692110616911273,0.2885782085999137,0.7539607199369077,0.3231930387223272,0.23174246575814594,0.47378273814600474,0.4879336720878322,0.740728601256937,0.84195340215116,0.48198672477397747,0.21788958634710834,0.6237824886188309,0.7366733136332521,0.6656337685510157,0.3325982470533477,0.4730966320798615,0.25569778390164727,0.6526291249283789,0.250456884940082,0.2361509906844636,0.6361723779240295,0.5057630569440794,0.46948549380714594,0.5081264011905126,0.6696212251138403,0.5282490001394882,0.6223871405426094,0.6977411744042568,0.7847972619947166,0.3804545074634578,0.25067846878973093,0.319659321496564,0.8456813136548704,0.20928321074856124,0.8300658348851009,0.307718092727509,0.1356649865800888]                  |hatoful boyfriend meet skeletons a comedy dating sim that puts you into a high school full of skeletons rattle some bones     |\n",
            "+-----+---------------------------------------------------------------------------------------------------------------------------------------------------------------------------------------------------------------------------------------------------------------------------------------------------------------------------------------------------------------------------------------------------------------------------------------------------------------------------------------------------------------------------------------------------------------------------------------------------------------------------------------------------------------------------------------------------------------------------------------------------------------------------------------------------------------------------------------------------------------------------------------------------------------------------------------------------------------------------------------------------------------------------------------------------------------------------------------------------------------------------------------------------------------------------------------------------------------------------------------------------------------------------------------------------------------------------------------------------------------------------------------------------------------------------------------------------------------------------------------------------------------------------------------------------------------------------------------------------------------------------------------------------------------------------------------------------------------------------------------------------------------------------------------------------------------------------------------------------------------------------------------------------------------------------------------------------------------------------------------------------------+------------------------------------------------------------------------------------------------------------------------------+\n",
            "only showing top 5 rows\n",
            "\n"
          ],
          "name": "stdout"
        }
      ]
    },
    {
      "cell_type": "code",
      "metadata": {
        "id": "Y4AQfzvUmaRb"
      },
      "source": [
        "train, test = final_data.randomSplit([0.7,0.3])"
      ],
      "execution_count": null,
      "outputs": []
    },
    {
      "cell_type": "code",
      "metadata": {
        "id": "o6QWj0OBmo1O"
      },
      "source": [
        "# Set up our evaluation objects\n",
        "Bin_evaluator = BinaryClassificationEvaluator(rawPredictionCol='prediction') #labelCol='label'\n",
        "# Bin_evaluator = BinaryClassificationEvaluator() #labelCol='label'\n",
        "MC_evaluator = MulticlassClassificationEvaluator(metricName=\"accuracy\") # redictionCol=\"prediction\","
      ],
      "execution_count": null,
      "outputs": []
    },
    {
      "cell_type": "code",
      "metadata": {
        "colab": {
          "base_uri": "https://localhost:8080/"
        },
        "id": "3I6ze1cKetQe",
        "outputId": "5a0b70ee-c254-466d-ec65-bfd267a4aa68"
      },
      "source": [
        "# This is the most simplistic approach which does not use cross validation\n",
        "# Let's go ahead and train a Logistic Regression Algorithm\n",
        "classifier = LogisticRegression()\n",
        "fitModel = classifier.fit(train)\n",
        "\n",
        "# Evaluation method for binary classification problem\n",
        "predictionAndLabels = fitModel.transform(test)\n",
        "auc = Bin_evaluator.evaluate(predictionAndLabels) # auc = area under roc curve\n",
        "print(\"AUC: \", auc) \n",
        "\n",
        "# Evaluation for a multiclass classification problem\n",
        "predictions = fitModel.transform(test)\n",
        "accuracy = (MC_evaluator.evaluate(predictions))*100\n",
        "print(\"Accuracy: {0:.2f}\".format(accuracy),\"%\") #     print(\"Test Error = %g \" % (1.0 - accuracy))\n",
        "print(\" \")"
      ],
      "execution_count": null,
      "outputs": [
        {
          "output_type": "stream",
          "text": [
            "AUC:  0.6278766825879288\n",
            "Accuracy: 67.13 %\n",
            " \n"
          ],
          "name": "stdout"
        }
      ]
    },
    {
      "cell_type": "code",
      "metadata": {
        "id": "XSwMqXavZBo7"
      },
      "source": [
        ""
      ],
      "execution_count": null,
      "outputs": []
    }
  ]
}