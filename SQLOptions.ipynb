{
  "nbformat": 4,
  "nbformat_minor": 0,
  "metadata": {
    "colab": {
      "name": "SQLOptions.ipynb",
      "provenance": [],
      "authorship_tag": "ABX9TyM9bwFm3aNXrf5frMPayuYj",
      "include_colab_link": true
    },
    "kernelspec": {
      "name": "python3",
      "display_name": "Python 3"
    },
    "language_info": {
      "name": "python"
    }
  },
  "cells": [
    {
      "cell_type": "markdown",
      "metadata": {
        "id": "view-in-github",
        "colab_type": "text"
      },
      "source": [
        "<a href=\"https://colab.research.google.com/github/harenlin/PySpark-Learning/blob/main/SQLOptions.ipynb\" target=\"_parent\"><img src=\"https://colab.research.google.com/assets/colab-badge.svg\" alt=\"Open In Colab\"/></a>"
      ]
    },
    {
      "cell_type": "code",
      "metadata": {
        "colab": {
          "base_uri": "https://localhost:8080/",
          "height": 267
        },
        "id": "oGYES8r2m_Wt",
        "outputId": "a50b97a8-13dc-4f41-8452-4d7018766101"
      },
      "source": [
        "!pip install pyspark\n",
        "import pyspark\n",
        "from pyspark.sql import SparkSession\n",
        "spark = SparkSession.builder.appName('SparkSQL').getOrCreate()\n",
        "cores = spark._jsc.sc().getExecutorMemoryStatus().keySet().size()\n",
        "print(\"You are working with\", cores, \"core(s)\")\n",
        "spark"
      ],
      "execution_count": 8,
      "outputs": [
        {
          "output_type": "stream",
          "text": [
            "Requirement already satisfied: pyspark in /usr/local/lib/python3.7/dist-packages (3.1.2)\n",
            "Requirement already satisfied: py4j==0.10.9 in /usr/local/lib/python3.7/dist-packages (from pyspark) (0.10.9)\n",
            "You are working with 1 core(s)\n"
          ],
          "name": "stdout"
        },
        {
          "output_type": "execute_result",
          "data": {
            "text/html": [
              "\n",
              "            <div>\n",
              "                <p><b>SparkSession - in-memory</b></p>\n",
              "                \n",
              "        <div>\n",
              "            <p><b>SparkContext</b></p>\n",
              "\n",
              "            <p><a href=\"http://8826f9627342:4040\">Spark UI</a></p>\n",
              "\n",
              "            <dl>\n",
              "              <dt>Version</dt>\n",
              "                <dd><code>v3.1.2</code></dd>\n",
              "              <dt>Master</dt>\n",
              "                <dd><code>local[*]</code></dd>\n",
              "              <dt>AppName</dt>\n",
              "                <dd><code>SFDataframe</code></dd>\n",
              "            </dl>\n",
              "        </div>\n",
              "        \n",
              "            </div>\n",
              "        "
            ],
            "text/plain": [
              "<pyspark.sql.session.SparkSession at 0x7f68d27395d0>"
            ]
          },
          "metadata": {
            "tags": []
          },
          "execution_count": 8
        }
      ]
    },
    {
      "cell_type": "code",
      "metadata": {
        "colab": {
          "base_uri": "https://localhost:8080/"
        },
        "id": "MpMRHlginCwq",
        "outputId": "f7cf4c08-c367-4213-d822-8b53e7499a3f"
      },
      "source": [
        "from google.colab import drive\n",
        "drive.mount('/content/drive')\n",
        "\n",
        "path = '/content/drive/My Drive/PySpark/Datasets/'\n",
        "crime = spark.read.csv(path + 'rec-crime-pfa.csv', inferSchema=True, header=True)"
      ],
      "execution_count": 9,
      "outputs": [
        {
          "output_type": "stream",
          "text": [
            "Drive already mounted at /content/drive; to attempt to forcibly remount, call drive.mount(\"/content/drive\", force_remount=True).\n"
          ],
          "name": "stdout"
        }
      ]
    },
    {
      "cell_type": "code",
      "metadata": {
        "colab": {
          "base_uri": "https://localhost:8080/"
        },
        "id": "Wc96pBHCnQyN",
        "outputId": "9ab9ce9d-68dc-40f2-b0d6-a7baaceabd41"
      },
      "source": [
        "crime.show(5)"
      ],
      "execution_count": 10,
      "outputs": [
        {
          "output_type": "stream",
          "text": [
            "+----------------+-----------------+----------+--------------------+-------------------------------------+\n",
            "|12 months ending|              PFA|    Region|             Offence|Rolling year total number of offences|\n",
            "+----------------+-----------------+----------+--------------------+-------------------------------------+\n",
            "|      31/03/2003|Avon and Somerset|South West|All other theft o...|                                25959|\n",
            "|      31/03/2003|Avon and Somerset|South West|       Bicycle theft|                                 3090|\n",
            "|      31/03/2003|Avon and Somerset|South West|Criminal damage a...|                                26202|\n",
            "|      31/03/2003|Avon and Somerset|South West|Death or serious ...|                                    2|\n",
            "|      31/03/2003|Avon and Somerset|South West|   Domestic burglary|                                14561|\n",
            "+----------------+-----------------+----------+--------------------+-------------------------------------+\n",
            "only showing top 5 rows\n",
            "\n"
          ],
          "name": "stdout"
        }
      ]
    },
    {
      "cell_type": "code",
      "metadata": {
        "colab": {
          "base_uri": "https://localhost:8080/"
        },
        "id": "S79NbY7LnXAv",
        "outputId": "91c568f3-dab4-4659-e79e-449b41504e34"
      },
      "source": [
        "print(crime.printSchema())"
      ],
      "execution_count": 11,
      "outputs": [
        {
          "output_type": "stream",
          "text": [
            "root\n",
            " |-- 12 months ending: string (nullable = true)\n",
            " |-- PFA: string (nullable = true)\n",
            " |-- Region: string (nullable = true)\n",
            " |-- Offence: string (nullable = true)\n",
            " |-- Rolling year total number of offences: integer (nullable = true)\n",
            "\n",
            "None\n"
          ],
          "name": "stdout"
        }
      ]
    },
    {
      "cell_type": "code",
      "metadata": {
        "colab": {
          "base_uri": "https://localhost:8080/"
        },
        "id": "olJMLSw-E_2l",
        "outputId": "b6a0cc73-a686-4cec-f70d-fbd459b8fac8"
      },
      "source": [
        "# So, in order for us to perform SQL calls off of this dataframe, \n",
        "# we will need to rename any variables that have spaces in them. \n",
        "# We will not be using the first variable so I'll leave that one as is, \n",
        "# but we will be using the last variable, so I will go ahead and change that to Count so we can work with it. \n",
        "df = crime.withColumnRenamed('Rolling year total number of offences','Count') #.withColumn(\"12 months ending\", crime[\"12 months ending\"].cast(DateType())).\n",
        "print(df.printSchema())"
      ],
      "execution_count": 12,
      "outputs": [
        {
          "output_type": "stream",
          "text": [
            "root\n",
            " |-- 12 months ending: string (nullable = true)\n",
            " |-- PFA: string (nullable = true)\n",
            " |-- Region: string (nullable = true)\n",
            " |-- Offence: string (nullable = true)\n",
            " |-- Count: integer (nullable = true)\n",
            "\n",
            "None\n"
          ],
          "name": "stdout"
        }
      ]
    },
    {
      "cell_type": "markdown",
      "metadata": {
        "id": "8HVOqOTyKTTq"
      },
      "source": [
        "# Spark SQL"
      ]
    },
    {
      "cell_type": "code",
      "metadata": {
        "id": "XMfGNsvUFAQg"
      },
      "source": [
        "# Create a temporary view of the dataframe\n",
        "df.createOrReplaceTempView(\"tempview\")"
      ],
      "execution_count": 13,
      "outputs": []
    },
    {
      "cell_type": "code",
      "metadata": {
        "colab": {
          "base_uri": "https://localhost:8080/",
          "height": 204
        },
        "id": "isXnXmzIFASe",
        "outputId": "e20c7010-9eac-424b-d881-1935bada0ab3"
      },
      "source": [
        "# Then Query the temp view\n",
        "spark.sql(\"SELECT * FROM tempview WHERE Count > 1000\").limit(5).toPandas()"
      ],
      "execution_count": 14,
      "outputs": [
        {
          "output_type": "execute_result",
          "data": {
            "text/html": [
              "<div>\n",
              "<style scoped>\n",
              "    .dataframe tbody tr th:only-of-type {\n",
              "        vertical-align: middle;\n",
              "    }\n",
              "\n",
              "    .dataframe tbody tr th {\n",
              "        vertical-align: top;\n",
              "    }\n",
              "\n",
              "    .dataframe thead th {\n",
              "        text-align: right;\n",
              "    }\n",
              "</style>\n",
              "<table border=\"1\" class=\"dataframe\">\n",
              "  <thead>\n",
              "    <tr style=\"text-align: right;\">\n",
              "      <th></th>\n",
              "      <th>12 months ending</th>\n",
              "      <th>PFA</th>\n",
              "      <th>Region</th>\n",
              "      <th>Offence</th>\n",
              "      <th>Count</th>\n",
              "    </tr>\n",
              "  </thead>\n",
              "  <tbody>\n",
              "    <tr>\n",
              "      <th>0</th>\n",
              "      <td>31/03/2003</td>\n",
              "      <td>Avon and Somerset</td>\n",
              "      <td>South West</td>\n",
              "      <td>All other theft offences</td>\n",
              "      <td>25959</td>\n",
              "    </tr>\n",
              "    <tr>\n",
              "      <th>1</th>\n",
              "      <td>31/03/2003</td>\n",
              "      <td>Avon and Somerset</td>\n",
              "      <td>South West</td>\n",
              "      <td>Bicycle theft</td>\n",
              "      <td>3090</td>\n",
              "    </tr>\n",
              "    <tr>\n",
              "      <th>2</th>\n",
              "      <td>31/03/2003</td>\n",
              "      <td>Avon and Somerset</td>\n",
              "      <td>South West</td>\n",
              "      <td>Criminal damage and arson</td>\n",
              "      <td>26202</td>\n",
              "    </tr>\n",
              "    <tr>\n",
              "      <th>3</th>\n",
              "      <td>31/03/2003</td>\n",
              "      <td>Avon and Somerset</td>\n",
              "      <td>South West</td>\n",
              "      <td>Domestic burglary</td>\n",
              "      <td>14561</td>\n",
              "    </tr>\n",
              "    <tr>\n",
              "      <th>4</th>\n",
              "      <td>31/03/2003</td>\n",
              "      <td>Avon and Somerset</td>\n",
              "      <td>South West</td>\n",
              "      <td>Drug offences</td>\n",
              "      <td>2308</td>\n",
              "    </tr>\n",
              "  </tbody>\n",
              "</table>\n",
              "</div>"
            ],
            "text/plain": [
              "  12 months ending                PFA  ...                    Offence  Count\n",
              "0       31/03/2003  Avon and Somerset  ...   All other theft offences  25959\n",
              "1       31/03/2003  Avon and Somerset  ...              Bicycle theft   3090\n",
              "2       31/03/2003  Avon and Somerset  ...  Criminal damage and arson  26202\n",
              "3       31/03/2003  Avon and Somerset  ...          Domestic burglary  14561\n",
              "4       31/03/2003  Avon and Somerset  ...              Drug offences   2308\n",
              "\n",
              "[5 rows x 5 columns]"
            ]
          },
          "metadata": {
            "tags": []
          },
          "execution_count": 14
        }
      ]
    },
    {
      "cell_type": "code",
      "metadata": {
        "colab": {
          "base_uri": "https://localhost:8080/"
        },
        "id": "qGREeqTKFAU4",
        "outputId": "112b43c6-7281-4756-9c71-47c57f609a94"
      },
      "source": [
        "spark.sql(\"SELECT * \\\n",
        "                FROM tempview \\\n",
        "                WHERE Count > 1000 \").show(5)"
      ],
      "execution_count": 15,
      "outputs": [
        {
          "output_type": "stream",
          "text": [
            "+----------------+-----------------+----------+--------------------+-----+\n",
            "|12 months ending|              PFA|    Region|             Offence|Count|\n",
            "+----------------+-----------------+----------+--------------------+-----+\n",
            "|      31/03/2003|Avon and Somerset|South West|All other theft o...|25959|\n",
            "|      31/03/2003|Avon and Somerset|South West|       Bicycle theft| 3090|\n",
            "|      31/03/2003|Avon and Somerset|South West|Criminal damage a...|26202|\n",
            "|      31/03/2003|Avon and Somerset|South West|   Domestic burglary|14561|\n",
            "|      31/03/2003|Avon and Somerset|South West|       Drug offences| 2308|\n",
            "+----------------+-----------------+----------+--------------------+-----+\n",
            "only showing top 5 rows\n",
            "\n"
          ],
          "name": "stdout"
        }
      ]
    },
    {
      "cell_type": "code",
      "metadata": {
        "colab": {
          "base_uri": "https://localhost:8080/"
        },
        "id": "IAbAH2P-FAXP",
        "outputId": "7a4a1d25-e0ad-41ea-9538-cadaafd3d01b"
      },
      "source": [
        "spark.sql(\"SELECT Region, Offence \\\n",
        "                FROM tempview \\\n",
        "                WHERE Count > 20000 \").show(5)"
      ],
      "execution_count": 16,
      "outputs": [
        {
          "output_type": "stream",
          "text": [
            "+--------------------+--------------------+\n",
            "|              Region|             Offence|\n",
            "+--------------------+--------------------+\n",
            "|          South West|All other theft o...|\n",
            "|          South West|Criminal damage a...|\n",
            "|          South West|    Vehicle offences|\n",
            "|British Transport...|All other theft o...|\n",
            "|          South West|All other theft o...|\n",
            "+--------------------+--------------------+\n",
            "only showing top 5 rows\n",
            "\n"
          ],
          "name": "stdout"
        }
      ]
    },
    {
      "cell_type": "code",
      "metadata": {
        "colab": {
          "base_uri": "https://localhost:8080/",
          "height": 204
        },
        "id": "V7qY5N-TJJ7H",
        "outputId": "c3c4011e-4bf9-4923-859e-33fc9f57b840"
      },
      "source": [
        "# We can even do aggregated \"group by\" calls like this\n",
        "spark.sql(\"SELECT Region, sum(Count) AS Total \\\n",
        "                FROM tempview \\\n",
        "                GROUP BY Region\").limit(5).toPandas()"
      ],
      "execution_count": 17,
      "outputs": [
        {
          "output_type": "execute_result",
          "data": {
            "text/html": [
              "<div>\n",
              "<style scoped>\n",
              "    .dataframe tbody tr th:only-of-type {\n",
              "        vertical-align: middle;\n",
              "    }\n",
              "\n",
              "    .dataframe tbody tr th {\n",
              "        vertical-align: top;\n",
              "    }\n",
              "\n",
              "    .dataframe thead th {\n",
              "        text-align: right;\n",
              "    }\n",
              "</style>\n",
              "<table border=\"1\" class=\"dataframe\">\n",
              "  <thead>\n",
              "    <tr style=\"text-align: right;\">\n",
              "      <th></th>\n",
              "      <th>Region</th>\n",
              "      <th>Total</th>\n",
              "    </tr>\n",
              "  </thead>\n",
              "  <tbody>\n",
              "    <tr>\n",
              "      <th>0</th>\n",
              "      <td>Fraud: CIFAS</td>\n",
              "      <td>7678981</td>\n",
              "    </tr>\n",
              "    <tr>\n",
              "      <th>1</th>\n",
              "      <td>North West</td>\n",
              "      <td>30235732</td>\n",
              "    </tr>\n",
              "    <tr>\n",
              "      <th>2</th>\n",
              "      <td>British Transport Police</td>\n",
              "      <td>3029117</td>\n",
              "    </tr>\n",
              "    <tr>\n",
              "      <th>3</th>\n",
              "      <td>Wales</td>\n",
              "      <td>11137260</td>\n",
              "    </tr>\n",
              "    <tr>\n",
              "      <th>4</th>\n",
              "      <td>London</td>\n",
              "      <td>42691902</td>\n",
              "    </tr>\n",
              "  </tbody>\n",
              "</table>\n",
              "</div>"
            ],
            "text/plain": [
              "                     Region     Total\n",
              "0              Fraud: CIFAS   7678981\n",
              "1                North West  30235732\n",
              "2  British Transport Police   3029117\n",
              "3                     Wales  11137260\n",
              "4                    London  42691902"
            ]
          },
          "metadata": {
            "tags": []
          },
          "execution_count": 17
        }
      ]
    },
    {
      "cell_type": "markdown",
      "metadata": {
        "id": "izlKxE2yKVrI"
      },
      "source": [
        "# SQL Transformer"
      ]
    },
    {
      "cell_type": "code",
      "metadata": {
        "id": "YlJq4iMAJjQJ"
      },
      "source": [
        "from pyspark.ml.feature import SQLTransformer"
      ],
      "execution_count": 19,
      "outputs": []
    },
    {
      "cell_type": "code",
      "metadata": {
        "colab": {
          "base_uri": "https://localhost:8080/"
        },
        "id": "bXWMIYQfKXMa",
        "outputId": "0f5fa8bf-8ca2-4d15-ed23-178b6dc37350"
      },
      "source": [
        "# create an SQL call \n",
        "sqlTrans = SQLTransformer(\n",
        "    statement = \"SELECT PFA, Region, Offence FROM __THIS__\") \n",
        "# Note that \"__THIS__\" is a special word and cannot be change to __THAT__ for example\n",
        "# Also Note that a call like this won't work...\n",
        "# SQLTransformer(statement = \"SELECT PFA, Region, Offence FROM __THIS__\").show()\n",
        "\n",
        "# use it to transform our df object\n",
        "sqlTrans.transform(df).show(5)"
      ],
      "execution_count": 20,
      "outputs": [
        {
          "output_type": "stream",
          "text": [
            "+-----------------+----------+--------------------+\n",
            "|              PFA|    Region|             Offence|\n",
            "+-----------------+----------+--------------------+\n",
            "|Avon and Somerset|South West|All other theft o...|\n",
            "|Avon and Somerset|South West|       Bicycle theft|\n",
            "|Avon and Somerset|South West|Criminal damage a...|\n",
            "|Avon and Somerset|South West|Death or serious ...|\n",
            "|Avon and Somerset|South West|   Domestic burglary|\n",
            "+-----------------+----------+--------------------+\n",
            "only showing top 5 rows\n",
            "\n"
          ],
          "name": "stdout"
        }
      ]
    },
    {
      "cell_type": "code",
      "metadata": {
        "colab": {
          "base_uri": "https://localhost:8080/"
        },
        "id": "0ogfvaiEKXPN",
        "outputId": "3418ef3c-1f62-4a60-c098-537a2781d15a"
      },
      "source": [
        "type(sqlTrans)"
      ],
      "execution_count": 21,
      "outputs": [
        {
          "output_type": "execute_result",
          "data": {
            "text/plain": [
              "pyspark.ml.feature.SQLTransformer"
            ]
          },
          "metadata": {
            "tags": []
          },
          "execution_count": 21
        }
      ]
    },
    {
      "cell_type": "code",
      "metadata": {
        "colab": {
          "base_uri": "https://localhost:8080/"
        },
        "id": "BdT-7mb6KXWX",
        "outputId": "ac4414e2-273f-41ac-c907-6f7bf69e178a"
      },
      "source": [
        "# Note that this call will not work on the original dataframe \"crime\" when the variable \"Count\" is a string\n",
        "sqlTrans = SQLTransformer(statement = \"SELECT Offence, SUM(Count) as Total FROM __THIS__ GROUP BY Offence\") \n",
        "sqlTrans.transform(df).show(5)"
      ],
      "execution_count": 22,
      "outputs": [
        {
          "output_type": "stream",
          "text": [
            "+--------------------+--------+\n",
            "|             Offence|   Total|\n",
            "+--------------------+--------+\n",
            "|Public order offe...|10925676|\n",
            "|       Bicycle theft| 5297006|\n",
            "|Residential burglary| 1671469|\n",
            "|Violence without ...|16590158|\n",
            "|All other theft o...|30979393|\n",
            "+--------------------+--------+\n",
            "only showing top 5 rows\n",
            "\n"
          ],
          "name": "stdout"
        }
      ]
    },
    {
      "cell_type": "code",
      "metadata": {
        "colab": {
          "base_uri": "https://localhost:8080/"
        },
        "id": "iLCM0DT9KXYm",
        "outputId": "ec71c3a8-c7db-4186-c216-d02b8dcfacf2"
      },
      "source": [
        "sqlTrans = SQLTransformer(statement = \"SELECT PFA, Offence FROM __THIS__ WHERE Count > 1000\") \n",
        "sqlTrans.transform(df).show(5)"
      ],
      "execution_count": 23,
      "outputs": [
        {
          "output_type": "stream",
          "text": [
            "+-----------------+--------------------+\n",
            "|              PFA|             Offence|\n",
            "+-----------------+--------------------+\n",
            "|Avon and Somerset|All other theft o...|\n",
            "|Avon and Somerset|       Bicycle theft|\n",
            "|Avon and Somerset|Criminal damage a...|\n",
            "|Avon and Somerset|   Domestic burglary|\n",
            "|Avon and Somerset|       Drug offences|\n",
            "+-----------------+--------------------+\n",
            "only showing top 5 rows\n",
            "\n"
          ],
          "name": "stdout"
        }
      ]
    },
    {
      "cell_type": "code",
      "metadata": {
        "id": "mip_hmM4KXbv"
      },
      "source": [
        ""
      ],
      "execution_count": null,
      "outputs": []
    },
    {
      "cell_type": "code",
      "metadata": {
        "colab": {
          "base_uri": "https://localhost:8080/"
        },
        "id": "hwmjZmbXKXd7",
        "outputId": "d9f47a95-ba9b-44ae-d6ac-7285d6cb6e2d"
      },
      "source": [
        "# first we need to read in the library\n",
        "from pyspark.sql.functions import expr\n",
        "# Method 1 \n",
        "df.withColumn(\"percent\", expr(\"round((count/244720928)*100,2)\")).show(5)"
      ],
      "execution_count": 24,
      "outputs": [
        {
          "output_type": "stream",
          "text": [
            "+----------------+-----------------+----------+--------------------+-----+-------+\n",
            "|12 months ending|              PFA|    Region|             Offence|Count|percent|\n",
            "+----------------+-----------------+----------+--------------------+-----+-------+\n",
            "|      31/03/2003|Avon and Somerset|South West|All other theft o...|25959|   0.01|\n",
            "|      31/03/2003|Avon and Somerset|South West|       Bicycle theft| 3090|    0.0|\n",
            "|      31/03/2003|Avon and Somerset|South West|Criminal damage a...|26202|   0.01|\n",
            "|      31/03/2003|Avon and Somerset|South West|Death or serious ...|    2|    0.0|\n",
            "|      31/03/2003|Avon and Somerset|South West|   Domestic burglary|14561|   0.01|\n",
            "+----------------+-----------------+----------+--------------------+-----+-------+\n",
            "only showing top 5 rows\n",
            "\n"
          ],
          "name": "stdout"
        }
      ]
    },
    {
      "cell_type": "code",
      "metadata": {
        "colab": {
          "base_uri": "https://localhost:8080/"
        },
        "id": "01XTXjMeKXgZ",
        "outputId": "9ee140e4-3a51-4d02-e6ea-ad2dc0e746e0"
      },
      "source": [
        "# Method 2\n",
        "df.select(\"*\", expr(\"round((count/244720928)*100,2) AS percent\")).show(5)"
      ],
      "execution_count": 25,
      "outputs": [
        {
          "output_type": "stream",
          "text": [
            "+----------------+-----------------+----------+--------------------+-----+-------+\n",
            "|12 months ending|              PFA|    Region|             Offence|Count|percent|\n",
            "+----------------+-----------------+----------+--------------------+-----+-------+\n",
            "|      31/03/2003|Avon and Somerset|South West|All other theft o...|25959|   0.01|\n",
            "|      31/03/2003|Avon and Somerset|South West|       Bicycle theft| 3090|    0.0|\n",
            "|      31/03/2003|Avon and Somerset|South West|Criminal damage a...|26202|   0.01|\n",
            "|      31/03/2003|Avon and Somerset|South West|Death or serious ...|    2|    0.0|\n",
            "|      31/03/2003|Avon and Somerset|South West|   Domestic burglary|14561|   0.01|\n",
            "+----------------+-----------------+----------+--------------------+-----+-------+\n",
            "only showing top 5 rows\n",
            "\n"
          ],
          "name": "stdout"
        }
      ]
    },
    {
      "cell_type": "code",
      "metadata": {
        "colab": {
          "base_uri": "https://localhost:8080/"
        },
        "id": "QTECHo4BWUtN",
        "outputId": "754e4451-f43f-42e7-bd96-96edc69373a9"
      },
      "source": [
        "# Method 3\n",
        "df.selectExpr(\"*\", \"round((count/244720928)*100,2) AS percent\").show(5)"
      ],
      "execution_count": 26,
      "outputs": [
        {
          "output_type": "stream",
          "text": [
            "+----------------+-----------------+----------+--------------------+-----+-------+\n",
            "|12 months ending|              PFA|    Region|             Offence|Count|percent|\n",
            "+----------------+-----------------+----------+--------------------+-----+-------+\n",
            "|      31/03/2003|Avon and Somerset|South West|All other theft o...|25959|   0.01|\n",
            "|      31/03/2003|Avon and Somerset|South West|       Bicycle theft| 3090|    0.0|\n",
            "|      31/03/2003|Avon and Somerset|South West|Criminal damage a...|26202|   0.01|\n",
            "|      31/03/2003|Avon and Somerset|South West|Death or serious ...|    2|    0.0|\n",
            "|      31/03/2003|Avon and Somerset|South West|   Domestic burglary|14561|   0.01|\n",
            "+----------------+-----------------+----------+--------------------+-----+-------+\n",
            "only showing top 5 rows\n",
            "\n"
          ],
          "name": "stdout"
        }
      ]
    }
  ]
}