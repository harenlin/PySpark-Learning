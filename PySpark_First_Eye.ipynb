{
  "nbformat": 4,
  "nbformat_minor": 0,
  "metadata": {
    "colab": {
      "name": "PySpark First Eye.ipynb",
      "provenance": [],
      "authorship_tag": "ABX9TyOVVuS0lO/EoxyLCdSc/aXo",
      "include_colab_link": true
    },
    "kernelspec": {
      "name": "python3",
      "display_name": "Python 3"
    },
    "language_info": {
      "name": "python"
    },
    "accelerator": "GPU"
  },
  "cells": [
    {
      "cell_type": "markdown",
      "metadata": {
        "id": "view-in-github",
        "colab_type": "text"
      },
      "source": [
        "<a href=\"https://colab.research.google.com/github/harenlin/PySpark-Learning/blob/main/PySpark_First_Eye.ipynb\" target=\"_parent\"><img src=\"https://colab.research.google.com/assets/colab-badge.svg\" alt=\"Open In Colab\"/></a>"
      ]
    },
    {
      "cell_type": "code",
      "metadata": {
        "colab": {
          "base_uri": "https://localhost:8080/"
        },
        "id": "33-5aM3m84yG",
        "outputId": "6fa261ee-0b62-4e49-d368-7df5ab6cbd8d"
      },
      "source": [
        "!pip install pyspark"
      ],
      "execution_count": null,
      "outputs": [
        {
          "output_type": "stream",
          "text": [
            "Requirement already satisfied: pyspark in /usr/local/lib/python3.7/dist-packages (3.1.2)\n",
            "Requirement already satisfied: py4j==0.10.9 in /usr/local/lib/python3.7/dist-packages (from pyspark) (0.10.9)\n"
          ],
          "name": "stdout"
        }
      ]
    },
    {
      "cell_type": "markdown",
      "metadata": {
        "id": "c5-h_Qn2lhht"
      },
      "source": [
        "# PySpark Hands-on Learning"
      ]
    },
    {
      "cell_type": "markdown",
      "metadata": {
        "id": "b9W3V6Rflmcy"
      },
      "source": [
        "Before you do anything, all you need to do is init the session."
      ]
    },
    {
      "cell_type": "code",
      "metadata": {
        "colab": {
          "base_uri": "https://localhost:8080/",
          "height": 232
        },
        "id": "T3f4grVOllah",
        "outputId": "baf6707f-13fe-43a0-ec84-3dcdc8df22a6"
      },
      "source": [
        "import pyspark\n",
        "from pyspark.sql import SparkSession\n",
        "spark = SparkSession.builder.appName('PySpark').getOrCreate()\n",
        "spark"
      ],
      "execution_count": null,
      "outputs": [
        {
          "output_type": "execute_result",
          "data": {
            "text/html": [
              "\n",
              "            <div>\n",
              "                <p><b>SparkSession - in-memory</b></p>\n",
              "                \n",
              "        <div>\n",
              "            <p><b>SparkContext</b></p>\n",
              "\n",
              "            <p><a href=\"http://1426aa13e5d8:4040\">Spark UI</a></p>\n",
              "\n",
              "            <dl>\n",
              "              <dt>Version</dt>\n",
              "                <dd><code>v3.1.2</code></dd>\n",
              "              <dt>Master</dt>\n",
              "                <dd><code>local[*]</code></dd>\n",
              "              <dt>AppName</dt>\n",
              "                <dd><code>PySpark</code></dd>\n",
              "            </dl>\n",
              "        </div>\n",
              "        \n",
              "            </div>\n",
              "        "
            ],
            "text/plain": [
              "<pyspark.sql.session.SparkSession at 0x7ffb2de3d490>"
            ]
          },
          "metadata": {
            "tags": []
          },
          "execution_count": 45
        }
      ]
    },
    {
      "cell_type": "markdown",
      "metadata": {
        "id": "G02D77MPmFlz"
      },
      "source": [
        "Create a Spark Dataframe (spark.createDataFrame)"
      ]
    },
    {
      "cell_type": "code",
      "metadata": {
        "id": "dqcsjq3wl5HJ"
      },
      "source": [
        "# initalize list of lists (same as in python)\n",
        "df = [['Haren', 22], ['Jimmy', 30], ['Andy', 30]]\n",
        "# create the pandas dataframe\n",
        "df = spark.createDataFrame(df, ['Name', 'Age'])"
      ],
      "execution_count": null,
      "outputs": []
    },
    {
      "cell_type": "code",
      "metadata": {
        "colab": {
          "base_uri": "https://localhost:8080/"
        },
        "id": "VKyCAlXSmVvn",
        "outputId": "6917108a-af6c-4606-fa23-82dceddca830"
      },
      "source": [
        "df.show()"
      ],
      "execution_count": null,
      "outputs": [
        {
          "output_type": "stream",
          "text": [
            "+-----+---+\n",
            "| Name|Age|\n",
            "+-----+---+\n",
            "|Haren| 22|\n",
            "|Jimmy| 30|\n",
            "| Andy| 30|\n",
            "+-----+---+\n",
            "\n"
          ],
          "name": "stdout"
        }
      ]
    },
    {
      "cell_type": "code",
      "metadata": {
        "colab": {
          "base_uri": "https://localhost:8080/",
          "height": 160
        },
        "id": "ySz0zrevl5JN",
        "outputId": "b59cca00-607f-49c3-b66e-4b65377c0e17"
      },
      "source": [
        "# if you want it to be seen like pandas df\n",
        "df.toPandas()"
      ],
      "execution_count": null,
      "outputs": [
        {
          "output_type": "execute_result",
          "data": {
            "text/html": [
              "<div>\n",
              "<style scoped>\n",
              "    .dataframe tbody tr th:only-of-type {\n",
              "        vertical-align: middle;\n",
              "    }\n",
              "\n",
              "    .dataframe tbody tr th {\n",
              "        vertical-align: top;\n",
              "    }\n",
              "\n",
              "    .dataframe thead th {\n",
              "        text-align: right;\n",
              "    }\n",
              "</style>\n",
              "<table border=\"1\" class=\"dataframe\">\n",
              "  <thead>\n",
              "    <tr style=\"text-align: right;\">\n",
              "      <th></th>\n",
              "      <th>Name</th>\n",
              "      <th>Age</th>\n",
              "    </tr>\n",
              "  </thead>\n",
              "  <tbody>\n",
              "    <tr>\n",
              "      <th>0</th>\n",
              "      <td>Haren</td>\n",
              "      <td>22</td>\n",
              "    </tr>\n",
              "    <tr>\n",
              "      <th>1</th>\n",
              "      <td>Jimmy</td>\n",
              "      <td>30</td>\n",
              "    </tr>\n",
              "    <tr>\n",
              "      <th>2</th>\n",
              "      <td>Andy</td>\n",
              "      <td>30</td>\n",
              "    </tr>\n",
              "  </tbody>\n",
              "</table>\n",
              "</div>"
            ],
            "text/plain": [
              "    Name  Age\n",
              "0  Haren   22\n",
              "1  Jimmy   30\n",
              "2   Andy   30"
            ]
          },
          "metadata": {
            "tags": []
          },
          "execution_count": 48
        }
      ]
    },
    {
      "cell_type": "code",
      "metadata": {
        "colab": {
          "base_uri": "https://localhost:8080/"
        },
        "id": "l9gv9iKKmmIe",
        "outputId": "ef1bc9ba-e9dd-4fcc-b09e-edcc12c91039"
      },
      "source": [
        "df.columns"
      ],
      "execution_count": null,
      "outputs": [
        {
          "output_type": "execute_result",
          "data": {
            "text/plain": [
              "['Name', 'Age']"
            ]
          },
          "metadata": {
            "tags": []
          },
          "execution_count": 49
        }
      ]
    },
    {
      "cell_type": "code",
      "metadata": {
        "colab": {
          "base_uri": "https://localhost:8080/"
        },
        "id": "CUx1UhRQmmKk",
        "outputId": "48afe2ea-f1d8-462f-afb7-5ec25c25a4fd"
      },
      "source": [
        "# how many rows are int the DataFrame\n",
        "df.count()"
      ],
      "execution_count": null,
      "outputs": [
        {
          "output_type": "execute_result",
          "data": {
            "text/plain": [
              "3"
            ]
          },
          "metadata": {
            "tags": []
          },
          "execution_count": 50
        }
      ]
    },
    {
      "cell_type": "markdown",
      "metadata": {
        "id": "X_dhlyIHnRVc"
      },
      "source": [
        "# Read in data"
      ]
    },
    {
      "cell_type": "code",
      "metadata": {
        "colab": {
          "base_uri": "https://localhost:8080/"
        },
        "id": "Mq8TfOLTl5NR",
        "outputId": "6fb68d9a-eef4-41c0-e63a-3618fe27f9e0"
      },
      "source": [
        "path = \"./students.csv\"\n",
        "df = spark.read.csv(path, header=True)\n",
        "df"
      ],
      "execution_count": null,
      "outputs": [
        {
          "output_type": "execute_result",
          "data": {
            "text/plain": [
              "DataFrame[gender: string, race/ethnicity: string, parental level of education: string, lunch: string, test preparation course: string, math score: string, reading score: string, writing score: string]"
            ]
          },
          "metadata": {
            "tags": []
          },
          "execution_count": 51
        }
      ]
    },
    {
      "cell_type": "code",
      "metadata": {
        "colab": {
          "base_uri": "https://localhost:8080/"
        },
        "id": "pRlbyTAInB-t",
        "outputId": "ddc6c904-69fd-467b-88f5-522f2456ab11"
      },
      "source": [
        "df.printSchema()"
      ],
      "execution_count": null,
      "outputs": [
        {
          "output_type": "stream",
          "text": [
            "root\n",
            " |-- gender: string (nullable = true)\n",
            " |-- race/ethnicity: string (nullable = true)\n",
            " |-- parental level of education: string (nullable = true)\n",
            " |-- lunch: string (nullable = true)\n",
            " |-- test preparation course: string (nullable = true)\n",
            " |-- math score: string (nullable = true)\n",
            " |-- reading score: string (nullable = true)\n",
            " |-- writing score: string (nullable = true)\n",
            "\n"
          ],
          "name": "stdout"
        }
      ]
    },
    {
      "cell_type": "code",
      "metadata": {
        "colab": {
          "base_uri": "https://localhost:8080/"
        },
        "id": "eKzrv_-pl5PS",
        "outputId": "b1f5bb65-c1ad-4144-f978-54883ec3a77b"
      },
      "source": [
        "df.show(5)"
      ],
      "execution_count": null,
      "outputs": [
        {
          "output_type": "stream",
          "text": [
            "+------+--------------+---------------------------+------------+-----------------------+----------+-------------+-------------+\n",
            "|gender|race/ethnicity|parental level of education|       lunch|test preparation course|math score|reading score|writing score|\n",
            "+------+--------------+---------------------------+------------+-----------------------+----------+-------------+-------------+\n",
            "|female|       group B|          bachelor's degree|    standard|                   none|        72|           72|           74|\n",
            "|female|       group C|               some college|    standard|              completed|        69|           90|           88|\n",
            "|female|       group B|            master's degree|    standard|                   none|        90|           95|           93|\n",
            "|  male|       group A|         associate's degree|free/reduced|                   none|        47|           57|           44|\n",
            "|  male|       group C|               some college|    standard|                   none|        76|           78|           75|\n",
            "+------+--------------+---------------------------+------------+-----------------------+----------+-------------+-------------+\n",
            "only showing top 5 rows\n",
            "\n"
          ],
          "name": "stdout"
        }
      ]
    },
    {
      "cell_type": "markdown",
      "metadata": {
        "id": "fMkELifgnrdb"
      },
      "source": [
        "# Aggregate Data"
      ]
    },
    {
      "cell_type": "code",
      "metadata": {
        "colab": {
          "base_uri": "https://localhost:8080/"
        },
        "id": "UJfQDqevl5RY",
        "outputId": "4f518008-2f03-4d30-80a5-fdbf66e4ba2f"
      },
      "source": [
        "# the method is similar to pandas but you can only do one metric at a time\n",
        "df.groupBy('gender').agg({'math score': 'mean'}).show()"
      ],
      "execution_count": null,
      "outputs": [
        {
          "output_type": "stream",
          "text": [
            "+------+------------------+\n",
            "|gender|   avg(math score)|\n",
            "+------+------------------+\n",
            "|female|63.633204633204635|\n",
            "|  male| 68.72821576763485|\n",
            "+------+------------------+\n",
            "\n"
          ],
          "name": "stdout"
        }
      ]
    },
    {
      "cell_type": "code",
      "metadata": {
        "colab": {
          "base_uri": "https://localhost:8080/"
        },
        "id": "iyu__vo9no1-",
        "outputId": "803ff9ae-37d2-489d-e06e-f2ee9fbbb638"
      },
      "source": [
        "df.groupBy('gender').agg({'math score': 'min'}).show()"
      ],
      "execution_count": null,
      "outputs": [
        {
          "output_type": "stream",
          "text": [
            "+------+---------------+\n",
            "|gender|min(math score)|\n",
            "+------+---------------+\n",
            "|female|              0|\n",
            "|  male|            100|\n",
            "+------+---------------+\n",
            "\n"
          ],
          "name": "stdout"
        }
      ]
    },
    {
      "cell_type": "code",
      "metadata": {
        "colab": {
          "base_uri": "https://localhost:8080/"
        },
        "id": "oJGVChjqno4P",
        "outputId": "c4570b92-47fd-49e3-c65a-0fbf9affadd9"
      },
      "source": [
        "from pyspark.sql import functions as F\n",
        "df.groupBy('gender').agg(F.min('math score'), F.max('math score'), F.avg('math score')).show()"
      ],
      "execution_count": null,
      "outputs": [
        {
          "output_type": "stream",
          "text": [
            "+------+---------------+---------------+------------------+\n",
            "|gender|min(math score)|max(math score)|   avg(math score)|\n",
            "+------+---------------+---------------+------------------+\n",
            "|female|              0|             99|63.633204633204635|\n",
            "|  male|            100|             99| 68.72821576763485|\n",
            "+------+---------------+---------------+------------------+\n",
            "\n"
          ],
          "name": "stdout"
        }
      ]
    },
    {
      "cell_type": "markdown",
      "metadata": {
        "id": "Leyumtneomoq"
      },
      "source": [
        "# Spark Immutability \n",
        "If you make a change to a dataframe like adding a col or changing any of the values in the dataframe using the same naming convetion, it will generate a new dataframe (with a new unique ID) instead of updating the existing one."
      ]
    },
    {
      "cell_type": "code",
      "metadata": {
        "colab": {
          "base_uri": "https://localhost:8080/"
        },
        "id": "UHu_tAQVomSA",
        "outputId": "0aea6601-0e94-4623-93a6-5cbc6efc303b"
      },
      "source": [
        "df.rdd.id() # check the existing dataframe id"
      ],
      "execution_count": null,
      "outputs": [
        {
          "output_type": "execute_result",
          "data": {
            "text/plain": [
              "163"
            ]
          },
          "metadata": {
            "tags": []
          },
          "execution_count": 57
        }
      ]
    },
    {
      "cell_type": "code",
      "metadata": {
        "colab": {
          "base_uri": "https://localhost:8080/"
        },
        "id": "qKDopM5Yno6p",
        "outputId": "88c2fbc0-a667-420d-b4f0-6e0ddcf13b45"
      },
      "source": [
        "# even if duplicate the dataframe, the id remains the same\n",
        "df2 = df\n",
        "df2.rdd.id()"
      ],
      "execution_count": null,
      "outputs": [
        {
          "output_type": "execute_result",
          "data": {
            "text/plain": [
              "163"
            ]
          },
          "metadata": {
            "tags": []
          },
          "execution_count": 58
        }
      ]
    },
    {
      "cell_type": "code",
      "metadata": {
        "colab": {
          "base_uri": "https://localhost:8080/"
        },
        "id": "SViL3BqIno85",
        "outputId": "15e27c6b-5f23-4101-fb09-43c0fd434500"
      },
      "source": [
        "# the id change when we make a change\n",
        "df = df.withColumn('new_col', df['math score']*2)\n",
        "df.rdd.id()"
      ],
      "execution_count": null,
      "outputs": [
        {
          "output_type": "execute_result",
          "data": {
            "text/plain": [
              "169"
            ]
          },
          "metadata": {
            "tags": []
          },
          "execution_count": 59
        }
      ]
    },
    {
      "cell_type": "code",
      "metadata": {
        "colab": {
          "base_uri": "https://localhost:8080/"
        },
        "id": "VNorjcmvqp65",
        "outputId": "cf30e22d-8c6d-4228-c90b-46e7cace6276"
      },
      "source": [
        "print(df)"
      ],
      "execution_count": null,
      "outputs": [
        {
          "output_type": "stream",
          "text": [
            "DataFrame[gender: string, race/ethnicity: string, parental level of education: string, lunch: string, test preparation course: string, math score: string, reading score: string, writing score: string, new_col: double]\n"
          ],
          "name": "stdout"
        }
      ]
    },
    {
      "cell_type": "markdown",
      "metadata": {
        "id": "Snrfd60sp6QT"
      },
      "source": [
        "# Spark's Lazy Computation\n",
        "As the name itself indicates its definition, lazy evaluation in Spark means that the execution will not start until it absolutely has to."
      ]
    },
    {
      "cell_type": "code",
      "metadata": {
        "id": "DbWRhRCDpqXL"
      },
      "source": [
        "# this kinds of commands will not actually be run immediately\n",
        "df = df.withColumn('new_col', df['math score']*2)"
      ],
      "execution_count": null,
      "outputs": []
    },
    {
      "cell_type": "code",
      "metadata": {
        "colab": {
          "base_uri": "https://localhost:8080/"
        },
        "id": "S9CZ_ZcrpqaB",
        "outputId": "02159fb2-b939-4513-ea1a-7771956deb8e"
      },
      "source": [
        "# until we execute a command like this\n",
        "print(df)\n",
        "print(df.rdd.id())"
      ],
      "execution_count": null,
      "outputs": [
        {
          "output_type": "stream",
          "text": [
            "DataFrame[gender: string, race/ethnicity: string, parental level of education: string, lunch: string, test preparation course: string, math score: string, reading score: string, writing score: string, new_col: double]\n",
            "175\n"
          ],
          "name": "stdout"
        }
      ]
    }
  ]
}